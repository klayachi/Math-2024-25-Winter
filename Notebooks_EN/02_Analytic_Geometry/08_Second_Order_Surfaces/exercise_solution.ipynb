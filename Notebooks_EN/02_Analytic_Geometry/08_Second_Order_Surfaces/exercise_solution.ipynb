{
  "nbformat": 4,
  "nbformat_minor": 0,
  "metadata": {
    "colab": {
      "provenance": [],
      "include_colab_link": true
    },
    "kernelspec": {
      "name": "python3",
      "display_name": "Python 3"
    },
    "language_info": {
      "name": "python"
    }
  },
  "cells": [
    {
      "cell_type": "markdown",
      "metadata": {
        "id": "view-in-github",
        "colab_type": "text"
      },
      "source": [
        "<a href=\"https://colab.research.google.com/github/klayachi/Math-2024-25-Winter/blob/main/Notebooks_EN/02_Analytic_Geometry/08_Second_Order_Surfaces/exercise_solution.ipynb\" target=\"_parent\"><img src=\"https://colab.research.google.com/assets/colab-badge.svg\" alt=\"Open In Colab\"/></a>"
      ]
    },
    {
      "cell_type": "markdown",
      "source": [
        "# Tasks related to second-order surfaces\n",
        "\n",
        "**Visualize each task.** - Python, GeoGebra, Wolfram Alpha, ...\n",
        "\n",
        "* Write the equation of a sphere with center at point $P=(1,2,3)$ and radius $r=3$.\n",
        "* Do the spheres with equations $x^2 + y^2 + z^2 = 1$ and $x^2 + y^2 + z^2 = 2$ have any common points?\n",
        "* What curve in space is formed by the intersection of the sphere $x^2 + y^2 + z^2 = 1$ with the sphere $(x-1)^2 + y^2 + z^2 = 1$? Find the equation of this curve.\n",
        "* Write the equation of the tangent plane to the paraboloid $z=(x-1)^2+y^2+1$ at point $P=(1,0,1)$."
      ],
      "metadata": {
        "id": "6-kVkPFog8NZ"
      }
    },
    {
      "cell_type": "markdown",
      "source": [
        "#**HomeWork :**"
      ],
      "metadata": {
        "id": "ram613v-2BcL"
      }
    },
    {
      "cell_type": "markdown",
      "source": [
        "## Task 1: Equation of a Sphere with Center at $P=(1, 2, 3)$ and Radius $r=3$\n",
        "\n",
        "1. **General Equation of a Sphere**:\n",
        "   The general equation of a sphere with center $(x_0, y_0, z_0)$ and radius $r$ is:\n",
        "   $$\n",
        "   (x - x_0)^2 + (y - y_0)^2 + (z - z_0)^2 = r^2\n",
        "   $$\n",
        "\n",
        "2. **Substitute Values**:\n",
        "   For center $P = (1, 2, 3)$ and radius $r = 3$, the equation becomes:\n",
        "   $$\n",
        "   (x - 1)^2 + (y - 2)^2 + (z - 3)^2 = 9\n",
        "   $$\n",
        "\n",
        "**Final Answer**:\n",
        "$$\n",
        "(x - 1)^2 + (y - 2)^2 + (z - 3)^2 = 9\n",
        "$$\n",
        "\n",
        "---\n",
        "\n",
        "## Task 2: Do the Spheres $x^2 + y^2 + z^2 = 1$ and $x^2 + y^2 + z^2 = 2$ Have Any Common Points?\n",
        "\n",
        "1. **Compare the Equations**:\n",
        "   - Sphere 1: $x^2 + y^2 + z^2 = 1$\n",
        "   - Sphere 2: $x^2 + y^2 + z^2 = 2$\n",
        "\n",
        "2. **Analysis**:\n",
        "   Since the two equations describe spheres with different radii ($r = 1$ for the first sphere and $r = \\sqrt{2}$ for the second sphere), they are concentric but have different radii.\n",
        "\n",
        "3. **Conclusion**:\n",
        "   These spheres do **not** intersect because they are concentric spheres with different radii.\n",
        "\n",
        "**Final Answer**:\n",
        "No, the spheres do not have any common points.\n",
        "\n",
        "---\n",
        "\n",
        "## Task 3: Curve Formed by the Intersection of the Spheres $x^2 + y^2 + z^2 = 1$ and $(x - 1)^2 + y^2 + z^2 = 1$\n",
        "\n",
        "1. **Equation of Intersection**:\n",
        "   The intersection of two spheres occurs along a circle. To find the equation of this curve, we solve the system of equations:\n",
        "   - Sphere 1: $x^2 + y^2 + z^2 = 1$\n",
        "   - Sphere 2: $(x - 1)^2 + y^2 + z^2 = 1$\n",
        "\n",
        "2. **Simplify the Second Equation**:\n",
        "   Expand the second sphere's equation:\n",
        "   $$\n",
        "   (x - 1)^2 + y^2 + z^2 = 1\n",
        "   $$\n",
        "   $$\n",
        "   x^2 - 2x + 1 + y^2 + z^2 = 1\n",
        "   $$\n",
        "   Substitute $x^2 + y^2 + z^2 = 1$ from the first sphere equation:\n",
        "   $$\n",
        "   1 - 2x + 1 = 1\n",
        "   $$\n",
        "   Simplifying:\n",
        "   $$\n",
        "   -2x + 2 = 0\n",
        "   $$\n",
        "\n",
        "3. **Solve for $x$**:\n",
        "   $$\n",
        "   x = 1\n",
        "   $$\n",
        "\n",
        "4. **Substitute into the First Sphere's Equation**:\n",
        "   Substituting $x = 1$ into $x^2 + y^2 + z^2 = 1$:\n",
        "   $$\n",
        "   1^2 + y^2 + z^2 = 1\n",
        "   $$\n",
        "   $$\n",
        "   y^2 + z^2 = 0\n",
        "   $$\n",
        "\n",
        "5. **Conclusion**:\n",
        "   The only solution is $y = 0$ and $z = 0$, so the intersection is a single point at $(1, 0, 0)$.\n",
        "\n",
        "**Final Answer**:\n",
        "The spheres intersect at the point $(1, 0, 0)$.\n",
        "\n",
        "---\n",
        "\n",
        "## Task 4: Equation of the Tangent Plane to the Paraboloid $z = (x - 1)^2 + y^2 + 1$ at Point $P = (1, 0, 1)$\n",
        "\n",
        "1. **General Formula for the Tangent Plane**:\n",
        "   The general equation of the tangent plane to a surface $z = f(x, y)$ at a point $(x_0, y_0, z_0)$ is:\n",
        "   $$\n",
        "   z - z_0 = \\frac{\\partial f}{\\partial x}(x_0, y_0)(x - x_0) + \\frac{\\partial f}{\\partial y}(x_0, y_0)(y - y_0)\n",
        "   $$\n",
        "\n",
        "2. **Find the Partial Derivatives**:\n",
        "   The given surface is $z = (x - 1)^2 + y^2 + 1$. Compute the partial derivatives:\n",
        "   - $\\frac{\\partial z}{\\partial x} = 2(x - 1)$\n",
        "   - $\\frac{\\partial z}{\\partial y} = 2y$\n",
        "\n",
        "3. **Evaluate at Point $P = (1, 0, 1)$**:\n",
        "   - $\\frac{\\partial z}{\\partial x}(1, 0) = 2(1 - 1) = 0$\n",
        "   - $\\frac{\\partial z}{\\partial y}(1, 0) = 2(0) = 0$\n",
        "\n",
        "4. **Tangent Plane Equation**:\n",
        "   The tangent plane at $(1, 0, 1)$ is:\n",
        "   $$\n",
        "   z - 1 = 0(x - 1) + 0(y - 0)\n",
        "   $$\n",
        "   Simplifying:\n",
        "   $$\n",
        "   z = 1\n",
        "   $$\n",
        "\n",
        "**Final Answer**:\n",
        "The equation of the tangent plane is:\n",
        "$$\n",
        "z = 1\n",
        "$$\n",
        "\n",
        "---\n",
        "\n"
      ],
      "metadata": {
        "id": "yOhmq7qtolaL"
      }
    }
  ]
}