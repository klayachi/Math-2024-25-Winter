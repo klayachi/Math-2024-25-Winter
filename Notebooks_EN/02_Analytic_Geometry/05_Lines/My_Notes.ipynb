{
  "nbformat": 4,
  "nbformat_minor": 0,
  "metadata": {
    "colab": {
      "provenance": [],
      "include_colab_link": true
    },
    "kernelspec": {
      "name": "python3",
      "display_name": "Python 3"
    },
    "language_info": {
      "name": "python"
    }
  },
  "cells": [
    {
      "cell_type": "markdown",
      "metadata": {
        "id": "view-in-github",
        "colab_type": "text"
      },
      "source": [
        "<a href=\"https://colab.research.google.com/github/klayachi/Math-2024-25-Winter/blob/main/Notebooks_EN/02_Analytic_Geometry/05_Lines/My_Notes.ipynb\" target=\"_parent\"><img src=\"https://colab.research.google.com/assets/colab-badge.svg\" alt=\"Open In Colab\"/></a>"
      ]
    },
    {
      "cell_type": "markdown",
      "source": [
        "#Tasks related to equations of lines on a plane\n",
        "##**Visualize each task:** - Python, GeoGebra, Wolfram Alpha, ...\n",
        "\n",
        "- The line passes through points A(1,2) and B(3,4). Find the equation of the line.\n",
        "\n",
        "- The line passes through point A(1,2) and is parallel to the line y=2x+3. Find the equation of the line.\n",
        "\n",
        "- The line passes through point A(1,2) and is perpendicular to the line y=2x+3. Find the equation of the line.\n",
        "\n",
        "- We have two lines y=2x+3 and y=3x+2. Find the intersection point of these lines and calculate the angle between them.\n",
        "\n",
        "- Write the equation of the line passing through point A(1,2) and parallel to the vector v→=[2,3].\n",
        "\n",
        "- We have the line y=2x+3. Find an example of a line perpendicular and parallel to it.\n",
        "\n",
        "- We have the line y=2x+3 and point A(1,2). Find the distance from point A to the line.\n",
        "\n",
        "- The line intersects the coordinate axes at points A(2,0) and B(0,3). Find the equation of the line.\n",
        "\n",
        "- Calculate the angle between the line y=x+3 and the Ox axis.\n",
        "\n",
        "- Provide a vector perpendicular to the line x+y+1=0.\n"
      ],
      "metadata": {
        "id": "6-kVkPFog8NZ"
      }
    },
    {
      "cell_type": "markdown",
      "source": [
        "#**HomeWork :**"
      ],
      "metadata": {
        "id": "ram613v-2BcL"
      }
    },
    {
      "cell_type": "markdown",
      "source": [
        "#**Deriving the Equation of a Line Passing Through Two Points**"
      ],
      "metadata": {
        "id": "K8WiPs532KUS"
      }
    },
    {
      "cell_type": "markdown",
      "source": [
        "## Step 1: Compute the Slope of the Line\n",
        "The slope of a line, denoted by $m$, is defined as the ratio of the difference in the $y$-coordinates to the difference in the $x$-coordinates of two points $(x_1, y_1)$ and $(x_2, y_2)$. Mathematically:\n",
        "\n",
        "$$\n",
        "m = \\frac{y_2 - y_1}{x_2 - x_1}\n",
        "$$\n",
        "\n",
        "For the points $A(1, 2)$ and $B(3, 4)$, substitute $x_1 = 1$, $y_1 = 2$, $x_2 = 3$, and $y_2 = 4$:\n",
        "\n",
        "$$\n",
        "m = \\frac{4 - 2}{3 - 1} = \\frac{2}{2} = 1\n",
        "$$\n",
        "\n",
        "Thus, the slope of the line is $m = 1$.\n",
        "\n",
        "---\n",
        "\n",
        "## Step 2: Use the Point-Slope Form of the Line\n",
        "The equation of a line can be expressed in the point-slope form:\n",
        "\n",
        "$$\n",
        "y - y_1 = m(x - x_1)\n",
        "$$\n",
        "\n",
        "Substituting $m = 1$, $x_1 = 1$, and $y_1 = 2$ into the formula:\n",
        "\n",
        "$$\n",
        "y - 2 = 1(x - 1)\n",
        "$$\n",
        "\n",
        "---\n",
        "\n",
        "## Step 3: Simplify to Obtain the Slope-Intercept Form\n",
        "Simplify the equation to express it in the slope-intercept form $y = mx + c$, where $c$ is the $y$-intercept.\n",
        "\n",
        "Expand and rearrange:\n",
        "\n",
        "$$\n",
        "y - 2 = x - 1\n",
        "$$\n",
        "\n",
        "Add $2$ to both sides:\n",
        "\n",
        "$$\n",
        "y = x + 1\n",
        "$$\n",
        "\n",
        "---\n",
        "\n",
        "## Step 4: Verify the Result\n",
        "To confirm the correctness of the derived equation, substitute the coordinates of both points $A(1, 2)$ and $B(3, 4)$ into $y = x + 1$.\n",
        "\n",
        "1. For $A(1, 2)$:\n",
        "   $$ y = 1 + 1 = 2 $$\n",
        "   This holds true.\n",
        "\n",
        "2. For $B(3, 4)$:\n",
        "   $$ y = 3 + 1 = 4 $$\n",
        "   This also holds true.\n",
        "\n",
        "Thus, the derived equation is correct.\n",
        "\n",
        "---\n",
        "\n",
        "## Final Answer:\n",
        "The equation of the line passing through the points $A(1, 2)$ and $B(3, 4)$ is:\n",
        "\n",
        "$$\n",
        "y = x + 1\n",
        "$$\n",
        "\n",
        "For Visualisation check the link : https://www.geogebra.org/calculator/hzxhf83r"
      ],
      "metadata": {
        "id": "1hQinC_j6TJq"
      }
    }
  ]
}