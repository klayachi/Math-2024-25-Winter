{
  "cells": [
    {
      "cell_type": "markdown",
      "metadata": {
        "id": "view-in-github",
        "colab_type": "text"
      },
      "source": [
        "<a href=\"https://colab.research.google.com/github/klayachi/Math-2024-25-Winter/blob/main/Notebooks_EN/01_Linear_Algebra/01_Matrices/LA_Matrix_inversion_of_a_matrix_using_gauss_en.ipynb\" target=\"_parent\"><img src=\"https://colab.research.google.com/assets/colab-badge.svg\" alt=\"Open In Colab\"/></a>"
      ]
    },
    {
      "cell_type": "markdown",
      "metadata": {
        "id": "5LQUbi3pzBAE"
      },
      "source": [
        "# Matrix Inversion using Gauss elimination method"
      ]
    },
    {
      "cell_type": "code",
      "execution_count": 2,
      "metadata": {
        "id": "RyseuZZfzBAG"
      },
      "outputs": [],
      "source": [
        "from sympy import Matrix, Rational, latex\n",
        "from IPython.display import display, Markdown, Math, HTML\n",
        "\n",
        "class InvertibleMatrix:\n",
        "    def __init__(self, matrix):\n",
        "        \"\"\"\n",
        "        Initializes a matrix to be inverted using the Gauss-Jordan method.\n",
        "\n",
        "        Parameters:\n",
        "        - matrix: The square matrix to be inverted.\n",
        "        \"\"\"\n",
        "        # Convert all entries to Rational numbers\n",
        "        self.matrix = Matrix(matrix).applyfunc(Rational)\n",
        "        self.operations = []\n",
        "\n",
        "        # Check if the matrix is square\n",
        "        if self.matrix.rows != self.matrix.cols:\n",
        "            raise ValueError(\"The matrix must be square.\")\n",
        "\n",
        "        # Create the augmented matrix with the identity matrix (with Rational entries)\n",
        "        identity = Matrix.eye(self.matrix.rows).applyfunc(Rational)\n",
        "        self.aug_matrix = self.matrix.row_join(identity)\n",
        "\n",
        "        display(Markdown(\"**Initial Matrix (Starting matrix):**\"))\n",
        "        self.display_matrix()\n",
        "\n",
        "    def __repr__(self):\n",
        "        return repr(self.aug_matrix)\n",
        "\n",
        "    def __str__(self):\n",
        "        return str(self.aug_matrix)\n",
        "\n",
        "    def _repr_latex_(self):\n",
        "        return self.aug_matrix._repr_latex_()\n",
        "\n",
        "    def _validate_row_number(self, row):\n",
        "        if not isinstance(row, int):\n",
        "            raise TypeError(\"Row number must be an integer.\")\n",
        "        if row < 1 or row > self.aug_matrix.rows:\n",
        "            raise IndexError(f\"Row number must be in the range from 1 to {self.aug_matrix.rows}.\")\n",
        "        return row - 1\n",
        "\n",
        "    def add_row(self, target_row, source_row, coefficient):\n",
        "        target_idx = self._validate_row_number(target_row)\n",
        "        source_idx = self._validate_row_number(source_row)\n",
        "        coefficient = Rational(coefficient)\n",
        "\n",
        "        self.aug_matrix.row_op(target_idx, lambda v, j: v + coefficient * self.aug_matrix[source_idx, j])\n",
        "\n",
        "        operation_str = f\"r{target_row} = r{target_row} + {coefficient}*r{source_row}\"\n",
        "        self.operations.append(operation_str)\n",
        "        display(Markdown(f\"**Operation:** {operation_str}\"))\n",
        "        self.display_matrix()\n",
        "\n",
        "    def multiply_row(self, row, coefficient):\n",
        "        row_idx = self._validate_row_number(row)\n",
        "        coefficient = Rational(coefficient)\n",
        "\n",
        "        self.aug_matrix.row_op(row_idx, lambda v, _: coefficient * v)\n",
        "\n",
        "        operation_str = f\"r{row} = {coefficient}*r{row}\"\n",
        "        self.operations.append(operation_str)\n",
        "        display(Markdown(f\"**Operation:** {operation_str}\"))\n",
        "        self.display_matrix()\n",
        "\n",
        "    def swap_rows(self, row1, row2):\n",
        "        row1_idx = self._validate_row_number(row1)\n",
        "        row2_idx = self._validate_row_number(row2)\n",
        "\n",
        "        self.aug_matrix.row_swap(row1_idx, row2_idx)\n",
        "\n",
        "        operation_str = f\"Swap r{row1} <-> r{row2}\"\n",
        "        self.operations.append(operation_str)\n",
        "        display(Markdown(f\"**Operation:** {operation_str}\"))\n",
        "        self.display_matrix()\n",
        "\n",
        "    def display_matrix(self):\n",
        "        \"\"\"Displays the left and right matrix side by side in LaTeX format.\"\"\"\n",
        "        left_matrix = self.aug_matrix[:, :self.matrix.cols]\n",
        "        right_matrix = self.aug_matrix[:, self.matrix.cols:]\n",
        "\n",
        "        # Generate LaTeX code for both matrices\n",
        "        left_latex = latex(left_matrix)\n",
        "        right_latex = latex(right_matrix)\n",
        "\n",
        "        # Combine both matrices into a single display output\n",
        "        combined_latex = r\"\"\"\n",
        "        %s\n",
        "        \\quad\n",
        "        %s\n",
        "        \"\"\" % (left_latex, right_latex)\n",
        "\n",
        "        display(Math(combined_latex))\n",
        "\n",
        "    def print_operations(self):\n",
        "        display(Markdown(\"**Performed Operations:**\"))\n",
        "        for op in self.operations:\n",
        "            print(op)\n",
        "\n",
        "    def get_inverse(self):\n",
        "        \"\"\"Returns the inverse of the matrix after performing Gauss-Jordan elimination.\"\"\"\n",
        "        # Check if the left part of the augmented matrix is the identity matrix\n",
        "        left_matrix = self.aug_matrix[:, :self.matrix.cols]\n",
        "        if not left_matrix == Matrix.eye(self.matrix.rows):\n",
        "            raise ValueError(\"The matrix has not been reduced to the identity matrix. Continue the operations.\")\n",
        "        # Return the right part of the augmented matrix as the inverse\n",
        "        inverse_matrix = self.aug_matrix[:, self.matrix.cols:]\n",
        "        display(Markdown(\"**Inverse Matrix:**\"))\n",
        "        display(Math(latex(inverse_matrix)))\n",
        "        return inverse_matrix"
      ]
    },
    {
      "cell_type": "markdown",
      "metadata": {
        "id": "GiSuBTEIzBAJ"
      },
      "source": [
        "**Example 1:**"
      ]
    },
    {
      "cell_type": "code",
      "execution_count": 3,
      "metadata": {
        "id": "jT6PM219zBAJ",
        "outputId": "574a7601-6820-4bfe-f435-44af41e537d0",
        "colab": {
          "base_uri": "https://localhost:8080/",
          "height": 87
        }
      },
      "outputs": [
        {
          "output_type": "display_data",
          "data": {
            "text/plain": [
              "<IPython.core.display.Markdown object>"
            ],
            "text/markdown": "**Initial Matrix (Starting matrix):**"
          },
          "metadata": {}
        },
        {
          "output_type": "display_data",
          "data": {
            "text/plain": [
              "<IPython.core.display.Math object>"
            ],
            "text/latex": "$\\displaystyle \n        \\left[\\begin{matrix}2 & 1\\\\5 & 3\\end{matrix}\\right] \n        \\quad\n        \\left[\\begin{matrix}1 & 0\\\\0 & 1\\end{matrix}\\right]\n        $"
          },
          "metadata": {}
        }
      ],
      "source": [
        "# Create an instance of the class with a matrix to be inverted\n",
        "initial_matrix = [[2, 1], [5, 3]] # 2x2 matrix\n",
        "m = InvertibleMatrix(initial_matrix) # Create an instance of the class"
      ]
    },
    {
      "cell_type": "code",
      "execution_count": 4,
      "metadata": {
        "id": "rD9KqV-NzBAK",
        "outputId": "939fddb7-4166-4c40-f905-dc610fb5ab57",
        "colab": {
          "base_uri": "https://localhost:8080/",
          "height": 75
        }
      },
      "outputs": [
        {
          "output_type": "stream",
          "name": "stdout",
          "text": [
            "The inverse matrix is:\n"
          ]
        },
        {
          "output_type": "execute_result",
          "data": {
            "text/plain": [
              "Matrix([\n",
              "[ 3, -1],\n",
              "[-5,  2]])"
            ],
            "text/latex": "$\\displaystyle \\left[\\begin{matrix}3 & -1\\\\-5 & 2\\end{matrix}\\right]$"
          },
          "metadata": {},
          "execution_count": 4
        }
      ],
      "source": [
        "import sympy as sp # import the sympy library\n",
        "a = sp.Matrix(initial_matrix) # create the initial matrix\n",
        "print(\"The inverse matrix is:\")\n",
        "a.inv() # calculate the inverse matrix"
      ]
    },
    {
      "cell_type": "code",
      "execution_count": 5,
      "metadata": {
        "id": "GWWcGC9nzBAL",
        "outputId": "61e347dd-7699-4463-f49e-c87d539d383a",
        "colab": {
          "base_uri": "https://localhost:8080/",
          "height": 87
        }
      },
      "outputs": [
        {
          "output_type": "display_data",
          "data": {
            "text/plain": [
              "<IPython.core.display.Markdown object>"
            ],
            "text/markdown": "**Operation:** r2 = r2 + -5/2*r1"
          },
          "metadata": {}
        },
        {
          "output_type": "display_data",
          "data": {
            "text/plain": [
              "<IPython.core.display.Math object>"
            ],
            "text/latex": "$\\displaystyle \n        \\left[\\begin{matrix}2 & 1\\\\0 & \\frac{1}{2}\\end{matrix}\\right] \n        \\quad\n        \\left[\\begin{matrix}1 & 0\\\\- \\frac{5}{2} & 1\\end{matrix}\\right]\n        $"
          },
          "metadata": {}
        }
      ],
      "source": [
        "# Add -5/2 times \"row 1\" to \"row 2\"\n",
        "m.add_row(2, 1, -5/2)"
      ]
    },
    {
      "cell_type": "code",
      "execution_count": 6,
      "metadata": {
        "id": "ciG2TKz9zBAL",
        "outputId": "be955710-dd89-43d2-8955-156a4a533ba0",
        "colab": {
          "base_uri": "https://localhost:8080/",
          "height": 87
        }
      },
      "outputs": [
        {
          "output_type": "display_data",
          "data": {
            "text/plain": [
              "<IPython.core.display.Markdown object>"
            ],
            "text/markdown": "**Operation:** r1 = 1/2*r1"
          },
          "metadata": {}
        },
        {
          "output_type": "display_data",
          "data": {
            "text/plain": [
              "<IPython.core.display.Math object>"
            ],
            "text/latex": "$\\displaystyle \n        \\left[\\begin{matrix}1 & \\frac{1}{2}\\\\0 & \\frac{1}{2}\\end{matrix}\\right] \n        \\quad\n        \\left[\\begin{matrix}\\frac{1}{2} & 0\\\\- \\frac{5}{2} & 1\\end{matrix}\\right]\n        $"
          },
          "metadata": {}
        }
      ],
      "source": [
        "# Multiply \"row 1\" by 1/2\n",
        "m.multiply_row(1, 1/2)"
      ]
    },
    {
      "cell_type": "code",
      "execution_count": 7,
      "metadata": {
        "id": "vZqXqx22zBAM",
        "outputId": "4950576f-e47d-4cb0-bb26-f39ba13dbce9",
        "colab": {
          "base_uri": "https://localhost:8080/",
          "height": 87
        }
      },
      "outputs": [
        {
          "output_type": "display_data",
          "data": {
            "text/plain": [
              "<IPython.core.display.Markdown object>"
            ],
            "text/markdown": "**Operation:** r1 = r1 + -1*r2"
          },
          "metadata": {}
        },
        {
          "output_type": "display_data",
          "data": {
            "text/plain": [
              "<IPython.core.display.Math object>"
            ],
            "text/latex": "$\\displaystyle \n        \\left[\\begin{matrix}1 & 0\\\\0 & \\frac{1}{2}\\end{matrix}\\right] \n        \\quad\n        \\left[\\begin{matrix}3 & -1\\\\- \\frac{5}{2} & 1\\end{matrix}\\right]\n        $"
          },
          "metadata": {}
        }
      ],
      "source": [
        "# Add -1 times \"row 2\" to \"row 1\"\n",
        "m.add_row(1, 2, -1)"
      ]
    },
    {
      "cell_type": "code",
      "execution_count": 8,
      "metadata": {
        "id": "aN2XnyyNzBAM",
        "outputId": "da1fe104-206f-42f8-d452-7f4be85f48aa",
        "colab": {
          "base_uri": "https://localhost:8080/",
          "height": 87
        }
      },
      "outputs": [
        {
          "output_type": "display_data",
          "data": {
            "text/plain": [
              "<IPython.core.display.Markdown object>"
            ],
            "text/markdown": "**Operation:** r2 = 2*r2"
          },
          "metadata": {}
        },
        {
          "output_type": "display_data",
          "data": {
            "text/plain": [
              "<IPython.core.display.Math object>"
            ],
            "text/latex": "$\\displaystyle \n        \\left[\\begin{matrix}1 & 0\\\\0 & 1\\end{matrix}\\right] \n        \\quad\n        \\left[\\begin{matrix}3 & -1\\\\-5 & 2\\end{matrix}\\right]\n        $"
          },
          "metadata": {}
        }
      ],
      "source": [
        "# Multiply \"row 2\" by 2\n",
        "m.multiply_row(2, 2)"
      ]
    },
    {
      "cell_type": "markdown",
      "metadata": {
        "id": "k9sl1SJAzBAN"
      },
      "source": [
        "The matrix has been correctly computed!\n",
        "\n",
        "**Example 2**"
      ]
    },
    {
      "cell_type": "code",
      "execution_count": 9,
      "metadata": {
        "id": "fGtJCYfXzBAN",
        "outputId": "3cc75638-e716-4607-e10d-6960c4ee83b2",
        "colab": {
          "base_uri": "https://localhost:8080/",
          "height": 107
        }
      },
      "outputs": [
        {
          "output_type": "display_data",
          "data": {
            "text/plain": [
              "<IPython.core.display.Markdown object>"
            ],
            "text/markdown": "**Initial Matrix (Starting matrix):**"
          },
          "metadata": {}
        },
        {
          "output_type": "display_data",
          "data": {
            "text/plain": [
              "<IPython.core.display.Math object>"
            ],
            "text/latex": "$\\displaystyle \n        \\left[\\begin{matrix}2 & 1 & 2\\\\5 & 3 & 1\\\\1 & 1 & 5\\end{matrix}\\right] \n        \\quad\n        \\left[\\begin{matrix}1 & 0 & 0\\\\0 & 1 & 0\\\\0 & 0 & 1\\end{matrix}\\right]\n        $"
          },
          "metadata": {}
        }
      ],
      "source": [
        "initial_matrix = [[2, 1, 2], [5, 3, 1], [1, 1, 5]] # 3x3 matrix\n",
        "m = InvertibleMatrix(initial_matrix) # Create an instance of the class\n",
        "sympy_m = sp.Matrix(initial_matrix) # create the initial matrix"
      ]
    },
    {
      "cell_type": "code",
      "execution_count": 10,
      "metadata": {
        "id": "8GDQ0AqwzBAN",
        "outputId": "e8a65147-f86f-4f67-9ca2-6855705df43f",
        "colab": {
          "base_uri": "https://localhost:8080/",
          "height": 78
        }
      },
      "outputs": [
        {
          "output_type": "execute_result",
          "data": {
            "text/plain": [
              "Matrix([\n",
              "[7/4, -3/8, -5/8],\n",
              "[ -3,    1,    1],\n",
              "[1/4, -1/8,  1/8]])"
            ],
            "text/latex": "$\\displaystyle \\left[\\begin{matrix}\\frac{7}{4} & - \\frac{3}{8} & - \\frac{5}{8}\\\\-3 & 1 & 1\\\\\\frac{1}{4} & - \\frac{1}{8} & \\frac{1}{8}\\end{matrix}\\right]$"
          },
          "metadata": {},
          "execution_count": 10
        }
      ],
      "source": [
        "inverse = sympy_m.inv() # calculate the inverse matrix\n",
        "inverse"
      ]
    },
    {
      "cell_type": "code",
      "execution_count": 11,
      "metadata": {
        "id": "S6JHeQjUzBAO",
        "outputId": "c8a5aef8-d660-40ea-86c3-d0ed8c273499",
        "colab": {
          "base_uri": "https://localhost:8080/",
          "height": 107
        }
      },
      "outputs": [
        {
          "output_type": "display_data",
          "data": {
            "text/plain": [
              "<IPython.core.display.Markdown object>"
            ],
            "text/markdown": "**Operation:** r2 = r2 + -5*r3"
          },
          "metadata": {}
        },
        {
          "output_type": "display_data",
          "data": {
            "text/plain": [
              "<IPython.core.display.Math object>"
            ],
            "text/latex": "$\\displaystyle \n        \\left[\\begin{matrix}2 & 1 & 2\\\\0 & -2 & -24\\\\1 & 1 & 5\\end{matrix}\\right] \n        \\quad\n        \\left[\\begin{matrix}1 & 0 & 0\\\\0 & 1 & -5\\\\0 & 0 & 1\\end{matrix}\\right]\n        $"
          },
          "metadata": {}
        }
      ],
      "source": [
        "m.add_row(2, 3, -5)"
      ]
    },
    {
      "cell_type": "code",
      "execution_count": 12,
      "metadata": {
        "id": "OcyysrOQzBAO",
        "outputId": "c68e4ac4-8c07-470a-8657-8b6b4a980955",
        "colab": {
          "base_uri": "https://localhost:8080/",
          "height": 107
        }
      },
      "outputs": [
        {
          "output_type": "display_data",
          "data": {
            "text/plain": [
              "<IPython.core.display.Markdown object>"
            ],
            "text/markdown": "**Operation:** r3 = r3 + -1/2*r1"
          },
          "metadata": {}
        },
        {
          "output_type": "display_data",
          "data": {
            "text/plain": [
              "<IPython.core.display.Math object>"
            ],
            "text/latex": "$\\displaystyle \n        \\left[\\begin{matrix}2 & 1 & 2\\\\0 & -2 & -24\\\\0 & \\frac{1}{2} & 4\\end{matrix}\\right] \n        \\quad\n        \\left[\\begin{matrix}1 & 0 & 0\\\\0 & 1 & -5\\\\- \\frac{1}{2} & 0 & 1\\end{matrix}\\right]\n        $"
          },
          "metadata": {}
        }
      ],
      "source": [
        "m.add_row(3, 1, -1/2)"
      ]
    },
    {
      "cell_type": "code",
      "execution_count": 13,
      "metadata": {
        "id": "KfajcRF5zBAO",
        "outputId": "cdf55c02-56a1-4c9c-b1f6-6b287cd1152e",
        "colab": {
          "base_uri": "https://localhost:8080/",
          "height": 107
        }
      },
      "outputs": [
        {
          "output_type": "display_data",
          "data": {
            "text/plain": [
              "<IPython.core.display.Markdown object>"
            ],
            "text/markdown": "**Operation:** r3 = 4*r3"
          },
          "metadata": {}
        },
        {
          "output_type": "display_data",
          "data": {
            "text/plain": [
              "<IPython.core.display.Math object>"
            ],
            "text/latex": "$\\displaystyle \n        \\left[\\begin{matrix}2 & 1 & 2\\\\0 & -2 & -24\\\\0 & 2 & 16\\end{matrix}\\right] \n        \\quad\n        \\left[\\begin{matrix}1 & 0 & 0\\\\0 & 1 & -5\\\\-2 & 0 & 4\\end{matrix}\\right]\n        $"
          },
          "metadata": {}
        }
      ],
      "source": [
        "m.multiply_row(3, 4)"
      ]
    },
    {
      "cell_type": "code",
      "execution_count": 14,
      "metadata": {
        "id": "ajje5c6nzBAP",
        "outputId": "ea2828f6-f989-46ff-913b-d0674235c260",
        "colab": {
          "base_uri": "https://localhost:8080/",
          "height": 107
        }
      },
      "outputs": [
        {
          "output_type": "display_data",
          "data": {
            "text/plain": [
              "<IPython.core.display.Markdown object>"
            ],
            "text/markdown": "**Operation:** r3 = r3 + 1*r2"
          },
          "metadata": {}
        },
        {
          "output_type": "display_data",
          "data": {
            "text/plain": [
              "<IPython.core.display.Math object>"
            ],
            "text/latex": "$\\displaystyle \n        \\left[\\begin{matrix}2 & 1 & 2\\\\0 & -2 & -24\\\\0 & 0 & -8\\end{matrix}\\right] \n        \\quad\n        \\left[\\begin{matrix}1 & 0 & 0\\\\0 & 1 & -5\\\\-2 & 1 & -1\\end{matrix}\\right]\n        $"
          },
          "metadata": {}
        }
      ],
      "source": [
        "m.add_row(3, 2, 1)"
      ]
    },
    {
      "cell_type": "code",
      "execution_count": 15,
      "metadata": {
        "id": "S0SHsDi7zBAP",
        "outputId": "641a4c09-2f76-4563-c4bd-f316d8ecd37c",
        "colab": {
          "base_uri": "https://localhost:8080/",
          "height": 107
        }
      },
      "outputs": [
        {
          "output_type": "display_data",
          "data": {
            "text/plain": [
              "<IPython.core.display.Markdown object>"
            ],
            "text/markdown": "**Operation:** r3 = -1/8*r3"
          },
          "metadata": {}
        },
        {
          "output_type": "display_data",
          "data": {
            "text/plain": [
              "<IPython.core.display.Math object>"
            ],
            "text/latex": "$\\displaystyle \n        \\left[\\begin{matrix}2 & 1 & 2\\\\0 & -2 & -24\\\\0 & 0 & 1\\end{matrix}\\right] \n        \\quad\n        \\left[\\begin{matrix}1 & 0 & 0\\\\0 & 1 & -5\\\\\\frac{1}{4} & - \\frac{1}{8} & \\frac{1}{8}\\end{matrix}\\right]\n        $"
          },
          "metadata": {}
        }
      ],
      "source": [
        "m.multiply_row(3, -1/8)"
      ]
    },
    {
      "cell_type": "code",
      "execution_count": 16,
      "metadata": {
        "id": "E6Us5ubmzBAP",
        "outputId": "28d1b903-35c0-4eb5-d562-47ec43d291ef",
        "colab": {
          "base_uri": "https://localhost:8080/",
          "height": 108
        }
      },
      "outputs": [
        {
          "output_type": "display_data",
          "data": {
            "text/plain": [
              "<IPython.core.display.Markdown object>"
            ],
            "text/markdown": "**Operation:** r2 = -1/2*r2"
          },
          "metadata": {}
        },
        {
          "output_type": "display_data",
          "data": {
            "text/plain": [
              "<IPython.core.display.Math object>"
            ],
            "text/latex": "$\\displaystyle \n        \\left[\\begin{matrix}2 & 1 & 2\\\\0 & 1 & 12\\\\0 & 0 & 1\\end{matrix}\\right] \n        \\quad\n        \\left[\\begin{matrix}1 & 0 & 0\\\\0 & - \\frac{1}{2} & \\frac{5}{2}\\\\\\frac{1}{4} & - \\frac{1}{8} & \\frac{1}{8}\\end{matrix}\\right]\n        $"
          },
          "metadata": {}
        }
      ],
      "source": [
        "m.multiply_row(2, -1/2)"
      ]
    },
    {
      "cell_type": "code",
      "execution_count": 17,
      "metadata": {
        "id": "8gUXSZvHzBAQ",
        "outputId": "d57da94f-4319-46e9-d19f-9e5897b05a61",
        "colab": {
          "base_uri": "https://localhost:8080/",
          "height": 107
        }
      },
      "outputs": [
        {
          "output_type": "display_data",
          "data": {
            "text/plain": [
              "<IPython.core.display.Markdown object>"
            ],
            "text/markdown": "**Operation:** r2 = r2 + -12*r3"
          },
          "metadata": {}
        },
        {
          "output_type": "display_data",
          "data": {
            "text/plain": [
              "<IPython.core.display.Math object>"
            ],
            "text/latex": "$\\displaystyle \n        \\left[\\begin{matrix}2 & 1 & 2\\\\0 & 1 & 0\\\\0 & 0 & 1\\end{matrix}\\right] \n        \\quad\n        \\left[\\begin{matrix}1 & 0 & 0\\\\-3 & 1 & 1\\\\\\frac{1}{4} & - \\frac{1}{8} & \\frac{1}{8}\\end{matrix}\\right]\n        $"
          },
          "metadata": {}
        }
      ],
      "source": [
        "m.add_row(2, 3, -12)"
      ]
    },
    {
      "cell_type": "code",
      "execution_count": 18,
      "metadata": {
        "id": "dRg19zF6zBAQ",
        "outputId": "3ff8332d-e662-4e71-a946-04d1598afa11",
        "colab": {
          "base_uri": "https://localhost:8080/",
          "height": 108
        }
      },
      "outputs": [
        {
          "output_type": "display_data",
          "data": {
            "text/plain": [
              "<IPython.core.display.Markdown object>"
            ],
            "text/markdown": "**Operation:** r1 = r1 + -2*r3"
          },
          "metadata": {}
        },
        {
          "output_type": "display_data",
          "data": {
            "text/plain": [
              "<IPython.core.display.Math object>"
            ],
            "text/latex": "$\\displaystyle \n        \\left[\\begin{matrix}2 & 1 & 0\\\\0 & 1 & 0\\\\0 & 0 & 1\\end{matrix}\\right] \n        \\quad\n        \\left[\\begin{matrix}\\frac{1}{2} & \\frac{1}{4} & - \\frac{1}{4}\\\\-3 & 1 & 1\\\\\\frac{1}{4} & - \\frac{1}{8} & \\frac{1}{8}\\end{matrix}\\right]\n        $"
          },
          "metadata": {}
        }
      ],
      "source": [
        "m.add_row(1, 3, -2)"
      ]
    },
    {
      "cell_type": "code",
      "execution_count": 19,
      "metadata": {
        "id": "MRJjMw7fzBAQ",
        "outputId": "5441d344-0d15-4816-815f-14fbd69a1a1f",
        "colab": {
          "base_uri": "https://localhost:8080/",
          "height": 108
        }
      },
      "outputs": [
        {
          "output_type": "display_data",
          "data": {
            "text/plain": [
              "<IPython.core.display.Markdown object>"
            ],
            "text/markdown": "**Operation:** r1 = r1 + -1*r2"
          },
          "metadata": {}
        },
        {
          "output_type": "display_data",
          "data": {
            "text/plain": [
              "<IPython.core.display.Math object>"
            ],
            "text/latex": "$\\displaystyle \n        \\left[\\begin{matrix}2 & 0 & 0\\\\0 & 1 & 0\\\\0 & 0 & 1\\end{matrix}\\right] \n        \\quad\n        \\left[\\begin{matrix}\\frac{7}{2} & - \\frac{3}{4} & - \\frac{5}{4}\\\\-3 & 1 & 1\\\\\\frac{1}{4} & - \\frac{1}{8} & \\frac{1}{8}\\end{matrix}\\right]\n        $"
          },
          "metadata": {}
        }
      ],
      "source": [
        "m.add_row(1, 2, -1)"
      ]
    },
    {
      "cell_type": "code",
      "execution_count": 20,
      "metadata": {
        "id": "3s4QmLJRzBAR",
        "outputId": "94d2c763-6206-495b-9f16-3e7a4eb55fff",
        "colab": {
          "base_uri": "https://localhost:8080/",
          "height": 108
        }
      },
      "outputs": [
        {
          "output_type": "display_data",
          "data": {
            "text/plain": [
              "<IPython.core.display.Markdown object>"
            ],
            "text/markdown": "**Operation:** r1 = 1/2*r1"
          },
          "metadata": {}
        },
        {
          "output_type": "display_data",
          "data": {
            "text/plain": [
              "<IPython.core.display.Math object>"
            ],
            "text/latex": "$\\displaystyle \n        \\left[\\begin{matrix}1 & 0 & 0\\\\0 & 1 & 0\\\\0 & 0 & 1\\end{matrix}\\right] \n        \\quad\n        \\left[\\begin{matrix}\\frac{7}{4} & - \\frac{3}{8} & - \\frac{5}{8}\\\\-3 & 1 & 1\\\\\\frac{1}{4} & - \\frac{1}{8} & \\frac{1}{8}\\end{matrix}\\right]\n        $"
          },
          "metadata": {}
        }
      ],
      "source": [
        "m.multiply_row(1, 1/2)"
      ]
    },
    {
      "cell_type": "markdown",
      "metadata": {
        "id": "FokDMGLpzBAR"
      },
      "source": [
        "---\n",
        "\n",
        "## Exercises for Students\n",
        "\n",
        "Find the inverse matrices using the Gauss method:\n",
        "\n",
        "$$\n",
        "A=\n",
        "\\begin{bmatrix}\n",
        "1 & 2\\\\\n",
        "3 & 4\n",
        "\\end{bmatrix}\n",
        ", \\qquad\n",
        "B=\n",
        "\\begin{bmatrix}\n",
        "1 & 2 & 3 \\\\\n",
        "4 & 5 & 1 \\\\\n",
        "2 & 3 & 2\n",
        "\\end{bmatrix}\n",
        ",\\qquad\n",
        "C=\n",
        "\\begin{bmatrix}\n",
        "0 & 0 & 1\\\\\n",
        "0 & 1 & 0\\\\\n",
        "1 & 0 & 0\n",
        "\\end{bmatrix}\n",
        "$$"
      ]
    },
    {
      "cell_type": "markdown",
      "source": [
        "# **HomeWork**"
      ],
      "metadata": {
        "id": "1F62w31V2Jzp"
      }
    },
    {
      "cell_type": "code",
      "source": [
        "initial_matrix = [[1, 2], [3, 4]]\n",
        "m = InvertibleMatrix(initial_matrix)"
      ],
      "metadata": {
        "id": "F8aZZxfG1mCh",
        "outputId": "d3527d5d-3536-4544-c25e-ef2767dd6c35",
        "colab": {
          "base_uri": "https://localhost:8080/",
          "height": 87
        }
      },
      "execution_count": 24,
      "outputs": [
        {
          "output_type": "display_data",
          "data": {
            "text/plain": [
              "<IPython.core.display.Markdown object>"
            ],
            "text/markdown": "**Initial Matrix (Starting matrix):**"
          },
          "metadata": {}
        },
        {
          "output_type": "display_data",
          "data": {
            "text/plain": [
              "<IPython.core.display.Math object>"
            ],
            "text/latex": "$\\displaystyle \n        \\left[\\begin{matrix}1 & 2\\\\3 & 4\\end{matrix}\\right] \n        \\quad\n        \\left[\\begin{matrix}1 & 0\\\\0 & 1\\end{matrix}\\right]\n        $"
          },
          "metadata": {}
        }
      ]
    },
    {
      "cell_type": "code",
      "source": [
        "import sympy as sp\n",
        "a = sp.Matrix(initial_matrix) # create the initial matrix\n",
        "print(\"The inverse matrix is:\")\n",
        "a.inv()"
      ],
      "metadata": {
        "id": "EjL2K9pi1yZv",
        "outputId": "2eb2e847-6e8d-4bfd-815f-c438fcb638ae",
        "colab": {
          "base_uri": "https://localhost:8080/",
          "height": 75
        }
      },
      "execution_count": 25,
      "outputs": [
        {
          "output_type": "stream",
          "name": "stdout",
          "text": [
            "The inverse matrix is:\n"
          ]
        },
        {
          "output_type": "execute_result",
          "data": {
            "text/plain": [
              "Matrix([\n",
              "[ -2,    1],\n",
              "[3/2, -1/2]])"
            ],
            "text/latex": "$\\displaystyle \\left[\\begin{matrix}-2 & 1\\\\\\frac{3}{2} & - \\frac{1}{2}\\end{matrix}\\right]$"
          },
          "metadata": {},
          "execution_count": 25
        }
      ]
    },
    {
      "cell_type": "code",
      "source": [
        "initial_matrix = [[1, 2, 3], [4, 5, 1], [2, 3, 2]]\n",
        "m = InvertibleMatrix(initial_matrix)"
      ],
      "metadata": {
        "id": "uKg7FcTr129f",
        "outputId": "a5c83257-55d0-4f8d-c525-6e0445dd01d3",
        "colab": {
          "base_uri": "https://localhost:8080/",
          "height": 107
        }
      },
      "execution_count": 26,
      "outputs": [
        {
          "output_type": "display_data",
          "data": {
            "text/plain": [
              "<IPython.core.display.Markdown object>"
            ],
            "text/markdown": "**Initial Matrix (Starting matrix):**"
          },
          "metadata": {}
        },
        {
          "output_type": "display_data",
          "data": {
            "text/plain": [
              "<IPython.core.display.Math object>"
            ],
            "text/latex": "$\\displaystyle \n        \\left[\\begin{matrix}1 & 2 & 3\\\\4 & 5 & 1\\\\2 & 3 & 2\\end{matrix}\\right] \n        \\quad\n        \\left[\\begin{matrix}1 & 0 & 0\\\\0 & 1 & 0\\\\0 & 0 & 1\\end{matrix}\\right]\n        $"
          },
          "metadata": {}
        }
      ]
    },
    {
      "cell_type": "code",
      "source": [
        "import sympy as sp\n",
        "a = sp.Matrix(initial_matrix) # create the initial matrix\n",
        "print(\"The inverse matrix is:\")\n",
        "a.inv()"
      ],
      "metadata": {
        "id": "kMm8PjBt172P",
        "outputId": "58766b31-e613-484a-cd31-ef32beb622f5",
        "colab": {
          "base_uri": "https://localhost:8080/",
          "height": 95
        }
      },
      "execution_count": 27,
      "outputs": [
        {
          "output_type": "stream",
          "name": "stdout",
          "text": [
            "The inverse matrix is:\n"
          ]
        },
        {
          "output_type": "execute_result",
          "data": {
            "text/plain": [
              "Matrix([\n",
              "[ 7,  5, -13],\n",
              "[-6, -4,  11],\n",
              "[ 2,  1,  -3]])"
            ],
            "text/latex": "$\\displaystyle \\left[\\begin{matrix}7 & 5 & -13\\\\-6 & -4 & 11\\\\2 & 1 & -3\\end{matrix}\\right]$"
          },
          "metadata": {},
          "execution_count": 27
        }
      ]
    },
    {
      "cell_type": "code",
      "source": [
        "initial_matrix = [[0, 0, 1], [0, 1, 0], [1, 0, 0]]\n",
        "m = InvertibleMatrix(initial_matrix)"
      ],
      "metadata": {
        "id": "lR2aAxEU2AiA",
        "outputId": "afed6774-75f6-4194-e6ed-1f00736007ee",
        "colab": {
          "base_uri": "https://localhost:8080/",
          "height": 107
        }
      },
      "execution_count": 28,
      "outputs": [
        {
          "output_type": "display_data",
          "data": {
            "text/plain": [
              "<IPython.core.display.Markdown object>"
            ],
            "text/markdown": "**Initial Matrix (Starting matrix):**"
          },
          "metadata": {}
        },
        {
          "output_type": "display_data",
          "data": {
            "text/plain": [
              "<IPython.core.display.Math object>"
            ],
            "text/latex": "$\\displaystyle \n        \\left[\\begin{matrix}0 & 0 & 1\\\\0 & 1 & 0\\\\1 & 0 & 0\\end{matrix}\\right] \n        \\quad\n        \\left[\\begin{matrix}1 & 0 & 0\\\\0 & 1 & 0\\\\0 & 0 & 1\\end{matrix}\\right]\n        $"
          },
          "metadata": {}
        }
      ]
    },
    {
      "cell_type": "code",
      "source": [
        "import sympy as sp\n",
        "a = sp.Matrix(initial_matrix) # create the initial matrix\n",
        "print(\"The inverse matrix is:\")\n",
        "a.inv()"
      ],
      "metadata": {
        "id": "b_Qg5aOp2FNR",
        "outputId": "147b1d77-8ce3-4113-b6e9-79e538a32d1f",
        "colab": {
          "base_uri": "https://localhost:8080/",
          "height": 95
        }
      },
      "execution_count": 29,
      "outputs": [
        {
          "output_type": "stream",
          "name": "stdout",
          "text": [
            "The inverse matrix is:\n"
          ]
        },
        {
          "output_type": "execute_result",
          "data": {
            "text/plain": [
              "Matrix([\n",
              "[0, 0, 1],\n",
              "[0, 1, 0],\n",
              "[1, 0, 0]])"
            ],
            "text/latex": "$\\displaystyle \\left[\\begin{matrix}0 & 0 & 1\\\\0 & 1 & 0\\\\1 & 0 & 0\\end{matrix}\\right]$"
          },
          "metadata": {},
          "execution_count": 29
        }
      ]
    }
  ],
  "metadata": {
    "kernelspec": {
      "display_name": "Python 3",
      "language": "python",
      "name": "python3"
    },
    "language_info": {
      "codemirror_mode": {
        "name": "ipython",
        "version": 3
      },
      "file_extension": ".py",
      "mimetype": "text/x-python",
      "name": "python",
      "nbconvert_exporter": "python",
      "pygments_lexer": "ipython3",
      "version": "3.11.9"
    },
    "colab": {
      "provenance": [],
      "include_colab_link": true
    }
  },
  "nbformat": 4,
  "nbformat_minor": 0
}