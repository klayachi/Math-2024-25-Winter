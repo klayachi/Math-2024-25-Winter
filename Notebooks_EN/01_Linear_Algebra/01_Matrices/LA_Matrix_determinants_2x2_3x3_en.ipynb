{
  "cells": [
    {
      "cell_type": "markdown",
      "metadata": {
        "id": "view-in-github",
        "colab_type": "text"
      },
      "source": [
        "<a href=\"https://colab.research.google.com/github/klayachi/Math-2024-25-Winter/blob/main/Notebooks_EN/01_Linear_Algebra/01_Matrices/LA_Matrix_determinants_2x2_3x3_en.ipynb\" target=\"_parent\"><img src=\"https://colab.research.google.com/assets/colab-badge.svg\" alt=\"Open In Colab\"/></a>"
      ]
    },
    {
      "cell_type": "markdown",
      "metadata": {
        "id": "ygiCchemYgtQ"
      },
      "source": [
        "# Determinants of 2x2 and 3x3 matrices\n",
        "\n",
        "### Determinant of a 2x2 Matrix\n",
        "\n",
        "The general formula for the determinant of a 2x2 matrix, where the matrix looks as follows:\n",
        "\n",
        "$$\n",
        "\\mathbf{A} =\n",
        "\\begin{pmatrix}\n",
        "a_{11} & a_{12} \\\\\n",
        "a_{21} & a_{22}\n",
        "\\end{pmatrix}\n",
        "$$\n",
        "\n",
        "The determinant of a 2x2 matrix is calculated using the formula:\n",
        "\n",
        "$$\n",
        "\\text{det}(A) = a_{11} \\cdot a_{22} - a_{12} \\cdot a_{21}\n",
        "$$\n",
        "\n",
        "### Determinant of a 3x3 Matrix\n",
        "\n",
        "The general formula for the determinant of a 3x3 matrix, where the matrix looks as follows:\n",
        "\n",
        "$$\n",
        "\\mathbf{B} =\n",
        "\\begin{pmatrix}\n",
        "a_{11} & a_{12} & a_{13} \\\\\n",
        "a_{21} & a_{22} & a_{23} \\\\\n",
        "a_{31} & a_{32} & a_{33}\n",
        "\\end{pmatrix}\n",
        "$$\n",
        "\n",
        "The determinant of a 3x3 matrix can be calculated using Sarrus' rule or Laplace expansion. Here, we will use Sarrus' rule:\n",
        "\n",
        "$$\n",
        "\\text{det}(B) = a_{11} \\cdot a_{22} \\cdot a_{33} + a_{12} \\cdot a_{23} \\cdot a_{31} + a_{13} \\cdot a_{21} \\cdot a_{32}\n",
        "- a_{13} \\cdot a_{22} \\cdot a_{31} - a_{12} \\cdot a_{21} \\cdot a_{33} - a_{11} \\cdot a_{23} \\cdot a_{32}\n",
        "$$\n",
        "\n",
        "<img src=\"https://upload.wikimedia.org/wikipedia/commons/c/c0/Sarrus_rule1.svg\" alt=\"Image description\" width=\"300\" align=\"center\"/>\n",
        "\n",
        "Note: Sarrus' rule does not work for matrices larger than 3x3.\n",
        "\n",
        "### Calculating Determinants in Python using SymPy\n",
        "\n",
        "Now, using the SymPy library, we will calculate the determinants for 2x2 and 3x3 matrices."
      ]
    },
    {
      "cell_type": "code",
      "execution_count": null,
      "metadata": {
        "id": "p-shZ47hYgtV",
        "outputId": "6a62f703-46c1-4450-f628-4701ab528a2e",
        "colab": {
          "base_uri": "https://localhost:8080/",
          "height": 58
        }
      },
      "outputs": [
        {
          "output_type": "execute_result",
          "data": {
            "text/plain": [
              "Matrix([\n",
              "[2, 3],\n",
              "[1, 4]])"
            ],
            "text/latex": "$\\displaystyle \\left[\\begin{matrix}2 & 3\\\\1 & 4\\end{matrix}\\right]$"
          },
          "metadata": {},
          "execution_count": 1
        }
      ],
      "source": [
        "import sympy as sp\n",
        "\n",
        "# Define the matrix\n",
        "A = sp.Matrix([[2, 3], [1, 4]])\n",
        "A # display the matrix"
      ]
    },
    {
      "cell_type": "code",
      "execution_count": null,
      "metadata": {
        "notebookRunGroups": {
          "groupValue": "2"
        },
        "id": "-XMDK_gXYgtX",
        "outputId": "de92bb6d-2713-4da1-e51b-7ba2bee3fb65",
        "colab": {
          "base_uri": "https://localhost:8080/"
        }
      },
      "outputs": [
        {
          "output_type": "execute_result",
          "data": {
            "text/plain": [
              "True"
            ]
          },
          "metadata": {},
          "execution_count": 2
        }
      ],
      "source": [
        "# Verify the correctness of the calculations\n",
        "(2*4 - 3*1) == A.det()"
      ]
    },
    {
      "cell_type": "code",
      "execution_count": null,
      "metadata": {
        "id": "yXq4NlqgYgtY",
        "outputId": "4493b711-62f0-45e5-ec99-fbe002f98784",
        "colab": {
          "base_uri": "https://localhost:8080/",
          "height": 78
        }
      },
      "outputs": [
        {
          "output_type": "execute_result",
          "data": {
            "text/plain": [
              "Matrix([\n",
              "[2, 3, 1],\n",
              "[1, 4, 5],\n",
              "[3, 2, 1]])"
            ],
            "text/latex": "$\\displaystyle \\left[\\begin{matrix}2 & 3 & 1\\\\1 & 4 & 5\\\\3 & 2 & 1\\end{matrix}\\right]$"
          },
          "metadata": {},
          "execution_count": 3
        }
      ],
      "source": [
        "# 3x3 Matrix\n",
        "B = sp.Matrix([[2, 3, 1], [1, 4, 5], [3, 2, 1]])\n",
        "B"
      ]
    },
    {
      "cell_type": "code",
      "execution_count": null,
      "metadata": {
        "id": "S85rKHsfYgtY",
        "outputId": "c7764191-d8bf-4de8-b20e-2b6dcf343c46",
        "colab": {
          "base_uri": "https://localhost:8080/"
        }
      },
      "outputs": [
        {
          "output_type": "execute_result",
          "data": {
            "text/plain": [
              "True"
            ]
          },
          "metadata": {},
          "execution_count": 4
        }
      ],
      "source": [
        "# Verify the correctness of the calculations\n",
        "(2*4*1 + 3*5*3 + 1*1*2 - 1*4*3 - 5*2*2 - 3*1*1) == B.det()"
      ]
    },
    {
      "cell_type": "markdown",
      "metadata": {
        "id": "4WVuUI9hYgtZ"
      },
      "source": [
        "---\n",
        "\n",
        "## Exercises for Students\n",
        "\n",
        "Calculate the determinants for the 2x2 and 3x3 matrices given below.\n",
        "\n",
        "1. 2x2 Matrices:\n",
        "\n",
        "$$\n",
        "\\mathbf{A} =\n",
        "\\begin{pmatrix}\n",
        "2 & 3 \\\\\n",
        "1 & 4\n",
        "\\end{pmatrix}\n",
        ", \\qquad\n",
        "\\mathbf{B} =\n",
        "\\begin{pmatrix}\n",
        "5 & 6 \\\\\n",
        "7 & 8\n",
        "\\end{pmatrix}\n",
        ", \\qquad\n",
        "\\mathbf{C} =\n",
        "\\begin{pmatrix}\n",
        "-1 & 2 \\\\\n",
        "3 & 0\n",
        "\\end{pmatrix}\n",
        "$$\n",
        "\n",
        "2. 3x3 Matrices:\n",
        "\n",
        "\n",
        "$$\n",
        "\\mathbf{D} =\n",
        "\\begin{pmatrix}\n",
        "1 & 0 & 2 \\\\\n",
        "-1 & 3 & 1 \\\\\n",
        "2 & 4 & -2\n",
        "\\end{pmatrix}\n",
        ", \\qquad\n",
        "\\mathbf{E} =\n",
        "\\begin{pmatrix}\n",
        "3 & 1 & -1 \\\\\n",
        "0 & 2 & 4 \\\\\n",
        "5 & 3 & 2\n",
        "\\end{pmatrix}\n",
        ", \\qquad\n",
        "\\mathbf{F} =\n",
        "\\begin{pmatrix}\n",
        "2 & -3 & 1 \\\\\n",
        "1 & 4 & -2 \\\\\n",
        "1 & 5 & 3\n",
        "\\end{pmatrix}\n",
        "$$"
      ]
    },
    {
      "cell_type": "markdown",
      "source": [
        "# **Homework (Python Method)**"
      ],
      "metadata": {
        "id": "3X83ppRn663T"
      }
    },
    {
      "cell_type": "code",
      "source": [
        "# Calculating the determinants for the 2x2 and 3x3 matrices given :\n",
        "\n",
        "import sympy as sp\n",
        "\n",
        "# 2x2 Matrices\n",
        "A = sp.Matrix([[2, 3], [1, 4]])\n",
        "print(\"Determinant of A:\", A.det())\n",
        "\n",
        "B = sp.Matrix([[5, 6], [7, 8]])\n",
        "print(\"Determinant of B:\", B.det())\n",
        "\n",
        "C = sp.Matrix([[-1, 2], [3, 0]])\n",
        "print(\"Determinant of C:\", C.det())\n",
        "\n",
        "# 3x3 Matrices\n",
        "D = sp.Matrix([[1, 0, 2], [-1, 3, 1], [2, 4, -2]])\n",
        "print(\"Determinant of D:\", D.det())\n",
        "\n",
        "E = sp.Matrix([[3, 1, -1], [0, 2, 4], [5, 3, 2]])\n",
        "print(\"Determinant of E:\", E.det())\n",
        "\n",
        "F = sp.Matrix([[2, -3, 1], [1, 4, -2], [1, 5, 3]])\n",
        "print(\"Determinant of F:\", F.det())"
      ],
      "metadata": {
        "id": "7Xw1YjKfYx0o",
        "outputId": "327e4be0-c27e-49bb-db16-b007e8dc1ebe",
        "colab": {
          "base_uri": "https://localhost:8080/"
        }
      },
      "execution_count": null,
      "outputs": [
        {
          "output_type": "stream",
          "name": "stdout",
          "text": [
            "Determinant of A: 5\n",
            "Determinant of B: -2\n",
            "Determinant of C: -6\n",
            "Determinant of D: -30\n",
            "Determinant of E: 6\n",
            "Determinant of F: 60\n"
          ]
        }
      ]
    },
    {
      "cell_type": "markdown",
      "source": [
        "# **Homework (Explaned Maths)**"
      ],
      "metadata": {
        "id": "yQbjTcW_614i"
      }
    },
    {
      "cell_type": "markdown",
      "source": [
        "##**Execrise 1**\n",
        "$$\n",
        "  \\mathbf{A} =\n",
        "  \\begin{pmatrix}\n",
        "  2 & 3 \\\\\n",
        "  1 & 4\n",
        "  \\end{pmatrix}\n",
        "  , \\qquad\n",
        "  \\mathbf{B} =\n",
        "  \\begin{pmatrix}\n",
        "  5 & 6 \\\\\n",
        "  7 & 8\n",
        "  \\end{pmatrix}\n",
        "  , \\qquad\n",
        "  \\mathbf{C} =\n",
        "  \\begin{pmatrix}\n",
        "  -1 & 2 \\\\\n",
        "  3 & 0\n",
        "  \\end{pmatrix}\n",
        "$$\n",
        "Since $A,B,C$  are 2x2 matrices, the determinant is:\n",
        "\n",
        "$$\n",
        "  det(D) = d_{11}\\cdot d_{22}-d_{12}\\cdot d_{21}\n",
        "$$\n",
        "\n",
        "$\n",
        "  \\mathbf{det}(A)= 2\\cdot 4 - 3\\cdot 1= 8-3=5\n",
        "$\n",
        "\n",
        "$\n",
        "  \\mathbf{det}(B)= 5\\cdot 8 - 6\\cdot 7= 40-42=-2\n",
        "$\n",
        "\n",
        "$\n",
        "  \\mathbf{det}(C)= (-1)\\cdot 0 - 3\\cdot 2= -6\n",
        "$\n",
        "\n",
        "##**Exercise 2**\n",
        "\n",
        "$$\n",
        "  \\mathbf{D} =\n",
        "  \\begin{pmatrix}\n",
        "  1 & 0 & 2 \\\\\n",
        "  -1 & 3 & 1 \\\\\n",
        "  2 & 4 & -2\n",
        "  \\end{pmatrix}\n",
        "  , \\qquad\n",
        "  \\mathbf{E} =\n",
        "  \\begin{pmatrix}\n",
        "  3 & 1 & -1 \\\\\n",
        "  0 & 2 & 4 \\\\\n",
        "  5 & 3 & 2\n",
        "  \\end{pmatrix}\n",
        "  , \\qquad\n",
        "  \\mathbf{F} =\n",
        "  \\begin{pmatrix}\n",
        "  2 & -3 & 1 \\\\\n",
        "  1 & 4 & -2 \\\\\n",
        "  1 & 5 & 3\n",
        "  \\end{pmatrix}\n",
        "$$\n",
        "\n",
        "Since $D,E,F$ are 3x3 matrices, the determinant is:\n",
        "\n",
        "$$\n",
        "  det(Z)=z_{11}\\cdot detZ_{11} - z_{12}\\cdot detZ_{12} + z_{13}\\cdot detZ_{13}\n",
        "$$\n",
        "\n",
        "$\n",
        "  \\mathbf{det}(D)= 1\\cdot \\begin{pmatrix} 3 & 1 \\\\ 4 & -2\\end{pmatrix} - 0 + 2\\cdot \\begin{pmatrix} -1 & 3 \\\\ 2 & 4\\end{pmatrix}= 1\\cdot (-10) - 0 - 20=-30\n",
        "$\n",
        "\n",
        "$\n",
        "  \\mathbf{det}(E)= 3\\cdot \\begin{pmatrix} 2 & 4 \\\\ 3 & 2\\end{pmatrix} - 1\\cdot \\begin{pmatrix} 0 & 4 \\\\ 5 & 2 \\end{pmatrix} + (-1)\\cdot \\begin{pmatrix} 0 & 2 \\\\ 5 & 3 \\end{pmatrix} = 3\\cdot (-8) - 1\\cdot (-20) + (-1)\\cdot (-10)=-24 + 20 + 10 = 6\n",
        "$\n",
        "\n",
        "$\n",
        "  \\mathbf{det}(F)= 2\\cdot \\begin{pmatrix} 4 & -2 \\\\ 5 & 3 \\end{pmatrix} - (-3)\\cdot \\begin{pmatrix} 1 & -2 \\\\ 1 & 3 \\end{pmatrix} + 1\\cdot \\begin{pmatrix} 1 & 4 \\\\ 1 & 5\\end{pmatrix}= 2\\cdot 22 + 3\\cdot 5 + 1= 44+15+1= 60\n",
        "$"
      ],
      "metadata": {
        "id": "XKzr-SLO6vDK"
      }
    }
  ],
  "metadata": {
    "kernelspec": {
      "display_name": "Python 3",
      "language": "python",
      "name": "python3"
    },
    "language_info": {
      "codemirror_mode": {
        "name": "ipython",
        "version": 3
      },
      "file_extension": ".py",
      "mimetype": "text/x-python",
      "name": "python",
      "nbconvert_exporter": "python",
      "pygments_lexer": "ipython3",
      "version": "3.11.9"
    },
    "colab": {
      "provenance": [],
      "include_colab_link": true
    }
  },
  "nbformat": 4,
  "nbformat_minor": 0
}