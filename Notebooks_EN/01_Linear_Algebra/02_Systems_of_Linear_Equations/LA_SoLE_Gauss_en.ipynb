{
  "cells": [
    {
      "cell_type": "markdown",
      "metadata": {
        "id": "view-in-github",
        "colab_type": "text"
      },
      "source": [
        "<a href=\"https://colab.research.google.com/github/klayachi/Math-2024-25-Winter/blob/main/Notebooks_EN/01_Linear_Algebra/02_Systems_of_Linear_Equations/LA_SoLE_Gauss_en.ipynb\" target=\"_parent\"><img src=\"https://colab.research.google.com/assets/colab-badge.svg\" alt=\"Open In Colab\"/></a>"
      ]
    },
    {
      "cell_type": "markdown",
      "metadata": {
        "id": "Eynulj_TWywg"
      },
      "source": [
        "# Gaussian Elimination Method\n",
        "\n",
        "Solving a system of linear equations using the Gaussian elimination method involves transforming the coefficient matrix of the system into an upper triangular matrix, followed by solving the system using back substitution.\n",
        "\n",
        "This is one of the most fundamental methods for solving systems of linear equations, especially in cases where the number of unknowns is different from the number of equations."
      ]
    },
    {
      "cell_type": "code",
      "execution_count": 2,
      "metadata": {
        "id": "VLSgG3f7Wywj",
        "outputId": "b478b770-0d41-46ff-ab71-d45123038cce",
        "colab": {
          "base_uri": "https://localhost:8080/",
          "height": 152
        }
      },
      "outputs": [
        {
          "output_type": "display_data",
          "data": {
            "text/plain": [
              "<IPython.core.display.Markdown object>"
            ],
            "text/markdown": "**Initial equations:**"
          },
          "metadata": {}
        },
        {
          "output_type": "display_data",
          "data": {
            "text/plain": [
              "<IPython.core.display.Markdown object>"
            ],
            "text/markdown": "System of equations:"
          },
          "metadata": {}
        },
        {
          "output_type": "display_data",
          "data": {
            "text/plain": [
              "<IPython.core.display.Markdown object>"
            ],
            "text/markdown": "$$\\begin{aligned} 1 x_{1} + 2 x_{2} + 3 x_{3} = 10 \\\\ 4 x_{1} + 5 x_{2} + 6 x_{3} = 11 \\\\ 7 x_{1} + 8 x_{2} + 12 x_{3} = 18 \\end{aligned}$$"
          },
          "metadata": {}
        }
      ],
      "source": [
        "from sympy import Matrix, symbols, Eq, latex\n",
        "from IPython.display import display, Markdown\n",
        "import sympy as sp\n",
        "\n",
        "class SymbolicMatrix:\n",
        "    def __init__(self, matrix, column_labels=None, free_terms=None, display_mode=\"table\"):\n",
        "        self.matrix = Matrix(matrix)\n",
        "        self.operations = []\n",
        "        self.display_mode = display_mode\n",
        "\n",
        "        if column_labels:\n",
        "            if len(column_labels) != self.matrix.cols:\n",
        "                raise ValueError(\"The number of column labels must be equal to the number of columns in the matrix.\")\n",
        "            self.column_labels = column_labels\n",
        "        else:\n",
        "            self.column_labels = [f\"x{i+1}\" for i in range(self.matrix.cols)]\n",
        "\n",
        "        if free_terms:\n",
        "            if len(free_terms) != self.matrix.rows:\n",
        "                raise ValueError(\"The number of free terms must be equal to the number of rows in the matrix.\")\n",
        "            self.free_terms = free_terms\n",
        "        else:\n",
        "            self.free_terms = [0 for _ in range(self.matrix.rows)]\n",
        "\n",
        "        display(Markdown(\"**Initial equations:**\"))\n",
        "        self.display_matrix()\n",
        "\n",
        "    def set_display_mode(self, mode):\n",
        "        if mode not in [\"table\", \"equations\"]:\n",
        "            raise ValueError(\"Display mode must be 'table' or 'equations'.\")\n",
        "        self.display_mode = mode\n",
        "\n",
        "    def display_matrix(self):\n",
        "        if self.display_mode == \"table\":\n",
        "            self._display_table()\n",
        "        elif self.display_mode == \"equations\":\n",
        "            self._display_equations()\n",
        "\n",
        "    def _display_table(self):\n",
        "        matrix_with_free_terms = self.matrix.row_join(Matrix(self.free_terms))\n",
        "        headers = self.column_labels + [\"Free term\"]\n",
        "        display(Markdown(self._matrix_to_markdown(matrix_with_free_terms, headers)))\n",
        "\n",
        "    def _matrix_to_markdown(self, matrix, headers):\n",
        "        markdown_str = \"| \" + \" | \".join(headers) + \" |\\n\"\n",
        "        markdown_str += \"| \" + \" | \".join([\"---\"] * len(headers)) + \" |\\n\"\n",
        "        for i in range(matrix.rows):\n",
        "            row = [str(matrix[i, j]) for j in range(matrix.cols)]\n",
        "            markdown_str += \"| \" + \" | \".join(row) + \" |\\n\"\n",
        "        return markdown_str\n",
        "\n",
        "    def _display_equations(self):\n",
        "        equations = []\n",
        "        for i in range(self.matrix.rows):\n",
        "            terms = []\n",
        "            for j in range(self.matrix.cols):\n",
        "                coef = self.matrix[i, j]\n",
        "                var = symbols(self.column_labels[j])\n",
        "\n",
        "                # Check if the coefficient is positive, negative, or zero\n",
        "                if coef > 0:\n",
        "                    if j == 0:\n",
        "                        terms.append(f\"{latex(coef)} {latex(var)}\")\n",
        "                    else:\n",
        "                        terms.append(f\"+ {latex(coef)} {latex(var)}\")\n",
        "                elif coef < 0:\n",
        "                    terms.append(f\"- {latex(abs(coef))} {latex(var)}\")\n",
        "                elif coef == 0:\n",
        "                    if j == 0:\n",
        "                        terms.append(f\"0 {latex(var)}\")\n",
        "                    else:\n",
        "                        terms.append(f\"+0 {latex(var)}\")\n",
        "\n",
        "            lhs = \" \".join(terms)\n",
        "            rhs = latex(self.free_terms[i])\n",
        "\n",
        "            equation = f\"{lhs} = {rhs}\"\n",
        "            equations.append(equation)\n",
        "\n",
        "        display(Markdown(\"System of equations:\"))\n",
        "        display(Markdown(f\"$$\\\\begin{{aligned}} {self._equations_to_latex(equations)} \\\\end{{aligned}}$$\"))\n",
        "\n",
        "    def _equations_to_latex(self, equations):\n",
        "        return \" \\\\\\\\ \".join(equations)\n",
        "\n",
        "    def add_row(self, target_row, source_row, coefficient):\n",
        "        target_idx = self._validate_row_number(target_row)\n",
        "        source_idx = self._validate_row_number(source_row)\n",
        "\n",
        "        # Operation on the matrix\n",
        "        self.matrix.row_op(target_idx, lambda v, j: v + coefficient * self.matrix[source_idx, j])\n",
        "\n",
        "        # Operation on the free terms\n",
        "        self.free_terms[target_idx] += coefficient * self.free_terms[source_idx]\n",
        "\n",
        "        operation_str = f\"r{target_row} = r{target_row} + {coefficient}*r{source_row}\"\n",
        "        self.operations.append(operation_str)\n",
        "        display(Markdown(f\"**Operation:** {operation_str}\"))\n",
        "        self.display_matrix()\n",
        "\n",
        "    def multiply_row(self, row, coefficient):\n",
        "        row_idx = self._validate_row_number(row)\n",
        "\n",
        "        # Operation on the matrix\n",
        "        self.matrix.row_op(row_idx, lambda v, _: coefficient * v)\n",
        "\n",
        "        # Operation on the free terms\n",
        "        self.free_terms[row_idx] *= coefficient\n",
        "\n",
        "        operation_str = f\"r{row} = {coefficient}*r{row}\"\n",
        "        self.operations.append(operation_str)\n",
        "        display(Markdown(f\"**Operation:** {operation_str}\"))\n",
        "        self.display_matrix()\n",
        "\n",
        "    def swap_rows(self, row1, row2):\n",
        "        row1_idx = self._validate_row_number(row1)\n",
        "        row2_idx = self._validate_row_number(row2)\n",
        "\n",
        "        self.matrix.row_swap(row1_idx, row2_idx)\n",
        "        self.free_terms[row1_idx], self.free_terms[row2_idx] = self.free_terms[row2_idx], self.free_terms[row1_idx]\n",
        "\n",
        "        operation_str = f\"Swap r{row1} <-> r{row2}\"\n",
        "        self.operations.append(operation_str)\n",
        "        display(Markdown(f\"**Operation:** {operation_str}\"))\n",
        "        self.display_matrix()\n",
        "\n",
        "    def swap_columns(self, col1, col2):\n",
        "        col1_idx = self._validate_col_number(col1)\n",
        "        col2_idx = self._validate_col_number(col2)\n",
        "\n",
        "        self.matrix.col_swap(col1_idx, col2_idx)\n",
        "        self.column_labels[col1_idx], self.column_labels[col2_idx] = self.column_labels[col2_idx], self.column_labels[col1_idx]\n",
        "\n",
        "        operation_str = f\"Swap col{col1} <-> col{col2}\"\n",
        "        self.operations.append(operation_str)\n",
        "        display(Markdown(f\"**Operation:** {operation_str}\"))\n",
        "        self.display_matrix()\n",
        "\n",
        "    def _validate_row_number(self, row):\n",
        "        if not isinstance(row, int):\n",
        "            raise TypeError(\"Row number must be an integer.\")\n",
        "        if row < 1 or row > self.matrix.rows:\n",
        "            raise IndexError(f\"Row number must be between 1 and {self.matrix.rows}.\")\n",
        "        return row - 1\n",
        "\n",
        "    def _validate_col_number(self, col):\n",
        "        if not isinstance(col, int):\n",
        "            raise TypeError(\"Column number must be an integer.\")\n",
        "        if col < 1 or col > self.matrix.cols:\n",
        "            raise IndexError(f\"Column number must be between 1 and {self.matrix.cols}.\")\n",
        "        return col - 1\n",
        "\n",
        "    def print_operations(self):\n",
        "        display(Markdown(\"**Performed operations:**\"))\n",
        "        for op in self.operations:\n",
        "            print(op)\n",
        "\n",
        "# Example usage:\n",
        "m = SymbolicMatrix([[1,2,3], [4,5,6], [7,8,12]], column_labels=[\"x1\", \"x2\", \"x3\"], free_terms=[10, 11, 18], display_mode=\"equations\")\n"
      ]
    },
    {
      "cell_type": "code",
      "execution_count": 3,
      "metadata": {
        "id": "yUM13V94Wywm",
        "outputId": "625e6f8c-7df9-41c7-cc4a-55448a760901",
        "colab": {
          "base_uri": "https://localhost:8080/",
          "height": 152
        }
      },
      "outputs": [
        {
          "output_type": "display_data",
          "data": {
            "text/plain": [
              "<IPython.core.display.Markdown object>"
            ],
            "text/markdown": "**Operation:** r2 = r2 + -4*r1"
          },
          "metadata": {}
        },
        {
          "output_type": "display_data",
          "data": {
            "text/plain": [
              "<IPython.core.display.Markdown object>"
            ],
            "text/markdown": "System of equations:"
          },
          "metadata": {}
        },
        {
          "output_type": "display_data",
          "data": {
            "text/plain": [
              "<IPython.core.display.Markdown object>"
            ],
            "text/markdown": "$$\\begin{aligned} 1 x_{1} + 2 x_{2} + 3 x_{3} = 10 \\\\ 0 x_{1} - 3 x_{2} - 6 x_{3} = -29 \\\\ 7 x_{1} + 8 x_{2} + 12 x_{3} = 18 \\end{aligned}$$"
          },
          "metadata": {}
        }
      ],
      "source": [
        "m.add_row(2, 1, -4)"
      ]
    },
    {
      "cell_type": "code",
      "execution_count": 4,
      "metadata": {
        "id": "4fpZQEhmWywn",
        "outputId": "ea4eb0bd-7853-451f-bf06-736dd57435b3",
        "colab": {
          "base_uri": "https://localhost:8080/",
          "height": 152
        }
      },
      "outputs": [
        {
          "output_type": "display_data",
          "data": {
            "text/plain": [
              "<IPython.core.display.Markdown object>"
            ],
            "text/markdown": "**Operation:** r3 = r3 + -7*r1"
          },
          "metadata": {}
        },
        {
          "output_type": "display_data",
          "data": {
            "text/plain": [
              "<IPython.core.display.Markdown object>"
            ],
            "text/markdown": "System of equations:"
          },
          "metadata": {}
        },
        {
          "output_type": "display_data",
          "data": {
            "text/plain": [
              "<IPython.core.display.Markdown object>"
            ],
            "text/markdown": "$$\\begin{aligned} 1 x_{1} + 2 x_{2} + 3 x_{3} = 10 \\\\ 0 x_{1} - 3 x_{2} - 6 x_{3} = -29 \\\\ 0 x_{1} - 6 x_{2} - 9 x_{3} = -52 \\end{aligned}$$"
          },
          "metadata": {}
        }
      ],
      "source": [
        "m.add_row(3, 1, -7)"
      ]
    },
    {
      "cell_type": "code",
      "execution_count": 5,
      "metadata": {
        "id": "jXqZ57XqWywn",
        "outputId": "d3209b48-a134-451a-d0d4-7ae7c469d13a",
        "colab": {
          "base_uri": "https://localhost:8080/",
          "height": 152
        }
      },
      "outputs": [
        {
          "output_type": "display_data",
          "data": {
            "text/plain": [
              "<IPython.core.display.Markdown object>"
            ],
            "text/markdown": "**Operation:** r3 = r3 + -2*r2"
          },
          "metadata": {}
        },
        {
          "output_type": "display_data",
          "data": {
            "text/plain": [
              "<IPython.core.display.Markdown object>"
            ],
            "text/markdown": "System of equations:"
          },
          "metadata": {}
        },
        {
          "output_type": "display_data",
          "data": {
            "text/plain": [
              "<IPython.core.display.Markdown object>"
            ],
            "text/markdown": "$$\\begin{aligned} 1 x_{1} + 2 x_{2} + 3 x_{3} = 10 \\\\ 0 x_{1} - 3 x_{2} - 6 x_{3} = -29 \\\\ 0 x_{1} +0 x_{2} + 3 x_{3} = 6 \\end{aligned}$$"
          },
          "metadata": {}
        }
      ],
      "source": [
        "m.add_row(3, 2, -2)"
      ]
    },
    {
      "cell_type": "code",
      "execution_count": 6,
      "metadata": {
        "id": "YrngsU4EWywo"
      },
      "outputs": [],
      "source": [
        "# We have 3 equations, so we end the operation\n",
        "# Define symbols\n",
        "x1, x2, x3 = symbols('x1 x2 x3')\n",
        "# Define equations\n",
        "eq1 = Eq(x1 + 2*x2 + 3*x3, 10)\n",
        "eq2 = Eq(-3*x2 - 6*x3, -29)\n",
        "eq3 = Eq(3*x3, 6)"
      ]
    },
    {
      "cell_type": "code",
      "execution_count": 7,
      "metadata": {
        "id": "4tHqVNQkWywp",
        "outputId": "9abeb2bf-8ef4-4024-9f6c-1e48ccaede83",
        "colab": {
          "base_uri": "https://localhost:8080/",
          "height": 37
        }
      },
      "outputs": [
        {
          "output_type": "execute_result",
          "data": {
            "text/plain": [
              "2"
            ],
            "text/latex": "$\\displaystyle 2$"
          },
          "metadata": {},
          "execution_count": 7
        }
      ],
      "source": [
        "sol_x3 = sp.solve(eq3, x3)[0]\n",
        "sol_x3"
      ]
    },
    {
      "cell_type": "code",
      "execution_count": 8,
      "metadata": {
        "id": "jHsKawueWywp",
        "outputId": "caf06a8c-8137-4734-d092-4c5b55003f28",
        "colab": {
          "base_uri": "https://localhost:8080/",
          "height": 51
        }
      },
      "outputs": [
        {
          "output_type": "execute_result",
          "data": {
            "text/plain": [
              "17/3"
            ],
            "text/latex": "$\\displaystyle \\frac{17}{3}$"
          },
          "metadata": {},
          "execution_count": 8
        }
      ],
      "source": [
        "# Substitute solution x3 into equation 2\n",
        "eq2 = eq2.subs(x3, sol_x3)\n",
        "# Solve equation 2\n",
        "sol_x2 = sp.solve(eq2, x2)[0]\n",
        "sol_x2"
      ]
    },
    {
      "cell_type": "code",
      "execution_count": 9,
      "metadata": {
        "id": "2RY-fma8Wywq",
        "outputId": "bec8730b-5bca-4dca-e404-fa14faef5aff",
        "colab": {
          "base_uri": "https://localhost:8080/",
          "height": 51
        }
      },
      "outputs": [
        {
          "output_type": "execute_result",
          "data": {
            "text/plain": [
              "-22/3"
            ],
            "text/latex": "$\\displaystyle - \\frac{22}{3}$"
          },
          "metadata": {},
          "execution_count": 9
        }
      ],
      "source": [
        "# Substitute solutions x2 and x3 into equation 1\n",
        "eq1 = eq1.subs({x2: sol_x2, x3: sol_x3})\n",
        "# Solve equation 1\n",
        "sol_x1 = sp.solve(eq1, x1)[0]\n",
        "sol_x1"
      ]
    },
    {
      "cell_type": "markdown",
      "metadata": {
        "id": "mLdYNMQZWywr"
      },
      "source": [
        "---\n",
        "\n",
        "## Exercises for Students\n",
        "\n",
        "$$\n",
        "\\left\\{\\begin{array}{c}{x+2 y-2 z=4} \\\\ {2 x+y+z=0} \\\\ {3 x+2 y+z=1}\\end{array}\\right.\\quad\n",
        "\\left\\{\\begin{array}{c}{x+y+z-t=2} \\\\ {2 x+y+z=3} \\\\ {-x+z-t=0} \\\\ {3 x+2 y-z+2 t=-1}\\end{array}\\right.\\quad\n",
        "\\left\\{\\begin{array}{c}{x+y-z-t=0} \\\\ {2 x+3 y-2 z+t=4} \\\\ {3 x+5 z=0} \\\\ {-x+y-3 z+2 t=3}\\end{array}\\right.\n",
        "$$"
      ]
    },
    {
      "cell_type": "markdown",
      "source": [
        "#HomeWork : Maths Explaned"
      ],
      "metadata": {
        "id": "ckhRvs1pdkn9"
      }
    },
    {
      "cell_type": "markdown",
      "metadata": {
        "id": "B_6k-GOF8EXf"
      },
      "source": [
        "##**Exercise1**\n",
        "$\\left\\{\\begin{array}{c}{x+2 y-2 z=4} \\\\ {2 x+y+z=0} \\\\ {3 x+2 y+z=1}\\end{array}\\right.$\n",
        "\n",
        "$1.R2=R2-2R1$\n",
        "\n",
        "$\\left\\{\\begin{array}{c}{x+2 y-2 z=4} \\\\ {0-3y+5z=-8} \\\\ {3 x+2 y+z=1}\\end{array}\\right.$\n",
        "\n",
        "$2.R3=R3-3R1$\n",
        "\n",
        "$\\left\\{\\begin{array}{c}{x+2y-2z=4} \\\\ {0-3y+5z=-8} \\\\ {0-4y+7z=-11}\\end{array}\\right.$\n",
        "\n",
        "$3.R2=R2\\cdot 4; R3=R3\\cdot (-3)$\n",
        "\n",
        "$\\left\\{\\begin{array}{c}{x+2y-2z=4} \\\\ {0-12y+20z=-32} \\\\ {0+12y-21z=33}\\end{array}\\right.$\n",
        "\n",
        "$4.R3=R3+R2$\n",
        "\n",
        "$\\left\\{\\begin{array}{c}{x+2y-2z=4} \\\\ {0-12y+20z=-32} \\\\ {0-0-1z=1}\\end{array}\\right.$\n",
        "\n",
        "1)$-z=1$\n",
        "\n",
        "$z=-1$\n",
        "\n",
        "2)$-12y-20=-32$\n",
        "\n",
        "$y=1$\n",
        "\n",
        "3)$x+2+2=4$\n",
        "\n",
        "$x=0$\n",
        "\n",
        "Solution: x=0, y=1, z=-1\n",
        "\n",
        "##**Exercise2**\n",
        "$\\left\\{\\begin{array}{c}{x+y+z-t=2} \\\\ {2 x+y+z=3} \\\\ {-x+z-t=0} \\\\ {3 x+2 y-z+2 t=-1}\\end{array}\\right.$\n",
        "\n",
        "$R2=R2-2R1$\n",
        "\n",
        "$\\left\\{\\begin{array}{c}{x+y+z-t=2} \\\\ {0-y-z+2t=-1} \\\\ {-x+z-t=0} \\\\ {3 x+2 y-z+2 t=-1}\\end{array}\\right.$\n",
        "\n",
        "$R3=R3+R1$\n",
        "\n",
        "$\\left\\{\\begin{array}{c}{x+y+z-t=2} \\\\ {0-y-z+2t=-1} \\\\ {0+y+2z-2t=2} \\\\ {3 x+2 y-z+2 t=-1}\\end{array}\\right.$\n",
        "\n",
        "$R4=R4-3R1$\n",
        "\n",
        "$\\left\\{\\begin{array}{c}{x+y+z-t=2} \\\\ {0-y-z+2t=-1} \\\\ {0+y+2z-2t=2} \\\\ {0-y-4z+5t=-7}\\end{array}\\right.$\n",
        "\n",
        "$R3=R3+R2$\n",
        "\n",
        "$\\left\\{\\begin{array}{c}{x+y+z-t=2} \\\\ {0-y-z+2t=-1} \\\\ {0+0+z+0=1} \\\\ {0-y-4z+5t=-7}\\end{array}\\right.$\n",
        "\n",
        "$R4=R4-R2$\n",
        "\n",
        "$\\left\\{\\begin{array}{c}{x+y+z-t=2} \\\\ {0-y-z+2t=-1} \\\\ {0+0+z+0=1} \\\\ {0-0-3z+3t=-6}\\end{array}\\right.$\n",
        "\n",
        "\n",
        "1)$z=1$\n",
        "\n",
        "2)$-3+3t=-6$\n",
        "\n",
        "$t=-1$\n",
        "\n",
        "3)$-y-1-2=-1$\n",
        "\n",
        "$y=-2$\n",
        "\n",
        "4)$x-2+1+1=2$\n",
        "\n",
        "$x=2$\n",
        "\n",
        "Solution:x=2, y=-2, z=1, t=-1\n",
        "\n",
        "##**Exercise 3**\n",
        "$\\left\\{\\begin{array}{c}{x+y-z-t=0} \\\\ {2 x+3 y-2 z+t=4} \\\\ {3 x+5 z=0} \\\\ {-x+y-3 z+2 t=3}\\end{array}\\right.$\n",
        "\n",
        "$1.R2=R2-2R1$\n",
        "\n",
        "$\\left\\{\\begin{array}{c}{x+y-z-t=0} \\\\ {0+y-0+3t=4} \\\\ {3 x+5 z=0} \\\\ {-x+y-3 z+2 t=3}\\end{array}\\right.$\n",
        "\n",
        "$2.R3=R3-3R1$\n",
        "\n",
        "$\\left\\{\\begin{array}{c}{x+y-z-t=0} \\\\ {0+y-0+3t=4} \\\\ {0-3y+8z+3t=0} \\\\ {-x+y-3 z+2 t=3}\\end{array}\\right.$\n",
        "\n",
        "$R4=R4+R1$\n",
        "\n",
        "$\\left\\{\\begin{array}{c}{x+y-z-t=0} \\\\ {0+y-0+3t=4} \\\\ {0-3y+8z+3t=0} \\\\ {0+2y-4z+t=3}\\end{array}\\right.$\n",
        "\n",
        "$R3=R3+3R1$\n",
        "\n",
        "$\\left\\{\\begin{array}{c}{x+y-z-t=0} \\\\ {0+y-0+3t=4} \\\\ {0-0+5z+0=0} \\\\ {0+2y-4z+t=3}\\end{array}\\right.$\n",
        "\n",
        "$R4=R4-2R2$\n",
        "\n",
        "$\\left\\{\\begin{array}{c}{x+y-z-t=0} \\\\ {0+y-0+3t=4} \\\\ {0-0+5z+0=0} \\\\ {0+0-4z-5t=-5}\\end{array}\\right.$\n",
        "\n",
        "1)$z=0$\n",
        "\n",
        "2)$-5t=-5$\n",
        "\n",
        "$t=1$\n",
        "\n",
        "3)$y+3=4$\n",
        "\n",
        "$y=1$\n",
        "\n",
        "4)$x+1-0-1=0$\n",
        "\n",
        "$x=0$\n",
        "\n",
        "Solution: x=0, y=1, z=0, t=1"
      ]
    },
    {
      "cell_type": "markdown",
      "source": [
        "#HomeWork : Python"
      ],
      "metadata": {
        "id": "-SgAqLI0dqxt"
      }
    },
    {
      "cell_type": "code",
      "source": [
        "from sympy import symbols, Eq, solve\n",
        "\n",
        "x, y, z = symbols('x, y, z')\n",
        "\n",
        "# Define the equations based on the final simplified form\n",
        "eq1 = Eq(x + 2*y - 2*z, 4)\n",
        "eq2 = Eq(-12*y + 20*z, -32)\n",
        "eq3 = Eq(-z, 1)\n",
        "\n",
        "# Solve for the variables\n",
        "sol_z = solve(eq3, z)[0]  # Solve for z first\n",
        "eq2_sub = eq2.subs(z, sol_z)  # Substitute z into eq2\n",
        "sol_y = solve(eq2_sub, y)[0]  # Solve for y\n",
        "\n",
        "eq1_sub = eq1.subs({y: sol_y, z: sol_z})  # Substitute y and z into eq1\n",
        "sol_x = solve(eq1_sub, x)[0]  # Solve for x\n",
        "\n",
        "# Print the solutions\n",
        "print(f\"x = {sol_x}\")\n",
        "print(f\"y = {sol_y}\")\n",
        "print(f\"z = {sol_z}\")"
      ],
      "metadata": {
        "id": "YecGX8haO60u",
        "outputId": "9535b890-effb-4e67-fb33-0b1cd27c3e60",
        "colab": {
          "base_uri": "https://localhost:8080/"
        }
      },
      "execution_count": 11,
      "outputs": [
        {
          "output_type": "stream",
          "name": "stdout",
          "text": [
            "x = 0\n",
            "y = 1\n",
            "z = -1\n"
          ]
        }
      ]
    },
    {
      "cell_type": "code",
      "source": [
        "from sympy import symbols, Eq, solve\n",
        "\n",
        "x, y, z, t = symbols('x, y, z, t')\n",
        "\n",
        "# Define the equations\n",
        "eq1 = Eq(x + y + z - t, 2)\n",
        "eq2 = Eq(-y - z + 2*t, -1)\n",
        "eq3 = Eq(z, 1)  # Simplified from R3 = R3 + R2\n",
        "eq4 = Eq(-y - 4*z + 5*t, -7)  # Assuming the last equation was cut off\n",
        "\n",
        "# Solve for the variables\n",
        "sol_z = solve(eq3, z)[0]  # Solve for z first\n",
        "eq2_sub = eq2.subs(z, sol_z)  # Substitute z into eq2\n",
        "eq4_sub = eq4.subs(z, sol_z)  # Substitute z into eq4\n",
        "\n",
        "# Now we have two equations with two unknowns (y, t)\n",
        "sol_y_t = solve((eq2_sub, eq4_sub), (y, t))\n",
        "sol_y = sol_y_t[y]\n",
        "sol_t = sol_y_t[t]\n",
        "\n",
        "# Substitute y, z, t into eq1 to solve for x\n",
        "eq1_sub = eq1.subs({y: sol_y, z: sol_z, t: sol_t})\n",
        "sol_x = solve(eq1_sub, x)[0]\n",
        "\n",
        "# Print the solutions\n",
        "print(f\"x = {sol_x}\")\n",
        "print(f\"y = {sol_y}\")\n",
        "print(f\"z = {sol_z}\")\n",
        "print(f\"t = {sol_t}\")"
      ],
      "metadata": {
        "id": "HXJRKMfpHb1C",
        "outputId": "7a4b2844-38a1-4aab-c762-a3758e8f99a7",
        "colab": {
          "base_uri": "https://localhost:8080/"
        }
      },
      "execution_count": 12,
      "outputs": [
        {
          "output_type": "stream",
          "name": "stdout",
          "text": [
            "x = 2\n",
            "y = -2\n",
            "z = 1\n",
            "t = -1\n"
          ]
        }
      ]
    },
    {
      "cell_type": "code",
      "source": [
        "from sympy import symbols, Eq, solve\n",
        "\n",
        "x, y, z, t = symbols('x, y, z, t')\n",
        "\n",
        "# Define the equations based on the final simplified form\n",
        "eq1 = Eq(x + y - z - t, 0)\n",
        "eq2 = Eq(y + 3*t, 4)\n",
        "eq3 = Eq(5*z, 0)  # This implies z = 0\n",
        "eq4 = Eq(2*y - 4*z + t, 3)  # Assuming the last equation was cut off\n",
        "\n",
        "# Solve for the variables\n",
        "sol_z = solve(eq3, z)[0]  # Solve for z first\n",
        "eq1_sub = eq1.subs(z, sol_z)  # Substitute z into eq1\n",
        "eq2_sub = eq2.subs(z, sol_z)  # Substitute z into eq2 (no change in this case)\n",
        "eq4_sub = eq4.subs(z, sol_z)  # Substitute z into eq4\n",
        "\n",
        "# Now we have three equations with three unknowns (x, y, t)\n",
        "sol_x_y_t = solve((eq1_sub, eq2_sub, eq4_sub), (x, y, t))\n",
        "sol_x = sol_x_y_t[x]\n",
        "sol_y = sol_x_y_t[y]\n",
        "sol_t = sol_x_y_t[t]\n",
        "\n",
        "# Print the solutions\n",
        "print(f\"x = {sol_x}\")\n",
        "print(f\"y = {sol_y}\")\n",
        "print(f\"z = {sol_z}\")\n",
        "print(f\"t = {sol_t}\")"
      ],
      "metadata": {
        "id": "_jj_zY1POIzM",
        "outputId": "891ae09d-80e9-4341-8bf3-c60ffd84fb19",
        "colab": {
          "base_uri": "https://localhost:8080/"
        }
      },
      "execution_count": 13,
      "outputs": [
        {
          "output_type": "stream",
          "name": "stdout",
          "text": [
            "x = 0\n",
            "y = 1\n",
            "z = 0\n",
            "t = 1\n"
          ]
        }
      ]
    }
  ],
  "metadata": {
    "kernelspec": {
      "display_name": ".venv",
      "language": "python",
      "name": "python3"
    },
    "language_info": {
      "codemirror_mode": {
        "name": "ipython",
        "version": 3
      },
      "file_extension": ".py",
      "mimetype": "text/x-python",
      "name": "python",
      "nbconvert_exporter": "python",
      "pygments_lexer": "ipython3",
      "version": "3.11.9"
    },
    "colab": {
      "provenance": [],
      "include_colab_link": true
    }
  },
  "nbformat": 4,
  "nbformat_minor": 0
}