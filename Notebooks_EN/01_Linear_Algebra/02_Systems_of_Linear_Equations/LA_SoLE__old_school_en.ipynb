{
  "cells": [
    {
      "cell_type": "markdown",
      "metadata": {
        "id": "view-in-github",
        "colab_type": "text"
      },
      "source": [
        "<a href=\"https://colab.research.google.com/github/klayachi/Math-2024-25-Winter/blob/main/Notebooks_EN/01_Linear_Algebra/02_Systems_of_Linear_Equations/LA_SoLE__old_school_en.ipynb\" target=\"_parent\"><img src=\"https://colab.research.google.com/assets/colab-badge.svg\" alt=\"Open In Colab\"/></a>"
      ]
    },
    {
      "cell_type": "markdown",
      "metadata": {
        "id": "v8AN2877L8Vx"
      },
      "source": [
        "# School Method for Solving Systems of Linear Equations"
      ]
    },
    {
      "cell_type": "code",
      "execution_count": 1,
      "metadata": {
        "id": "Ad7FtJBlL8V0"
      },
      "outputs": [],
      "source": [
        "import sympy as sp\n",
        "from sympy import symbols, Eq, expand, solve\n",
        "\n",
        "class EnhancedEq(Eq):\n",
        "    def __add__(self, other):\n",
        "        return EnhancedEq(self.lhs + other.lhs, self.rhs + other.rhs)\n",
        "\n",
        "    def __sub__(self, other):\n",
        "        return EnhancedEq(self.lhs - other.lhs, self.rhs - other.rhs)\n",
        "\n",
        "    def __mul__(self, scalar):\n",
        "        return EnhancedEq(scalar * self.lhs, scalar * self.rhs)\n",
        "\n",
        "    def __rmul__(self, scalar):\n",
        "        return self.__mul__(scalar)\n",
        "\n",
        "    def simplify(self):\n",
        "        return EnhancedEq(expand(self.lhs), expand(self.rhs))\n",
        "\n",
        "    def substitute(self, *args, **kwargs):\n",
        "        return EnhancedEq(self.lhs.subs(*args, **kwargs), self.rhs.subs(*args, **kwargs))\n",
        "\n",
        "    def solve_for(self, symbol):\n",
        "        return solve(self, symbol)\n",
        "\n",
        "# Example usage:\n",
        "x, y = symbols('x y')\n",
        "\n",
        "# Define equations\n",
        "eq1 = EnhancedEq(2*x + y, 5)\n",
        "eq2 = EnhancedEq(x - y, 1)"
      ]
    },
    {
      "cell_type": "code",
      "execution_count": 2,
      "metadata": {
        "id": "_6xxdqsUL8V2",
        "outputId": "4df95d7b-2148-4533-850b-264e08332f35",
        "colab": {
          "base_uri": "https://localhost:8080/",
          "height": 56
        }
      },
      "outputs": [
        {
          "output_type": "stream",
          "name": "stdout",
          "text": [
            "First equation:\n"
          ]
        },
        {
          "output_type": "execute_result",
          "data": {
            "text/plain": [
              "Eq(2*x + y, 5)"
            ],
            "text/latex": "$\\displaystyle 2 x + y = 5$"
          },
          "metadata": {},
          "execution_count": 2
        }
      ],
      "source": [
        "print(\"First equation:\")\n",
        "eq1"
      ]
    },
    {
      "cell_type": "code",
      "execution_count": 3,
      "metadata": {
        "id": "WDiLTkb7L8V4",
        "outputId": "f167f906-0473-44f1-b29f-b8f54de0aedd",
        "colab": {
          "base_uri": "https://localhost:8080/",
          "height": 56
        }
      },
      "outputs": [
        {
          "output_type": "stream",
          "name": "stdout",
          "text": [
            "Second equation:\n"
          ]
        },
        {
          "output_type": "execute_result",
          "data": {
            "text/plain": [
              "Eq(x - y, 1)"
            ],
            "text/latex": "$\\displaystyle x - y = 1$"
          },
          "metadata": {},
          "execution_count": 3
        }
      ],
      "source": [
        "print(\"Second equation:\")\n",
        "eq2"
      ]
    },
    {
      "cell_type": "code",
      "execution_count": 4,
      "metadata": {
        "id": "zjA5RGdEL8V4",
        "outputId": "70626b40-4551-42e4-8134-491091597278",
        "colab": {
          "base_uri": "https://localhost:8080/",
          "height": 39
        }
      },
      "outputs": [
        {
          "output_type": "execute_result",
          "data": {
            "text/plain": [
              "Eq(3*x, 6)"
            ],
            "text/latex": "$\\displaystyle 3 x = 6$"
          },
          "metadata": {},
          "execution_count": 4
        }
      ],
      "source": [
        "# Add the equations\n",
        "eq3 = eq1 + eq2\n",
        "eq3"
      ]
    },
    {
      "cell_type": "code",
      "execution_count": 5,
      "metadata": {
        "id": "H3g_oJwXL8V5",
        "outputId": "3df6c33f-42a8-4190-dd57-d072711e330d",
        "colab": {
          "base_uri": "https://localhost:8080/",
          "height": 37
        }
      },
      "outputs": [
        {
          "output_type": "execute_result",
          "data": {
            "text/plain": [
              "2"
            ],
            "text/latex": "$\\displaystyle 2$"
          },
          "metadata": {},
          "execution_count": 5
        }
      ],
      "source": [
        "# We have an equation with one unknown, so we can solve it\n",
        "sol_x = eq3.solve_for(x)[0]\n",
        "sol_x"
      ]
    },
    {
      "cell_type": "code",
      "execution_count": 6,
      "metadata": {
        "id": "LUkj6YjSL8V6",
        "outputId": "3feef568-8747-4c3a-b36c-0271599496f0",
        "colab": {
          "base_uri": "https://localhost:8080/",
          "height": 39
        }
      },
      "outputs": [
        {
          "output_type": "execute_result",
          "data": {
            "text/plain": [
              "Eq(2 - y, 1)"
            ],
            "text/latex": "$\\displaystyle 2 - y = 1$"
          },
          "metadata": {},
          "execution_count": 6
        }
      ],
      "source": [
        "# Substitute the solution into equation 2\n",
        "eq2 = eq2.substitute(x, sol_x)\n",
        "eq2"
      ]
    },
    {
      "cell_type": "code",
      "execution_count": 7,
      "metadata": {
        "id": "gv9_WXcVL8V8",
        "outputId": "5502f627-cca1-4c87-e103-021f23526ddc",
        "colab": {
          "base_uri": "https://localhost:8080/",
          "height": 37
        }
      },
      "outputs": [
        {
          "output_type": "execute_result",
          "data": {
            "text/plain": [
              "1"
            ],
            "text/latex": "$\\displaystyle 1$"
          },
          "metadata": {},
          "execution_count": 7
        }
      ],
      "source": [
        "# We get an equation with one unknown, so we can solve it\n",
        "eq2.solve_for(y)[0]"
      ]
    },
    {
      "cell_type": "code",
      "execution_count": 8,
      "metadata": {
        "id": "jeb1oc40L8V-",
        "outputId": "198e8993-6510-461c-bae0-2092f2764e67",
        "colab": {
          "base_uri": "https://localhost:8080/"
        }
      },
      "outputs": [
        {
          "output_type": "execute_result",
          "data": {
            "text/plain": [
              "{x: 2, y: 1}"
            ]
          },
          "metadata": {},
          "execution_count": 8
        }
      ],
      "source": [
        "# Thus x=2, y=1\n",
        "# Verify with sympy\n",
        "sp.solve([eq1, eq2])"
      ]
    },
    {
      "cell_type": "markdown",
      "metadata": {
        "id": "UXkpGYJyL8V-"
      },
      "source": [
        "---\n",
        "\n",
        "### Exercises for Students\n",
        "\n",
        "Solve the following systems of equations similarly to the example above:\n",
        "\n",
        "* $3x-2y=5, \\quad 2x+3y=7$,\n",
        "* $2x-3y=10, \\quad 4x+5y=20$,\n",
        "* $2x - y + z = 3, \\quad x + 2y - z = 1, \\quad 3x - y + 2z = 11$.\n",
        "* $2x-3y+4z+2t=2, \\quad 3x+2y-5z+3t=3, \\quad 4x-3y+2z-5t=4, \\quad 5x+4y-3z+2t=5$."
      ]
    },
    {
      "cell_type": "markdown",
      "source": [
        "#HomeWork\n"
      ],
      "metadata": {
        "id": "fJ_piLNmMzyR"
      }
    },
    {
      "cell_type": "code",
      "source": [
        "import sympy as sp\n",
        "from sympy import symbols, Eq, expand, solve\n",
        "\n",
        "class EnhancedEq(Eq):\n",
        "    def __add__(self, other):\n",
        "        return EnhancedEq(self.lhs + other.lhs, self.rhs + other.rhs)\n",
        "\n",
        "    def __sub__(self, other):\n",
        "        return EnhancedEq(self.lhs - other.lhs, self.rhs - other.rhs)\n",
        "\n",
        "    def __mul__(self, scalar):\n",
        "        return EnhancedEq(scalar * self.lhs, scalar * self.rhs)\n",
        "\n",
        "    def __rmul__(self, scalar):\n",
        "        return self.__mul__(scalar)\n",
        "\n",
        "    def simplify(self):\n",
        "        return EnhancedEq(expand(self.lhs), expand(self.rhs))\n",
        "\n",
        "    def substitute(self, *args, **kwargs):\n",
        "        return EnhancedEq(self.lhs.subs(*args, **kwargs), self.rhs.subs(*args, **kwargs))\n",
        "\n",
        "    def solve_for(self, symbol):\n",
        "        return solve(self, symbol)\n",
        "\n",
        "# Example usage:\n",
        "x, y = symbols('x y')\n",
        "\n",
        "# Define equations\n",
        "eq1 = EnhancedEq(3*x - 2*y, 5)\n",
        "eq2 = EnhancedEq(2*x + 3*y, 7)"
      ],
      "metadata": {
        "id": "7VKXkfR_VFbD"
      },
      "execution_count": 9,
      "outputs": []
    },
    {
      "cell_type": "code",
      "source": [
        "print(\"First equation:\")\n",
        "eq1"
      ],
      "metadata": {
        "id": "kyN-9cx_WRVH",
        "outputId": "45ea1dfb-6b02-4ece-f154-99e78be0a411",
        "colab": {
          "base_uri": "https://localhost:8080/",
          "height": 56
        }
      },
      "execution_count": 10,
      "outputs": [
        {
          "output_type": "stream",
          "name": "stdout",
          "text": [
            "First equation:\n"
          ]
        },
        {
          "output_type": "execute_result",
          "data": {
            "text/plain": [
              "Eq(3*x - 2*y, 5)"
            ],
            "text/latex": "$\\displaystyle 3 x - 2 y = 5$"
          },
          "metadata": {},
          "execution_count": 10
        }
      ]
    },
    {
      "cell_type": "code",
      "source": [
        "print(\"Second equation:\")\n",
        "eq2"
      ],
      "metadata": {
        "id": "K53dRb8rWUMr",
        "outputId": "59fd8c25-fcb6-463c-fad7-ec0b332d9237",
        "colab": {
          "base_uri": "https://localhost:8080/",
          "height": 56
        }
      },
      "execution_count": 11,
      "outputs": [
        {
          "output_type": "stream",
          "name": "stdout",
          "text": [
            "Second equation:\n"
          ]
        },
        {
          "output_type": "execute_result",
          "data": {
            "text/plain": [
              "Eq(2*x + 3*y, 7)"
            ],
            "text/latex": "$\\displaystyle 2 x + 3 y = 7$"
          },
          "metadata": {},
          "execution_count": 11
        }
      ]
    },
    {
      "cell_type": "code",
      "source": [
        "# Eliminate y: Multiply eq1 by 3 and eq2 by 2, then add\n",
        "eq3 = 3*eq1 + 2*eq2\n",
        "print(\"Equation after eliminating y:\", eq3)"
      ],
      "metadata": {
        "id": "voeOMw3bYC0A",
        "outputId": "b0f9fdc5-c7d3-43b1-d68c-86d8f3c179ef",
        "colab": {
          "base_uri": "https://localhost:8080/"
        }
      },
      "execution_count": 12,
      "outputs": [
        {
          "output_type": "stream",
          "name": "stdout",
          "text": [
            "Equation after eliminating y: Eq(13*x, 29)\n"
          ]
        }
      ]
    },
    {
      "cell_type": "code",
      "source": [
        "# We have an equation with one unknown, so we can solve it\n",
        "sol_x = eq3.solve_for(x)[0]\n",
        "sol_x"
      ],
      "metadata": {
        "id": "XM_qGFxRYViL",
        "outputId": "28ed7318-57a2-4be5-f7e0-99be456f0c97",
        "colab": {
          "base_uri": "https://localhost:8080/",
          "height": 51
        }
      },
      "execution_count": 13,
      "outputs": [
        {
          "output_type": "execute_result",
          "data": {
            "text/plain": [
              "29/13"
            ],
            "text/latex": "$\\displaystyle \\frac{29}{13}$"
          },
          "metadata": {},
          "execution_count": 13
        }
      ]
    },
    {
      "cell_type": "code",
      "source": [
        "# Substitute the solution into equation 2\n",
        "eq2 = eq2.substitute(x, sol_x)\n",
        "eq2"
      ],
      "metadata": {
        "id": "M5mMmKO5YaJf",
        "outputId": "5e828a08-9ad7-406d-e009-075ed568474b",
        "colab": {
          "base_uri": "https://localhost:8080/",
          "height": 51
        }
      },
      "execution_count": 14,
      "outputs": [
        {
          "output_type": "execute_result",
          "data": {
            "text/plain": [
              "Eq(3*y + 58/13, 7)"
            ],
            "text/latex": "$\\displaystyle 3 y + \\frac{58}{13} = 7$"
          },
          "metadata": {},
          "execution_count": 14
        }
      ]
    },
    {
      "cell_type": "code",
      "source": [
        "sol_y = eq2.solve_for(y)[0]\n",
        "sol_y"
      ],
      "metadata": {
        "id": "MZF8S0SbYkFf",
        "outputId": "bcf97a54-1962-461f-817c-d579b77cd427",
        "colab": {
          "base_uri": "https://localhost:8080/",
          "height": 51
        }
      },
      "execution_count": 15,
      "outputs": [
        {
          "output_type": "execute_result",
          "data": {
            "text/plain": [
              "11/13"
            ],
            "text/latex": "$\\displaystyle \\frac{11}{13}$"
          },
          "metadata": {},
          "execution_count": 15
        }
      ]
    },
    {
      "cell_type": "code",
      "source": [
        "# thus x=29/13, y=11/13\n",
        "# verify with sympy\n",
        "sp.solve([eq1, eq2])"
      ],
      "metadata": {
        "id": "Xmukyz3oZF9m",
        "outputId": "b6abe6fb-de4f-4e74-c5d2-9cedbef01a5b",
        "colab": {
          "base_uri": "https://localhost:8080/"
        }
      },
      "execution_count": 16,
      "outputs": [
        {
          "output_type": "execute_result",
          "data": {
            "text/plain": [
              "{x: 29/13, y: 11/13}"
            ]
          },
          "metadata": {},
          "execution_count": 16
        }
      ]
    },
    {
      "cell_type": "code",
      "source": [
        "import sympy as sp\n",
        "from sympy import symbols, Eq, expand, solve\n",
        "\n",
        "class EnhancedEq(Eq):\n",
        "    def __add__(self, other):\n",
        "        return EnhancedEq(self.lhs + other.lhs, self.rhs + other.rhs)\n",
        "\n",
        "    def __sub__(self, other):\n",
        "        return EnhancedEq(self.lhs - other.lhs, self.rhs - other.rhs)\n",
        "\n",
        "    def __mul__(self, scalar):\n",
        "        return EnhancedEq(scalar * self.lhs, scalar * self.rhs)\n",
        "\n",
        "    def __rmul__(self, scalar):\n",
        "        return self.__mul__(scalar)\n",
        "\n",
        "    def simplify(self):\n",
        "        return EnhancedEq(expand(self.lhs), expand(self.rhs))\n",
        "\n",
        "    def substitute(self, *args, **kwargs):\n",
        "        return EnhancedEq(self.lhs.subs(*args, **kwargs), self.rhs.subs(*args, **kwargs))\n",
        "\n",
        "    def solve_for(self, symbol):\n",
        "        return solve(self, symbol)\n",
        "\n",
        "# Example usage:\n",
        "x, y = symbols('x y')\n",
        "\n",
        "# define equations:\n",
        "eq1 = EnhancedEq(2*x - 3*y, 10)\n",
        "eq2 = EnhancedEq(4*x + 5*y, 20)\n"
      ],
      "metadata": {
        "id": "_HbuctU2ZjYo"
      },
      "execution_count": 17,
      "outputs": []
    },
    {
      "cell_type": "code",
      "source": [
        "print (\"First equation:\")\n",
        "eq1"
      ],
      "metadata": {
        "id": "vluUeafGbKvT",
        "outputId": "9976de55-bb2d-4416-d92d-5a6c7ab06134",
        "colab": {
          "base_uri": "https://localhost:8080/",
          "height": 56
        }
      },
      "execution_count": 18,
      "outputs": [
        {
          "output_type": "stream",
          "name": "stdout",
          "text": [
            "First equation:\n"
          ]
        },
        {
          "output_type": "execute_result",
          "data": {
            "text/plain": [
              "Eq(2*x - 3*y, 10)"
            ],
            "text/latex": "$\\displaystyle 2 x - 3 y = 10$"
          },
          "metadata": {},
          "execution_count": 18
        }
      ]
    },
    {
      "cell_type": "code",
      "source": [
        "print (\"Second equation:\")\n",
        "eq2"
      ],
      "metadata": {
        "id": "15IbRehxbPUm",
        "outputId": "653194f6-499a-49ab-e1c6-638200628511",
        "colab": {
          "base_uri": "https://localhost:8080/",
          "height": 56
        }
      },
      "execution_count": 19,
      "outputs": [
        {
          "output_type": "stream",
          "name": "stdout",
          "text": [
            "Second equation:\n"
          ]
        },
        {
          "output_type": "execute_result",
          "data": {
            "text/plain": [
              "Eq(4*x + 5*y, 20)"
            ],
            "text/latex": "$\\displaystyle 4 x + 5 y = 20$"
          },
          "metadata": {},
          "execution_count": 19
        }
      ]
    },
    {
      "cell_type": "code",
      "source": [
        "# eliminate x: multiply eq1 by -2, then add eq2\n",
        "eq3 = -2*eq1 + eq2\n",
        "eq3"
      ],
      "metadata": {
        "id": "8iF3X8qXbSTo",
        "outputId": "d3664f81-3dfd-4516-aec3-e725a5994a90",
        "colab": {
          "base_uri": "https://localhost:8080/",
          "height": 39
        }
      },
      "execution_count": 20,
      "outputs": [
        {
          "output_type": "execute_result",
          "data": {
            "text/plain": [
              "Eq(11*y, 0)"
            ],
            "text/latex": "$\\displaystyle 11 y = 0$"
          },
          "metadata": {},
          "execution_count": 20
        }
      ]
    },
    {
      "cell_type": "code",
      "source": [
        "sol_y = eq3.solve_for(y)[0]\n",
        "sol_y"
      ],
      "metadata": {
        "id": "cWLED427bgwS",
        "outputId": "375ab8d0-c711-43c3-fc59-382ad363687a",
        "colab": {
          "base_uri": "https://localhost:8080/",
          "height": 37
        }
      },
      "execution_count": 21,
      "outputs": [
        {
          "output_type": "execute_result",
          "data": {
            "text/plain": [
              "0"
            ],
            "text/latex": "$\\displaystyle 0$"
          },
          "metadata": {},
          "execution_count": 21
        }
      ]
    },
    {
      "cell_type": "code",
      "source": [
        "# substitute the solution into equation 1\n",
        "eq1 = eq1.substitute(y, sol_y)\n",
        "eq1"
      ],
      "metadata": {
        "id": "LIr1mkWvbitC",
        "outputId": "f33d9853-bd99-48cd-b925-4897929a2273",
        "colab": {
          "base_uri": "https://localhost:8080/",
          "height": 39
        }
      },
      "execution_count": 22,
      "outputs": [
        {
          "output_type": "execute_result",
          "data": {
            "text/plain": [
              "Eq(2*x, 10)"
            ],
            "text/latex": "$\\displaystyle 2 x = 10$"
          },
          "metadata": {},
          "execution_count": 22
        }
      ]
    },
    {
      "cell_type": "code",
      "source": [
        "sol_x = eq1.solve_for(x)[0]\n",
        "sol_x"
      ],
      "metadata": {
        "id": "metb1Mo7bsBj",
        "outputId": "0351af5b-5957-4249-ae3e-d8341507c27a",
        "colab": {
          "base_uri": "https://localhost:8080/",
          "height": 37
        }
      },
      "execution_count": 23,
      "outputs": [
        {
          "output_type": "execute_result",
          "data": {
            "text/plain": [
              "5"
            ],
            "text/latex": "$\\displaystyle 5$"
          },
          "metadata": {},
          "execution_count": 23
        }
      ]
    },
    {
      "cell_type": "code",
      "source": [
        "# thus x=5, y=0\n",
        "# verify with sympy\n",
        "sp.solve([eq1, eq2])"
      ],
      "metadata": {
        "id": "NzYhetV8buER",
        "outputId": "a912d5ed-f7fe-41cf-8576-3c3e9a31780f",
        "colab": {
          "base_uri": "https://localhost:8080/"
        }
      },
      "execution_count": 24,
      "outputs": [
        {
          "output_type": "execute_result",
          "data": {
            "text/plain": [
              "{x: 5, y: 0}"
            ]
          },
          "metadata": {},
          "execution_count": 24
        }
      ]
    },
    {
      "cell_type": "code",
      "source": [
        "import sympy as sp\n",
        "from sympy import symbols, Eq, expand, solve\n",
        "\n",
        "class EnhancedEq(Eq):\n",
        "    def __add__(self, other):\n",
        "        return EnhancedEq(self.lhs + other.lhs, self.rhs + other.rhs)\n",
        "\n",
        "    def __sub__(self, other):\n",
        "        return EnhancedEq(self.lhs - other.lhs, self.rhs - other.rhs)\n",
        "\n",
        "    def __mul__(self, scalar):\n",
        "        return EnhancedEq(scalar * self.lhs, scalar * self.rhs)\n",
        "\n",
        "    def __rmul__(self, scalar):\n",
        "        return self.__mul__(scalar)\n",
        "\n",
        "    def simplify(self):\n",
        "        return EnhancedEq(expand(self.lhs), expand(self.rhs))\n",
        "\n",
        "    def substitute(self, *args, **kwargs):\n",
        "        return EnhancedEq(self.lhs.subs(*args, **kwargs), self.rhs.subs(*args, **kwargs))\n",
        "\n",
        "    def solve_for(self, symbol):\n",
        "        return solve(self, symbol)\n",
        "\n",
        "# Example usage:\n",
        "x, y, z= symbols('x y z')\n",
        "\n",
        "# define equations:\n",
        "eq1 = EnhancedEq(2*x - y + z, 3)\n",
        "eq2 = EnhancedEq(x + 2*y - z, 1)\n",
        "eq3 = EnhancedEq(3*x - y + 2*z, 11)\n"
      ],
      "metadata": {
        "id": "5UPq4zXXcCFa"
      },
      "execution_count": 25,
      "outputs": []
    },
    {
      "cell_type": "code",
      "source": [
        "print (\"First equation:\")\n",
        "eq1"
      ],
      "metadata": {
        "id": "Nbrl-mVecoo_",
        "outputId": "4bae9c3f-3873-4cd9-e3b1-4ee6973aabd1",
        "colab": {
          "base_uri": "https://localhost:8080/",
          "height": 56
        }
      },
      "execution_count": 26,
      "outputs": [
        {
          "output_type": "stream",
          "name": "stdout",
          "text": [
            "First equation:\n"
          ]
        },
        {
          "output_type": "execute_result",
          "data": {
            "text/plain": [
              "Eq(2*x - y + z, 3)"
            ],
            "text/latex": "$\\displaystyle 2 x - y + z = 3$"
          },
          "metadata": {},
          "execution_count": 26
        }
      ]
    },
    {
      "cell_type": "code",
      "source": [
        "print (\"Second equation:\")\n",
        "eq2"
      ],
      "metadata": {
        "id": "gmHl819Vcq36",
        "outputId": "fe006fbf-d25d-480f-a9a6-2d1651785fc8",
        "colab": {
          "base_uri": "https://localhost:8080/",
          "height": 56
        }
      },
      "execution_count": 27,
      "outputs": [
        {
          "output_type": "stream",
          "name": "stdout",
          "text": [
            "Second equation:\n"
          ]
        },
        {
          "output_type": "execute_result",
          "data": {
            "text/plain": [
              "Eq(x + 2*y - z, 1)"
            ],
            "text/latex": "$\\displaystyle x + 2 y - z = 1$"
          },
          "metadata": {},
          "execution_count": 27
        }
      ]
    },
    {
      "cell_type": "code",
      "source": [
        "print (\"Third equation:\")\n",
        "eq3"
      ],
      "metadata": {
        "id": "V_egyjbdctOc",
        "outputId": "6bf807a0-f376-41ee-c8c9-023912a8319e",
        "colab": {
          "base_uri": "https://localhost:8080/",
          "height": 56
        }
      },
      "execution_count": 28,
      "outputs": [
        {
          "output_type": "stream",
          "name": "stdout",
          "text": [
            "Third equation:\n"
          ]
        },
        {
          "output_type": "execute_result",
          "data": {
            "text/plain": [
              "Eq(3*x - y + 2*z, 11)"
            ],
            "text/latex": "$\\displaystyle 3 x - y + 2 z = 11$"
          },
          "metadata": {},
          "execution_count": 28
        }
      ]
    },
    {
      "cell_type": "code",
      "source": [
        "eq4 = eq1 + eq2\n",
        "eq4"
      ],
      "metadata": {
        "id": "SFXysuPicwQB",
        "outputId": "462ed131-0726-4226-edc3-d241b3682f58",
        "colab": {
          "base_uri": "https://localhost:8080/",
          "height": 39
        }
      },
      "execution_count": 29,
      "outputs": [
        {
          "output_type": "execute_result",
          "data": {
            "text/plain": [
              "Eq(3*x + y, 4)"
            ],
            "text/latex": "$\\displaystyle 3 x + y = 4$"
          },
          "metadata": {},
          "execution_count": 29
        }
      ]
    },
    {
      "cell_type": "code",
      "source": [
        "eq5 = 2*eq2 + eq3\n",
        "eq5"
      ],
      "metadata": {
        "id": "ORqiu9kUdhDM",
        "outputId": "d952c3cf-0702-4e76-f343-5d6432d1994b",
        "colab": {
          "base_uri": "https://localhost:8080/",
          "height": 39
        }
      },
      "execution_count": 30,
      "outputs": [
        {
          "output_type": "execute_result",
          "data": {
            "text/plain": [
              "Eq(5*x + 3*y, 13)"
            ],
            "text/latex": "$\\displaystyle 5 x + 3 y = 13$"
          },
          "metadata": {},
          "execution_count": 30
        }
      ]
    },
    {
      "cell_type": "code",
      "source": [
        "eq6 = -3*eq4 + eq5\n",
        "eq6"
      ],
      "metadata": {
        "id": "0jV2A3bxd2aD",
        "outputId": "07794d31-6d40-4f4b-8980-bbf9c4e20197",
        "colab": {
          "base_uri": "https://localhost:8080/",
          "height": 39
        }
      },
      "execution_count": 31,
      "outputs": [
        {
          "output_type": "execute_result",
          "data": {
            "text/plain": [
              "Eq(-4*x, 1)"
            ],
            "text/latex": "$\\displaystyle - 4 x = 1$"
          },
          "metadata": {},
          "execution_count": 31
        }
      ]
    },
    {
      "cell_type": "code",
      "source": [
        "sol_x = eq6.solve_for(x)[0]\n",
        "sol_x"
      ],
      "metadata": {
        "id": "tUAl3vV0d9Tj",
        "outputId": "7b3db9a5-1cb6-4665-dffd-7789c420dbae",
        "colab": {
          "base_uri": "https://localhost:8080/",
          "height": 51
        }
      },
      "execution_count": 32,
      "outputs": [
        {
          "output_type": "execute_result",
          "data": {
            "text/plain": [
              "-1/4"
            ],
            "text/latex": "$\\displaystyle - \\frac{1}{4}$"
          },
          "metadata": {},
          "execution_count": 32
        }
      ]
    },
    {
      "cell_type": "code",
      "source": [
        "eq4 = eq4.substitute(x, sol_x)\n",
        "eq4"
      ],
      "metadata": {
        "id": "ptBh1YxGd_ks",
        "outputId": "c7f0c407-a902-42f6-f5fc-6d92a955d358",
        "colab": {
          "base_uri": "https://localhost:8080/",
          "height": 51
        }
      },
      "execution_count": 33,
      "outputs": [
        {
          "output_type": "execute_result",
          "data": {
            "text/plain": [
              "Eq(y - 3/4, 4)"
            ],
            "text/latex": "$\\displaystyle y - \\frac{3}{4} = 4$"
          },
          "metadata": {},
          "execution_count": 33
        }
      ]
    },
    {
      "cell_type": "code",
      "source": [
        "sol_y = eq4.solve_for(y)[0]\n",
        "sol_y"
      ],
      "metadata": {
        "id": "TZVrF-_AeJjp",
        "outputId": "c998e2c8-95f1-4b0b-c377-0bf96714c71a",
        "colab": {
          "base_uri": "https://localhost:8080/",
          "height": 51
        }
      },
      "execution_count": 34,
      "outputs": [
        {
          "output_type": "execute_result",
          "data": {
            "text/plain": [
              "19/4"
            ],
            "text/latex": "$\\displaystyle \\frac{19}{4}$"
          },
          "metadata": {},
          "execution_count": 34
        }
      ]
    },
    {
      "cell_type": "code",
      "source": [
        "eq1 = eq1.substitute(x, sol_x)\n",
        "eq1 = eq1.substitute(y, sol_y)\n",
        "eq1"
      ],
      "metadata": {
        "id": "KPRsYGJieNFb",
        "outputId": "6787bb2d-d4b3-4452-be8f-7108438a35a1",
        "colab": {
          "base_uri": "https://localhost:8080/",
          "height": 51
        }
      },
      "execution_count": 35,
      "outputs": [
        {
          "output_type": "execute_result",
          "data": {
            "text/plain": [
              "Eq(z - 21/4, 3)"
            ],
            "text/latex": "$\\displaystyle z - \\frac{21}{4} = 3$"
          },
          "metadata": {},
          "execution_count": 35
        }
      ]
    },
    {
      "cell_type": "code",
      "source": [
        "sol_z = eq1.solve_for(z)[0]\n",
        "sol_z"
      ],
      "metadata": {
        "id": "uw9kV3LUeVTr",
        "outputId": "17e04804-fae8-4b0a-c797-943687168fcb",
        "colab": {
          "base_uri": "https://localhost:8080/",
          "height": 51
        }
      },
      "execution_count": 36,
      "outputs": [
        {
          "output_type": "execute_result",
          "data": {
            "text/plain": [
              "33/4"
            ],
            "text/latex": "$\\displaystyle \\frac{33}{4}$"
          },
          "metadata": {},
          "execution_count": 36
        }
      ]
    },
    {
      "cell_type": "code",
      "source": [
        "sp.solve([eq1, eq2, eq3])\n"
      ],
      "metadata": {
        "id": "S9OkYtr-eyTc",
        "outputId": "6099d1f4-ad9d-448b-d21f-a0cb6b485da2",
        "colab": {
          "base_uri": "https://localhost:8080/"
        }
      },
      "execution_count": 37,
      "outputs": [
        {
          "output_type": "execute_result",
          "data": {
            "text/plain": [
              "{x: -1/4, y: 19/4, z: 33/4}"
            ]
          },
          "metadata": {},
          "execution_count": 37
        }
      ]
    },
    {
      "cell_type": "code",
      "source": [
        "import sympy as sp\n",
        "from sympy import symbols, Eq, expand, solve\n",
        "\n",
        "class EnhancedEq(Eq):\n",
        "    def __add__(self, other):\n",
        "        return EnhancedEq(self.lhs + other.lhs, self.rhs + other.rhs)\n",
        "\n",
        "    def __sub__(self, other):\n",
        "        return EnhancedEq(self.lhs - other.lhs, self.rhs - other.rhs)\n",
        "\n",
        "    def __mul__(self, scalar):\n",
        "        return EnhancedEq(scalar * self.lhs, scalar * self.rhs)\n",
        "\n",
        "    def __rmul__(self, scalar):\n",
        "        return self.__mul__(scalar)\n",
        "\n",
        "    def simplify(self):\n",
        "        return EnhancedEq(expand(self.lhs), expand(self.rhs))\n",
        "\n",
        "    def substitute(self, *args, **kwargs):\n",
        "        return EnhancedEq(self.lhs.subs(*args, **kwargs), self.rhs.subs(*args, **kwargs))\n",
        "\n",
        "    def solve_for(self, symbol):\n",
        "        return solve(self, symbol)\n",
        "\n",
        "# Example usage:\n",
        "x, y, z, t= symbols('x y z t')\n",
        "\n",
        "# define equations:\n",
        "eq1 = EnhancedEq(2*x - 3*y + 4*z + 2*t, 2)\n",
        "eq2 = EnhancedEq(3*x + 2*y - 5*z + 3*t, 3)\n",
        "eq3 = EnhancedEq(4*x - 3*y + 2*z - 5*t, 4)\n",
        "eq4 = EnhancedEq(5*x + 4*y - 3*z + 2*t, 5)\n"
      ],
      "metadata": {
        "id": "VUDQjMXNe5EC"
      },
      "execution_count": 38,
      "outputs": []
    },
    {
      "cell_type": "code",
      "source": [
        "print(\"Original Equations:\")\n",
        "display(eq1, eq2, eq3, eq4)\n"
      ],
      "metadata": {
        "id": "NCcNlgPTjez0",
        "outputId": "1d2b5c1a-7886-4836-96ba-d0f8ae2afd5f",
        "colab": {
          "base_uri": "https://localhost:8080/",
          "height": 121
        }
      },
      "execution_count": 39,
      "outputs": [
        {
          "output_type": "stream",
          "name": "stdout",
          "text": [
            "Original Equations:\n"
          ]
        },
        {
          "output_type": "display_data",
          "data": {
            "text/plain": [
              "Eq(2*t + 2*x - 3*y + 4*z, 2)"
            ],
            "text/latex": "$\\displaystyle 2 t + 2 x - 3 y + 4 z = 2$"
          },
          "metadata": {}
        },
        {
          "output_type": "display_data",
          "data": {
            "text/plain": [
              "Eq(3*t + 3*x + 2*y - 5*z, 3)"
            ],
            "text/latex": "$\\displaystyle 3 t + 3 x + 2 y - 5 z = 3$"
          },
          "metadata": {}
        },
        {
          "output_type": "display_data",
          "data": {
            "text/plain": [
              "Eq(-5*t + 4*x - 3*y + 2*z, 4)"
            ],
            "text/latex": "$\\displaystyle - 5 t + 4 x - 3 y + 2 z = 4$"
          },
          "metadata": {}
        },
        {
          "output_type": "display_data",
          "data": {
            "text/plain": [
              "Eq(2*t + 5*x + 4*y - 3*z, 5)"
            ],
            "text/latex": "$\\displaystyle 2 t + 5 x + 4 y - 3 z = 5$"
          },
          "metadata": {}
        }
      ]
    },
    {
      "cell_type": "code",
      "source": [
        "eq5 = 2*eq2 - 3*eq1\n",
        "eq5"
      ],
      "metadata": {
        "id": "qrKkUcGvkTRH",
        "outputId": "f5bc4c79-7921-49c5-ce2b-9225098141d0",
        "colab": {
          "base_uri": "https://localhost:8080/",
          "height": 39
        }
      },
      "execution_count": 40,
      "outputs": [
        {
          "output_type": "execute_result",
          "data": {
            "text/plain": [
              "Eq(13*y - 22*z, 0)"
            ],
            "text/latex": "$\\displaystyle 13 y - 22 z = 0$"
          },
          "metadata": {},
          "execution_count": 40
        }
      ]
    },
    {
      "cell_type": "code",
      "source": [
        "eq6 = eq3 - 2*eq1\n",
        "eq6"
      ],
      "metadata": {
        "id": "YFB5BHgQkbz8",
        "outputId": "8dc4ff85-8961-49e2-9fb1-f4ac487e42aa",
        "colab": {
          "base_uri": "https://localhost:8080/",
          "height": 39
        }
      },
      "execution_count": 41,
      "outputs": [
        {
          "output_type": "execute_result",
          "data": {
            "text/plain": [
              "Eq(-9*t + 3*y - 6*z, 0)"
            ],
            "text/latex": "$\\displaystyle - 9 t + 3 y - 6 z = 0$"
          },
          "metadata": {},
          "execution_count": 41
        }
      ]
    },
    {
      "cell_type": "code",
      "source": [
        "eq7 = 2*eq4 - 5*eq1\n",
        "eq7"
      ],
      "metadata": {
        "id": "UrIqejltk1_q",
        "outputId": "9c72d8de-9e9e-4e73-a0cc-9aecf3f17540",
        "colab": {
          "base_uri": "https://localhost:8080/",
          "height": 39
        }
      },
      "execution_count": 42,
      "outputs": [
        {
          "output_type": "execute_result",
          "data": {
            "text/plain": [
              "Eq(-6*t + 23*y - 26*z, 0)"
            ],
            "text/latex": "$\\displaystyle - 6 t + 23 y - 26 z = 0$"
          },
          "metadata": {},
          "execution_count": 42
        }
      ]
    },
    {
      "cell_type": "code",
      "source": [
        "eq8 = 2*eq6 - 3*eq7\n",
        "eq8"
      ],
      "metadata": {
        "id": "Zvxpw3GCk-T3",
        "outputId": "c7996d5b-8bcf-4395-df68-25e3b3d4441d",
        "colab": {
          "base_uri": "https://localhost:8080/",
          "height": 39
        }
      },
      "execution_count": 43,
      "outputs": [
        {
          "output_type": "execute_result",
          "data": {
            "text/plain": [
              "Eq(-63*y + 66*z, 0)"
            ],
            "text/latex": "$\\displaystyle - 63 y + 66 z = 0$"
          },
          "metadata": {},
          "execution_count": 43
        }
      ]
    },
    {
      "cell_type": "code",
      "source": [
        "eq9 = eq8 + 3*eq5\n",
        "eq9"
      ],
      "metadata": {
        "id": "xE2P5hdVlnyx",
        "outputId": "ed2c95b7-0734-42d2-f9ba-bd17a1016dfa",
        "colab": {
          "base_uri": "https://localhost:8080/",
          "height": 39
        }
      },
      "execution_count": 44,
      "outputs": [
        {
          "output_type": "execute_result",
          "data": {
            "text/plain": [
              "Eq(-24*y, 0)"
            ],
            "text/latex": "$\\displaystyle - 24 y = 0$"
          },
          "metadata": {},
          "execution_count": 44
        }
      ]
    },
    {
      "cell_type": "code",
      "source": [
        "sol_y = eq9.solve_for(y)[0]\n",
        "sol_y"
      ],
      "metadata": {
        "id": "Ohde8JwNlx1g",
        "outputId": "ba405bf4-9f70-4a7a-cdaf-a8ea272c84a3",
        "colab": {
          "base_uri": "https://localhost:8080/",
          "height": 37
        }
      },
      "execution_count": 45,
      "outputs": [
        {
          "output_type": "execute_result",
          "data": {
            "text/plain": [
              "0"
            ],
            "text/latex": "$\\displaystyle 0$"
          },
          "metadata": {},
          "execution_count": 45
        }
      ]
    },
    {
      "cell_type": "code",
      "source": [
        "eq5 = eq5.substitute(y, sol_y)\n",
        "eq5"
      ],
      "metadata": {
        "id": "KoSYkHEfl3kP",
        "outputId": "ecf3944f-dcba-4b61-8991-bdb476fdb3ce",
        "colab": {
          "base_uri": "https://localhost:8080/",
          "height": 39
        }
      },
      "execution_count": 46,
      "outputs": [
        {
          "output_type": "execute_result",
          "data": {
            "text/plain": [
              "Eq(-22*z, 0)"
            ],
            "text/latex": "$\\displaystyle - 22 z = 0$"
          },
          "metadata": {},
          "execution_count": 46
        }
      ]
    },
    {
      "cell_type": "code",
      "source": [
        "sol_z = eq5.solve_for(z)[0]\n",
        "sol_z"
      ],
      "metadata": {
        "id": "L52voBDVmOFW",
        "outputId": "4ac5ed30-29e9-462b-d2b5-226c71a1d996",
        "colab": {
          "base_uri": "https://localhost:8080/",
          "height": 37
        }
      },
      "execution_count": 47,
      "outputs": [
        {
          "output_type": "execute_result",
          "data": {
            "text/plain": [
              "0"
            ],
            "text/latex": "$\\displaystyle 0$"
          },
          "metadata": {},
          "execution_count": 47
        }
      ]
    },
    {
      "cell_type": "code",
      "source": [
        "eq6 = eq6.substitute(y, sol_y)\n",
        "eq6 = eq6.substitute(z, sol_z)\n",
        "eq6"
      ],
      "metadata": {
        "id": "kIfcrcdjmAl-",
        "outputId": "98f8ca80-fb63-4e34-9822-5dc3378f9c93",
        "colab": {
          "base_uri": "https://localhost:8080/",
          "height": 39
        }
      },
      "execution_count": 48,
      "outputs": [
        {
          "output_type": "execute_result",
          "data": {
            "text/plain": [
              "Eq(-9*t, 0)"
            ],
            "text/latex": "$\\displaystyle - 9 t = 0$"
          },
          "metadata": {},
          "execution_count": 48
        }
      ]
    },
    {
      "cell_type": "code",
      "source": [
        "sol_t = eq6.solve_for(t)[0]\n",
        "sol_t"
      ],
      "metadata": {
        "id": "YiymwxTrmYXO",
        "outputId": "83062e46-268f-48f9-968d-41c5d0912545",
        "colab": {
          "base_uri": "https://localhost:8080/",
          "height": 37
        }
      },
      "execution_count": 49,
      "outputs": [
        {
          "output_type": "execute_result",
          "data": {
            "text/plain": [
              "0"
            ],
            "text/latex": "$\\displaystyle 0$"
          },
          "metadata": {},
          "execution_count": 49
        }
      ]
    },
    {
      "cell_type": "code",
      "source": [
        "eq1 = eq1.substitute(y, sol_y)\n",
        "eq1 = eq1.substitute(z, sol_z)\n",
        "eq1 = eq1.substitute(t, sol_t)\n",
        "eq1"
      ],
      "metadata": {
        "id": "nnUsSEq7mdMn",
        "outputId": "b8abba0a-72bf-407d-cb95-40d97986a73f",
        "colab": {
          "base_uri": "https://localhost:8080/",
          "height": 39
        }
      },
      "execution_count": 50,
      "outputs": [
        {
          "output_type": "execute_result",
          "data": {
            "text/plain": [
              "Eq(2*x, 2)"
            ],
            "text/latex": "$\\displaystyle 2 x = 2$"
          },
          "metadata": {},
          "execution_count": 50
        }
      ]
    },
    {
      "cell_type": "code",
      "source": [
        "sol_x = eq1.solve_for(x)[0]\n",
        "sol_x"
      ],
      "metadata": {
        "id": "VqExChK5mglB",
        "outputId": "0f23ad55-87a2-42fe-d0fd-f3cf13fc1b32",
        "colab": {
          "base_uri": "https://localhost:8080/",
          "height": 37
        }
      },
      "execution_count": 51,
      "outputs": [
        {
          "output_type": "execute_result",
          "data": {
            "text/plain": [
              "1"
            ],
            "text/latex": "$\\displaystyle 1$"
          },
          "metadata": {},
          "execution_count": 51
        }
      ]
    },
    {
      "cell_type": "code",
      "source": [
        "sp.solve([eq1, eq2, eq3, eq4])"
      ],
      "metadata": {
        "id": "0e5n6BlQmmrk",
        "outputId": "6ff8c423-e9f0-4ee4-a8ce-caa0e8478d9c",
        "colab": {
          "base_uri": "https://localhost:8080/"
        }
      },
      "execution_count": 52,
      "outputs": [
        {
          "output_type": "execute_result",
          "data": {
            "text/plain": [
              "{t: 0, x: 1, y: 0, z: 0}"
            ]
          },
          "metadata": {},
          "execution_count": 52
        }
      ]
    }
  ],
  "metadata": {
    "kernelspec": {
      "display_name": "Python 3",
      "language": "python",
      "name": "python3"
    },
    "language_info": {
      "codemirror_mode": {
        "name": "ipython",
        "version": 3
      },
      "file_extension": ".py",
      "mimetype": "text/x-python",
      "name": "python",
      "nbconvert_exporter": "python",
      "pygments_lexer": "ipython3",
      "version": "3.11.9"
    },
    "colab": {
      "provenance": [],
      "include_colab_link": true
    }
  },
  "nbformat": 4,
  "nbformat_minor": 0
}