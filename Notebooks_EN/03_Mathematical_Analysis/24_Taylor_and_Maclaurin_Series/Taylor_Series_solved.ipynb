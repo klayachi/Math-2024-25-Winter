{
  "cells": [
    {
      "cell_type": "markdown",
      "metadata": {
        "id": "view-in-github",
        "colab_type": "text"
      },
      "source": [
        "<a href=\"https://colab.research.google.com/github/klayachi/Math-2024-25-Winter/blob/main/Notebooks_EN/03_Mathematical_Analysis/24_Taylor_and_Maclaurin_Series/Taylor_Series_solved.ipynb\" target=\"_parent\"><img src=\"https://colab.research.google.com/assets/colab-badge.svg\" alt=\"Open In Colab\"/></a>"
      ]
    },
    {
      "cell_type": "markdown",
      "metadata": {
        "id": "FW4UHbDReG9y"
      },
      "source": [
        "# **23. Taylor Series**\n",
        "1. Find the Taylor series and visualize obtained functions in Geogebra:\n",
        "   - $f(x) = \\cos(x)$ around $x = 0$ up to the 4th degree.\n",
        "   - $h(x) = 1/(1-x)$ around $x = 0$ up to the 4rd degree.\n",
        "   - $g(x) = \\sin(x)$ around $x = \\pi$ up to the 4rd degree.\n",
        "\n",
        "2. Find a tangent line $y = f'(x_0) (x-x_0) + f(x_0)$ to the function $f(x) = e^{\\sin(x)}$ at $x_0 = \\pi$. Hints for Geogebra visualization: define f(x), include slider s, define y = f'(s) (x-s) + f(s), and include point P(s, f(s)).\n"
      ]
    },
    {
      "cell_type": "markdown",
      "source": [
        "#**HomeWork**"
      ],
      "metadata": {
        "id": "qgy04NcN1tfO"
      }
    },
    {
      "cell_type": "markdown",
      "source": [
        "## **Exercise 1**\n",
        " - $ f(x) = \\cos(x) $ around $ x = 0 $ up to the 4th degree\n",
        "\n",
        "### Step 1: Compute the Derivatives of $ f(x) = \\cos(x) $\n",
        "\n",
        "1. $f(x) = \\cos(x)$\n",
        "\n",
        "$f(0) = \\cos(0) = 1$\n",
        "\n",
        "2. **First derivative**:\n",
        "\n",
        "$f'(x) = -\\sin(x)$\n",
        "\n",
        "$f'(0) = -\\sin(0) = 0$\n",
        "\n",
        "3. **Second derivative**:\n",
        "\n",
        "$f''(x) = -\\cos(x)$\n",
        "\n",
        "$f''(0) = -\\cos(0) = -1$\n",
        "\n",
        "4. **Third derivative**:\n",
        "\n",
        "$f'''(x) = \\sin(x)$\n",
        "\n",
        "$f'''(0) = \\sin(0) = 0$\n",
        "\n",
        "5. **Fourth derivative**:\n",
        "\n",
        "$f^{(4)}(x) = \\cos(x)$\n",
        "\n",
        "$f^{(4)}(0) = \\cos(0) = 1$\n",
        "\n",
        "### Step 2: Write the Taylor Series Formula\n",
        "\n",
        "The Taylor series for $ f(x) $ around $x = 0$ is:\n",
        "\n",
        "$$\n",
        "f(x) = f(0) + \\frac{f'(0)}{1!}x + \\frac{f''(0)}{2!}x^2 + \\frac{f'''(0)}{3!}x^3 + \\frac{f^{(4)}(0)}{4!}x^4 + \\cdots\n",
        "$$\n",
        "\n",
        "Substitute the derivatives at $ x = 0 $ into the Taylor series formula:\n",
        "\n",
        "$\\cos(x) \\approx 1 + \\frac{0}{1!}x + \\frac{-1}{2!}x^2 + \\frac{0}{3!}x^3 + \\frac{1}{4!}x^4$\n",
        "\n",
        "$\\cos(x) \\approx 1 - \\frac{x^2}{2} + \\frac{x^4}{24}$\n",
        "___\n",
        "- $h(x) = \\frac{1}{1-x}$ around $x = 0$ up to the 4rd degree.\n",
        "1. $h'(0)= \\frac{1}{(1-x)^2}=1$\n",
        "\n",
        "2. $h''(0)=\\frac{d}{dx} (\\frac{1}{(1-0)})= \\frac{2}{(1-0)^3}=2$\n",
        "\n",
        "3. $h'''(0)= \\frac{d}{dx} \\left( \\frac{2}{(1-0)^3} \\right)= \\frac{6}{(1-0)^4} = 6$\n",
        "\n",
        "4. $h^{(4)}(0) = \\frac{d}{dx} \\left( \\frac{6}{(1-0)^4} \\right) = \\frac{24}{(1-0)^5}= 24$\n",
        "\n",
        "\n",
        "$h(x) \\approx 1 + \\frac{1}{1!}x + \\frac{2}{2!}x^2 + \\frac{6}{3!}x^3 + \\frac{24}{4!}x^4$\n",
        "\n",
        "$h(x) \\approx 1 + x + \\frac{1}{1}x^2 + \\frac{1}{1}x^3 + \\frac{1}{1}x^4$\n",
        "\n",
        "$h(x) \\approx 1 + x + x^2 + x^3 + x^4$\n",
        "\n",
        "---\n",
        " - $g(x) = \\sin(x)$ around $x = \\pi$ up to the 4rd degree.\n",
        "1. $g'(x) = \\cos(x)$\n",
        "2. $g''(x) = -\\sin(x)$\n",
        "3. $g'''(x) = -\\cos(x)$\n",
        "4. $g^{(4)}(x) = \\sin(x)$\n",
        "\n",
        "### Evaluate the Derivatives at $ x = \\pi $\n",
        "\n",
        "1. $g(\\pi) = \\sin(\\pi) = 0 $\n",
        "2. $ g'(\\pi) = \\cos(\\pi) = -1 $\n",
        "3. $ g''(\\pi) = -\\sin(\\pi) = 0 $\n",
        "4. $ g'''(\\pi) = -\\cos(\\pi) = 1 $\n",
        "5. $ g^{(4)}(\\pi) = \\sin(\\pi) = 0 $$\n",
        "\n",
        "###  Taylor Series Formula\n",
        "\n",
        "The Taylor series formula:\n",
        "\n",
        "$$\n",
        "g(x) = g(\\pi) + \\frac{g'(\\pi)}{1!}(x - \\pi) + \\frac{g''(\\pi)}{2!}(x - \\pi)^2 + \\frac{g'''(\\pi)}{3!}(x - \\pi)^3 + \\frac{g^{(4)}(\\pi)}{4!}(x - \\pi)^4 + \\cdots\n",
        "$$\n",
        "\n",
        "###  Substitute the Values\n",
        "\n",
        "$g(x) = 0 + \\frac{-1}{1!}(x - \\pi) + \\frac{0}{2!}(x - \\pi)^2 + \\frac{1}{3!}(x - \\pi)^3 + \\frac{0}{4!}(x - \\pi)^4$\n",
        "\n",
        "$g(x) \\approx -(x - \\pi) + \\frac{1}{6}(x - \\pi)^3$\n",
        "\n",
        "## **Exercise 2**\n",
        " Tangent line $y = f'(x_0) (x-x_0) + f(x_0)$ to the function $f(x) = e^{\\sin(x)}$ at $x_0 = \\pi$\n",
        " ### Step 1: Compute $ f(x_0) $\n",
        "\n",
        "First, calculate the value of the function $ f(x) $ at $ x_0 = \\pi $:\n",
        "\n",
        "$f(x) = e^{\\sin(x)}$\n",
        "\n",
        "$f(\\pi) = e^{\\sin(\\pi)} = e^0 = 1$\n",
        "\n",
        "### Step 2: Compute the derivative $ f'(x) $\n",
        "\n",
        "$f'(x) = \\frac{d}{dx} \\left( e^{\\sin(x)} \\right) = e^{\\sin(x)} \\cdot \\cos(x)$\n",
        "\n",
        "### Step 3: Compute $ f'(x_0) $\n",
        "$f'(x) = e^{\\sin(x)} \\cdot \\cos(x)$\n",
        "\n",
        "$f'(\\pi) = e^{\\sin(\\pi)} \\cdot \\cos(\\pi) = e^0 \\cdot (-1) = -1$\n",
        "\n",
        "### Step 4: Write the equation of the tangent line\n",
        "\n",
        "The general formula for the tangent line at $ x = x_0 $ is:\n",
        "\n",
        "$$\n",
        "y = f'(x_0) (x - x_0) + f(x_0)\n",
        "$$\n",
        "\n",
        "$y = -1 \\cdot (x - \\pi) + 1$\n",
        "\n",
        "$y = -x + \\pi + 1$\n",
        "\n",
        "\n",
        "\n",
        "\n"
      ],
      "metadata": {
        "id": "zdVWRxkTeYwI"
      }
    }
  ],
  "metadata": {
    "kernelspec": {
      "display_name": "Python 3",
      "language": "python",
      "name": "python3"
    },
    "language_info": {
      "codemirror_mode": {
        "name": "ipython",
        "version": 3
      },
      "file_extension": ".py",
      "mimetype": "text/x-python",
      "name": "python",
      "nbconvert_exporter": "python",
      "pygments_lexer": "ipython3",
      "version": "3.8.5"
    },
    "colab": {
      "provenance": [],
      "include_colab_link": true
    }
  },
  "nbformat": 4,
  "nbformat_minor": 0
}