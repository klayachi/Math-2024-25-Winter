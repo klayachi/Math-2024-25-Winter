{
  "nbformat": 4,
  "nbformat_minor": 0,
  "metadata": {
    "colab": {
      "provenance": [],
      "include_colab_link": true
    },
    "kernelspec": {
      "name": "python3",
      "display_name": "Python 3"
    },
    "language_info": {
      "name": "python"
    }
  },
  "cells": [
    {
      "cell_type": "markdown",
      "metadata": {
        "id": "view-in-github",
        "colab_type": "text"
      },
      "source": [
        "<a href=\"https://colab.research.google.com/github/klayachi/Math-2024-25-Winter/blob/main/Notebooks_EN/03_Mathematical_Analysis/12_Derivatives/Extremum.ipynb\" target=\"_parent\"><img src=\"https://colab.research.google.com/assets/colab-badge.svg\" alt=\"Open In Colab\"/></a>"
      ]
    },
    {
      "cell_type": "markdown",
      "source": [
        "## 22. Extremum\n",
        "\n",
        "6. The profit function is $P(u) = -2u^2 + 50u - 300$, where $u$ is the number of units sold. Find the number of units that maximize profit.\n",
        "\n",
        "7. You have 10 meters of string, and you need to use it to enclose the largest possible rectangular. Find the dimensions of the rectangle.\n",
        "\n",
        "8. Find extremum od $f(x) = x^2 + 3x - 5$.\n",
        "\n",
        "9. Find extremum of $f(x) =\\frac{x^2+2x+1}{x-1}$."
      ],
      "metadata": {
        "id": "6-kVkPFog8NZ"
      }
    },
    {
      "cell_type": "markdown",
      "source": [
        "#**HomeWork :**"
      ],
      "metadata": {
        "id": "ram613v-2BcL"
      }
    }
  ]
}