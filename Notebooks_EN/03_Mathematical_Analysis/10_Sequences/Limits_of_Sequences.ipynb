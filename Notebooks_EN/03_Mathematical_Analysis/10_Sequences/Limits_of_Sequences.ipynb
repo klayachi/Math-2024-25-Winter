{
  "nbformat": 4,
  "nbformat_minor": 0,
  "metadata": {
    "colab": {
      "provenance": [],
      "include_colab_link": true
    },
    "kernelspec": {
      "name": "python3",
      "display_name": "Python 3"
    },
    "language_info": {
      "name": "python"
    }
  },
  "cells": [
    {
      "cell_type": "markdown",
      "metadata": {
        "id": "view-in-github",
        "colab_type": "text"
      },
      "source": [
        "<a href=\"https://colab.research.google.com/github/klayachi/Math-2024-25-Winter/blob/main/Notebooks_EN/03_Mathematical_Analysis/10_Sequences/Limits_of_Sequences.ipynb\" target=\"_parent\"><img src=\"https://colab.research.google.com/assets/colab-badge.svg\" alt=\"Open In Colab\"/></a>"
      ]
    },
    {
      "cell_type": "markdown",
      "source": [
        "## 19. Limits of Sequences\n",
        "\n",
        "1. Calculate:\n",
        "   - $\\displaystyle \\lim_{n \\to \\infty} \\frac{n^2 + 3n}{2 n^2 - 2n}$\n",
        "\n",
        "   - $\\displaystyle \\lim_{n \\to \\infty} \\frac{(2n+3)^3}{n^3-1}$\n",
        "\n",
        "2. Prove using the squeeze theorem:\n",
        "   - $\\displaystyle\\lim_{n \\to \\infty} \\frac{\\sin(n)}{n}$\n",
        "\n",
        "4. Find the limit of the sequence:\n",
        "   - $a_n = (1+\\frac{1}{n})^n$\n"
      ],
      "metadata": {
        "id": "6-kVkPFog8NZ"
      }
    },
    {
      "cell_type": "markdown",
      "source": [
        "#**HomeWork :**"
      ],
      "metadata": {
        "id": "ram613v-2BcL"
      }
    },
    {
      "cell_type": "markdown",
      "source": [
        "### Step 1: Calculate the Limits\n",
        "\n",
        "1. $$\\lim_{{n \\to \\infty}} \\frac{n^2 + 3n}{2n^2 - 2n}$$\n",
        "\n",
        "   Simplify the expression by dividing the numerator and the denominator by $$n^2$$:\n",
        "\n",
        "   $$\n",
        "   \\lim_{{n \\to \\infty}} \\frac{1 + \\frac{3}{n}}{2 - \\frac{2}{n}} = \\frac{1}{2}\n",
        "   $$\n",
        "\n",
        "2. $$\\lim_{{n \\to \\infty}} \\frac{(2n + 3)^3}{n^3 - 1}$$\n",
        "\n",
        "   Expand the numerator:\n",
        "\n",
        "   $$\n",
        "   (2n + 3)^3 = 8n^3 + 36n^2 + 54n + 27\n",
        "   $$\n",
        "\n",
        "   Simplify by dividing both the numerator and the denominator by $$n^3$$:\n",
        "\n",
        "   $$\n",
        "   \\lim_{{n \\to \\infty}} \\frac{8 + \\frac{36}{n} + \\frac{54}{n^2} + \\frac{27}{n^3}}{1 - \\frac{1}{n^3}} = 8\n",
        "   $$\n",
        "\n",
        "### Step 2: Prove Using the Squeeze Theorem\n",
        "\n",
        "Prove $$\\lim_{{n \\to \\infty}} \\frac{\\sin(n)}{n} = 0$$\n",
        "\n",
        "Since $$-1 \\leq \\sin(n) \\leq 1$$, we have:\n",
        "\n",
        "$$\n",
        "-\\frac{1}{n} \\leq \\frac{\\sin(n)}{n} \\leq \\frac{1}{n}\n",
        "$$\n",
        "\n",
        "As $$n \\to \\infty$$:\n",
        "\n",
        "$$\n",
        "\\lim_{{n \\to \\infty}} -\\frac{1}{n} = 0 \\quad \\text{and} \\quad \\lim_{{n \\to \\infty}} \\frac{1}{n} = 0\n",
        "$$\n",
        "\n",
        "By the squeeze theorem:\n",
        "\n",
        "$$\n",
        "\\lim_{{n \\to \\infty}} \\frac{\\sin(n)}{n} = 0\n",
        "$$\n",
        "\n",
        "### Step 3: Find the Limit of the Sequence\n",
        "\n",
        "Find $$\\lim_{{n \\to \\infty}} \\left(1 + \\frac{1}{n}\\right)^n$$\n",
        "\n",
        "This is a well-known limit:\n",
        "\n",
        "$$\n",
        "\\lim_{{n \\to \\infty}} \\left(1 + \\frac{1}{n}\\right)^n = e\n",
        "$$\n",
        "\n",
        "To understand why, let's break it down:\n",
        "\n",
        "1. Consider the expression $$\\left(1 + \\frac{1}{n}\\right)^n$$. As $$n$$ increases, the term $$\\frac{1}{n}$$ gets smaller.\n",
        "2. When $$n$$ approaches infinity, the expression can be rewritten using the definition of the exponential function:\n",
        "   \n",
        "   $$\n",
        "   e = \\lim_{{n \\to \\infty}} \\left(1 + \\frac{1}{n}\\right)^n\n",
        "   $$\n",
        "\n",
        "3. This limit defines the mathematical constant $$e$$, which is approximately equal to 2.71828.\n",
        "\n",
        "Hence, the sequence $$\\left(1 + \\frac{1}{n}\\right)^n$$ converges to $$e$$ as $$n$$ approaches infinity."
      ],
      "metadata": {
        "id": "sHggGEiTOfVk"
      }
    }
  ]
}