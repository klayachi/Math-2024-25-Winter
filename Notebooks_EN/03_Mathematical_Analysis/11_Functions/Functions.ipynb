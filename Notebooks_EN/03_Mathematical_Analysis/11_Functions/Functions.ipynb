{
  "nbformat": 4,
  "nbformat_minor": 0,
  "metadata": {
    "colab": {
      "provenance": [],
      "include_colab_link": true
    },
    "kernelspec": {
      "name": "python3",
      "display_name": "Python 3"
    },
    "language_info": {
      "name": "python"
    }
  },
  "cells": [
    {
      "cell_type": "markdown",
      "metadata": {
        "id": "view-in-github",
        "colab_type": "text"
      },
      "source": [
        "<a href=\"https://colab.research.google.com/github/klayachi/Math-2024-25-Winter/blob/main/Notebooks_EN/03_Mathematical_Analysis/11_Functions/Functions.ipynb\" target=\"_parent\"><img src=\"https://colab.research.google.com/assets/colab-badge.svg\" alt=\"Open In Colab\"/></a>"
      ]
    },
    {
      "cell_type": "markdown",
      "source": [
        "## 18. Functions\n",
        "\n",
        "1. Draw in a single Geogebra notebook the following functions:\n",
        "   - $f(x) = x^2$\n",
        "   - $g(x) = \\sqrt{x}$\n",
        "   - $h(x) = \\frac{1}{x}$\n",
        "   - $j(x) = \\sin(x)$\n",
        "\n",
        "Find value of all the above functions at $x = 2$.\n",
        "\n",
        "2. Let $f(x) = 3x - 1$ and $g(x) = \\sqrt{x}$. Find:\n",
        "   - $f(g(x))$\n",
        "   - $g(f(x))$\n",
        "   - $f(f(x))$\n",
        "   - $g(g(x))$\n",
        "\n",
        "and visualize functions in a single Geogebra notebook.\n",
        "\n",
        "3. Let $f(x) = e^x$ and $g(x) = \\ln(x)$. Check: $f(g(x))$ and $g(f(x))$. What do you notice?\n",
        "\n",
        "4. We have function $f=\\{(1,7), (2,9), (3,11)\\}$. Give inverse function $f^{-1}$.\n",
        "\n",
        "5. We have function $f=\\{(1,7), (2,7), (3,11)\\}$. Give inverse function $f^{-1}$.\n",
        "\n",
        "6. We have function $f(x)= x-1$. Give inverse function $f^{-1}$. Show both functions on the same Geogebra notebook.\n"
      ],
      "metadata": {
        "id": "6-kVkPFog8NZ"
      }
    },
    {
      "cell_type": "markdown",
      "source": [
        "#**HomeWork**"
      ],
      "metadata": {
        "id": "9jYlQ6KtrHAt"
      }
    },
    {
      "cell_type": "markdown",
      "source": [
        "## Task 1: Function Values\n",
        "\n",
        "For $$ f(x) = x^2 $$:\n",
        "$$\n",
        "f(2) = 2^2 = 4\n",
        "$$\n",
        "\n",
        "For $$ g(x) = \\sqrt{x} $$:\n",
        "$$\n",
        "g(2) = \\sqrt{2} \\approx 1.414\n",
        "$$\n",
        "\n",
        "For $$ h(x) = \\frac{1}{x} $$:\n",
        "$$\n",
        "h(2) = \\frac{1}{2} = 0.5\n",
        "$$\n",
        "\n",
        "For $$ j(x) = \\sin(x) $$:\n",
        "$$\n",
        "j(2) = \\sin(2) \\approx 0.909\n",
        "$$\n",
        "\n",
        "**Visualisation :** https://www.geogebra.org/calculator/wrczhmnm\n",
        "\n",
        "---\n",
        "\n",
        "## Task 2: Composite Functions\n",
        "\n",
        "Given $$ f(x) = 3x - 1 $$ and $$ g(x) = \\sqrt{x} $$:\n",
        "\n",
        "1. $$ f(g(x)) = f(\\sqrt{x}) $$:\n",
        "$$\n",
        "f(g(x)) = 3\\sqrt{x} - 1\n",
        "$$\n",
        "\n",
        "2. $$ g(f(x)) = g(3x - 1) $$:\n",
        "$$\n",
        "g(f(x)) = \\sqrt{3x - 1}\n",
        "$$\n",
        "\n",
        "3. $$ f(f(x)) = f(3x - 1) $$:\n",
        "$$\n",
        "f(f(x)) = 9x - 4\n",
        "$$\n",
        "\n",
        "4. $$ g(g(x)) = g(\\sqrt{x}) $$:\n",
        "$$\n",
        "g(g(x)) = x^{1/4}\n",
        "$$\n",
        "\n",
        "---\n",
        "\n",
        "## Task 3: Verifying Inverse Functions\n",
        "\n",
        "Given $$ f(x) = e^x $$ and $$ g(x) = \\ln(x) $$:\n",
        "\n",
        "1. $$ f(g(x)) = f(\\ln(x)) $$:\n",
        "$$\n",
        "f(g(x)) = e^{\\ln(x)} = x\n",
        "$$\n",
        "\n",
        "2. $$ g(f(x)) = g(e^x) $$:\n",
        "$$\n",
        "g(f(x)) = \\ln(e^x) = x\n",
        "$$\n",
        "\n",
        "**Observation**: $$ f(x) = e^x $$ and $$ g(x) = \\ln(x) $$ are inverses since both compositions result in the identity function.\n",
        "\n",
        "---\n",
        "\n",
        "## Task 4: Inverse Function\n",
        "\n",
        "Given $$ f = \\{(1,7), (2,9), (3,11)\\} $$:\n",
        "\n",
        "The inverse function swaps the pairs:\n",
        "$$\n",
        "f^{-1} = \\{(7,1), (9,2), (11,3)\\}\n",
        "$$\n",
        "\n",
        "---\n",
        "\n",
        "## Task 5: Non-Invertible Function\n",
        "\n",
        "Given $$ f = \\{(1,7), (2,7), (3,11)\\} $$:\n",
        "\n",
        "The inverse function attempts to swap the pairs, but note that $$ 7 $$ is mapped from multiple inputs. Therefore, $$ f $$ is **not invertible** as it fails the horizontal line test.\n",
        "\n",
        "---\n",
        "\n",
        "## Task 6: Inverse Function for $$ f(x) = x - 1 $$\n",
        "\n",
        "To find $$ f^{-1}(x) $$, solve $$ y = x - 1 $$ for $$ x $$:\n",
        "$$\n",
        "y = x - 1 \\implies x = y + 1 \\implies f^{-1}(x) = x + 1\n",
        "$$\n",
        "\n",
        "The inverse function is:\n",
        "$$\n",
        "f^{-1}(x) = x + 1\n",
        "$$\n",
        "\n",
        "**Visualisation :** https://www.geogebra.org/calculator/bqd32saz\n"
      ],
      "metadata": {
        "id": "yA7Xnk-SrK38"
      }
    }
  ]
}