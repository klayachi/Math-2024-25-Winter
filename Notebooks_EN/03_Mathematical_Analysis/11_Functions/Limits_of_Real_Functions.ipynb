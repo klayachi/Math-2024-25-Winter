{
  "nbformat": 4,
  "nbformat_minor": 0,
  "metadata": {
    "colab": {
      "provenance": [],
      "include_colab_link": true
    },
    "kernelspec": {
      "name": "python3",
      "display_name": "Python 3"
    },
    "language_info": {
      "name": "python"
    }
  },
  "cells": [
    {
      "cell_type": "markdown",
      "metadata": {
        "id": "view-in-github",
        "colab_type": "text"
      },
      "source": [
        "<a href=\"https://colab.research.google.com/github/klayachi/Math-2024-25-Winter/blob/main/Notebooks_EN/03_Mathematical_Analysis/11_Functions/Limits_of_Real_Functions.ipynb\" target=\"_parent\"><img src=\"https://colab.research.google.com/assets/colab-badge.svg\" alt=\"Open In Colab\"/></a>"
      ]
    },
    {
      "cell_type": "markdown",
      "source": [
        "## 20. Limits of Real Functions\n",
        "\n",
        "1. Compute:\n",
        "   - $\\displaystyle\\lim_{x \\to \\infty} \\frac{x^3 + 2x^2}{x^4 - 3x^3}$\n",
        "\n",
        "2. Find:\n",
        "   \n",
        "   - $\\displaystyle \\lim_{x \\to 0} \\frac{\\sin(3x)}{2x+1}$.\n",
        "\n",
        "4. Find the asymptotes of the function:\n",
        "  \n",
        "   - $f(x) = \\frac{x^2 - 1}{x^2 + 1}$\n",
        "   - $g(x) = \\frac{\\sin(x)}{x^2+1}$"
      ],
      "metadata": {
        "id": "6-kVkPFog8NZ"
      }
    },
    {
      "cell_type": "markdown",
      "source": [
        "#**HomeWork :**"
      ],
      "metadata": {
        "id": "ram613v-2BcL"
      }
    },
    {
      "cell_type": "markdown",
      "source": [
        "### Step 1: Compute Limits\n",
        "\n",
        "1. Compute:\n",
        "   - $$\\lim_{{x \\to \\infty}} \\frac{{x^3 + 2x^2}}{{x^4 - 3x^3}}$$\n",
        "   \n",
        "   Simplify by dividing the numerator and the denominator by $$x^4$$:\n",
        "\n",
        "   $$\n",
        "   \\lim_{{x \\to \\infty}} \\frac{{\\frac{x^3}{x^4} + \\frac{2x^2}{x^4}}}{{1 - \\frac{3x^3}{x^4}}} = \\lim_{{x \\to \\infty}} \\frac{{\\frac{1}{x} + \\frac{2}{x^2}}}{{1 - \\frac{3}{x}}}\n",
        "   $$\n",
        "\n",
        "   As $$x \\to \\infty$$, both $$\\frac{1}{x}$$ and $$\\frac{2}{x^2}$$ approach 0:\n",
        "\n",
        "   $$\n",
        "   \\lim_{{x \\to \\infty}} \\frac{{0 + 0}}{{1 - 0}} = 0\n",
        "   $$\n",
        "\n",
        "2. Find:\n",
        "   - $$\\lim_{{x \\to 0}} \\frac{{\\sin(3x)}}{{2x + 1}}$$\n",
        "\n",
        "   As $$x \\to 0$$, using the fact that $$\\sin(3x) \\approx 3x$$ for small values of $$x$$:\n",
        "\n",
        "   $$\n",
        "   \\lim_{{x \\to 0}} \\frac{{\\sin(3x)}}{{2x + 1}} \\approx \\lim_{{x \\to 0}} \\frac{{3x}}{{2x + 1}} = \\frac{0}{1} = 0\n",
        "   $$\n",
        "\n",
        "### Step 2: Find Asymptotes\n",
        "\n",
        "1. Find the asymptotes of the function:\n",
        "   - $$f(x) = \\frac{{x^2 - 1}}{{x^2 + 1}}$$\n",
        "\n",
        "   - Horizontal asymptote: As $$x \\to \\infty$$, the highest power terms dominate:\n",
        "\n",
        "     $$\n",
        "     \\lim_{{x \\to \\infty}} \\frac{{x^2}}{{x^2}} = 1\n",
        "     $$\n",
        "\n",
        "     So, the horizontal asymptote is $$y = 1$$.\n",
        "\n",
        "   - Vertical asymptote: Since the denominator $$x^2 + 1 \\neq 0$$ for all real $$x$$, there are no vertical asymptotes.\n",
        "\n",
        "2. Find the asymptotes of the function:\n",
        "   - $$g(x) = \\frac{{\\sin(x)}}{{x^2 + 1}}$$\n",
        "\n",
        "   - Horizontal asymptote: As $$x \\to \\infty$$, the denominator grows much faster than the numerator:\n",
        "\n",
        "     $$\n",
        "     \\lim_{{x \\to \\infty}} \\frac{{\\sin(x)}}{{x^2 + 1}} = 0\n",
        "     $$\n",
        "\n",
        "     So, the horizontal asymptote is $$y = 0$$.\n",
        "\n",
        "   - Vertical asymptote: The denominator $$x^2 + 1 \\neq 0$$ for all real $$x$$, so there are no vertical asymptotes.\n",
        "\n",
        "These are the step-by-step solutions to the specified limit problems and the process to find asymptotes. If you need further assistance or explanations, feel free to ask!"
      ],
      "metadata": {
        "id": "xBbBM6DvVIjC"
      }
    }
  ]
}