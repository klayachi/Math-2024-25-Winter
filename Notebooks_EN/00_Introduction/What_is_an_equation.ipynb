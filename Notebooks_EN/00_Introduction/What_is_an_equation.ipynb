{
  "cells": [
    {
      "cell_type": "markdown",
      "metadata": {
        "id": "pYYb1737FHiA"
      },
      "source": [
        "## Definition of an Equation\n",
        "\n",
        "An **equation** in mathematics is a formal expression that states that two values or expressions are equal. It consists of two parts: the left-hand side and the right-hand side, separated by an equals sign \"=\".\n",
        "\n",
        "Solving equations involves finding the values of the variables (called unknowns) that make the equation true.\n",
        "\n",
        "\n",
        "**Example 1**\n",
        "\n",
        "Consider the equation $2x + 3 = 7$. In this case, we have one variable $x$. When solving the equation, we want to find the value of $x$ for which the left-hand side is equal to the right-hand side. The solution of the equation is the set\n",
        "\n",
        "$$\n",
        "\\{x \\in \\mathbb{R} : 2x + 3 = 7\\} = \\{x \\in \\mathbb{R} : x = 2\\}= \\{2\\}\n",
        "$$\n",
        "\n",
        "where\n",
        "\n",
        "1. **$\\{x \\in \\mathbb{R} : 2x + 3 = 7\\}$**  \n",
        "   Read as:  \n",
        "   \"The set of all $x$ belonging to real numbers for which $2x + 3 = 7$.\"\n",
        "\n",
        "2. **$\\{x \\in \\mathbb{R} : x = 2\\}$**  \n",
        "   Read as:  \n",
        "   \"The set of all $x$ belonging to real numbers for which $x = 2$.\"\n",
        "\n",
        "3. **$\\{2\\}$**  \n",
        "   Read as:  \n",
        "   \"The set containing only the number 2.\"\n",
        "\n",
        "Thus, the entire construction shows that the solution to the equation $2x + 3 = 7$ is the number $x = 2$, which we write as the singleton set $\\{2\\}$.\n",
        "\n",
        "\n",
        "**Example 2**\n",
        "\n",
        "Consider the equation $x^2 - 4 = 0$. In this case, we have one variable $x$. When solving the equation, we want to find the value of $x$ for which the left-hand side is equal to the right-hand side. The solution of the equation is the set\n",
        "\n",
        "$$\n",
        "\\{x \\in \\mathbb{R} : x^2 - 4 = 0\\}= \\{x \\in \\mathbb{R} : x^2 = 4\\} = \\{x \\in \\mathbb{R} : x = 2 \\lor x = -2\\} = \\{2, -2\\}\n",
        "$$\n",
        "\n",
        "where\n",
        "\n",
        "1. **$\\{x \\in \\mathbb{R} : x^2 - 4 = 0\\}$**  \n",
        "   Read as:  \n",
        "   \"The set of all $x$ belonging to real numbers for which $x^2 - 4 = 0$.\"\n",
        "\n",
        "2. **$\\{x \\in \\mathbb{R} : x^2 = 4\\}$**  \n",
        "   Read as:  \n",
        "   \"The set of all $x$ belonging to real numbers for which $x^2 = 4$.\"\n",
        "\n",
        "3. **$\\{x \\in \\mathbb{R} : x = 2 \\lor x = -2\\}$**  \n",
        "   Read as:  \n",
        "   \"The set of all $x$ belonging to real numbers for which $x = 2$ or $x = -2$.\"\n",
        "\n",
        "4. **$\\{2, -2\\}$**  \n",
        "   Read as:  \n",
        "   \"The set containing the numbers 2 and -2.\"\n",
        "\n",
        "Thus, the entire construction shows that the solution to the equation $x^2 - 4 = 0$ is the numbers $x = 2$ and $x = -2$, which we write as the set $\\{2, -2\\}$.\n",
        "\n",
        "\n",
        "**Example 3**\n",
        "\n",
        "Consider the line given by the equation $y = 2x + 1$. In this case, we have two variables $x$ and $y$. When solving the equation, we want to find the values of $x$ and $y$ for which the left-hand side is equal to the right-hand side. The solution of the equation is the set\n",
        "\n",
        "$$\n",
        "\\{(x, y) \\in \\mathbb{R}^2 : (x \\in \\mathbb{R}) \\land (y = 2x + 1)\\} = \\{(x, 2x + 1) : x \\in \\mathbb{R}\\}\n",
        "$$\n",
        "\n",
        "where\n",
        "\n",
        "1. **$\\{(x, y) \\in \\mathbb{R}^2 : (x \\in \\mathbb{R}) \\land (y = 2x + 1)\\}$**  \n",
        "   Read as:  \n",
        "   \"The set of all pairs $(x, y)$ belonging to the plane $\\mathbb{R}^2$, where $x$ is a real number and $y = 2x + 1$.\"\n",
        "\n",
        "2. **$\\{(x, 2x + 1) : x \\in \\mathbb{R}\\}$**  \n",
        "   Read as:  \n",
        "   \"The set of all pairs of the form $(x, 2x + 1)$, where $x$ belongs to real numbers.\"\n",
        "\n",
        "Thus, the entire construction shows that the set of points $(x, y)$ that satisfy the equation $y = 2x + 1$ can be described as the set of pairs of the form $(x, 2x + 1)$, where $x$ is a real number.\n",
        "\n",
        "\n",
        "**Example 4**\n",
        "\n",
        "Sometimes we deal with implicit equations $F(x,y)$ that cannot be written in the form $y = f(x)$ or $x = f(y)$. Solving such an equation, as above, involves finding all pairs $(x, y)$ that satisfy the equation $F(x, y)$, which we write as\n",
        "\n",
        "$$\n",
        "\\{(x, y) \\in \\mathbb{R}^2 : F(x, y) = 0\\}\n",
        "$$\n",
        "\n",
        "The equation of a circle $x^2 + y^2 = 1$ is an example of an implicit equation. Let's find its solution. Consider the following equalities\n",
        "\n",
        "$$\n",
        "\\begin{cases}\n",
        "y_1=+\\sqrt{1-x^2}\\quad \\text{where } x\\in[-1,1]\\\\\n",
        "y_2=-\\sqrt{1-x^2}\\quad \\text{where } x\\in[-1,1]\\\\\n",
        "\\end{cases}\n",
        "$$\n",
        "\n",
        "We see that $y_1^2 = 1 - x^2$ and $y_2^2 = 1 - x^2$. This means that $y_1$ and $y_2$ satisfy the equation $x^2 + y^2 = 1$. Hence, the solution to the equation $x^2 + y^2 = 1$ is the set\n",
        "\n",
        "$$\n",
        "\\{(x, y) \\in \\mathbb{R}^2 : x^2 + y^2 = 1\\} = \\{(x, \\sqrt{1-x^2}) : x \\in [-1, 1]\\}\\cup\\{(x,-\\sqrt{1-x^2}) : x \\in [-1, 1]\\}\n",
        "$$\n",
        "\n",
        "1. **$\\{(x, y) \\in \\mathbb{R}^2 : x^2 + y^2 = 1\\}$**  \n",
        "   Read as:  \n",
        "   \"The set of all pairs $(x, y)$ belonging to the plane $\\mathbb{R}^2$, for which $x^2 + y^2 = 1$. This is the equation of a circle with radius 1 and center at $(0, 0)$.\"\n",
        "\n",
        "2. **$\\{(x, \\sqrt{1 - x^2}) : x \\in [-1, 1]\\}$**  \n",
        "   Read as:  \n",
        "   \"The set of all pairs of the form $(x, \\sqrt{1 - x^2})$, where $x$ belongs to the interval $[-1, 1]$. This is the upper semicircle.\"\n",
        "\n",
        "3. **$\\{(x, -\\sqrt{1 - x^2}) : x \\in [-1, 1]\\}$**  \n",
        "   Read as:  \n",
        "   \"The set of all pairs of the form $(x, -\\sqrt{1 - x^2})$, where $x$ belongs to the interval $[-1, 1]$. This is the lower semicircle.\"\n",
        "\n",
        "Thus, the entire construction shows that the set of points $(x, y)$ that satisfy the equation of the circle $x^2 + y^2 = 1$ can be described as the union of the sets: the upper semicircle $\\{(x, \\sqrt{1 - x^2})\\}$ and the lower semicircle $\\{(x, -\\sqrt{1 - x^2})\\}$, where $x$ belongs to the interval $[-1, 1]$.\n",
        "\n",
        "# Now we will see how we can manipulate equations in Python"
      ]
    },
    {
      "cell_type": "code",
      "execution_count": 5,
      "metadata": {
        "id": "Z94RVTvBFHiE"
      },
      "outputs": [],
      "source": [
        "# If we refer to an undefined variable in a function, Python will return an error\n",
        "z = 10"
      ]
    },
    {
      "cell_type": "code",
      "execution_count": 6,
      "metadata": {
        "id": "uaWjb-vfFHiG",
        "outputId": "629d6cd5-01e8-48fc-8cac-4aa375e7467a",
        "colab": {
          "base_uri": "https://localhost:8080/"
        }
      },
      "outputs": [
        {
          "output_type": "execute_result",
          "data": {
            "text/plain": [
              "10"
            ]
          },
          "metadata": {},
          "execution_count": 6
        }
      ],
      "source": [
        "# We can define the variable z\n",
        "z = 10 # assign the value 10 to variable z\n",
        "z      # display the value of variable z"
      ]
    },
    {
      "cell_type": "code",
      "execution_count": 7,
      "metadata": {
        "id": "9pie8WeCFHiG",
        "outputId": "911092f8-551a-42a0-d787-66f6469d130f",
        "colab": {
          "base_uri": "https://localhost:8080/"
        }
      },
      "outputs": [
        {
          "output_type": "execute_result",
          "data": {
            "text/plain": [
              "11"
            ]
          },
          "metadata": {},
          "execution_count": 7
        }
      ],
      "source": [
        "# We can add 1 to z\n",
        "z = z + 1 # assign the value z+1 to variable z\n",
        "z         # display the value of variable z"
      ]
    },
    {
      "cell_type": "markdown",
      "metadata": {
        "id": "VE4OnVPEFHiH"
      },
      "source": [
        "The problem with this approach is that it does not allow us to manipulate symbols! The above definition assigns a numerical value to the symbol rather than a symbolic one. In Python, we have the `sympy` library available, which allows us to manipulate symbols.\n",
        "\n",
        "Below, we will show some examples of how we can manipulate symbols and equations in Python."
      ]
    },
    {
      "cell_type": "code",
      "execution_count": 8,
      "metadata": {
        "id": "k4Qa0DKLFHiI"
      },
      "outputs": [],
      "source": [
        "# First, we import the sympy library (Symbolic Python)\n",
        "import sympy as sp\n",
        "\n",
        "# Define variables x and y as symbols\n",
        "x, y = sp.symbols('x y')"
      ]
    },
    {
      "cell_type": "code",
      "execution_count": 9,
      "metadata": {
        "id": "_-jaNtOoFHiJ",
        "outputId": "805e7fc8-3b49-4acf-a054-02bf66dedf93",
        "colab": {
          "base_uri": "https://localhost:8080/",
          "height": 39
        }
      },
      "outputs": [
        {
          "output_type": "execute_result",
          "data": {
            "text/plain": [
              "x"
            ],
            "text/latex": "$\\displaystyle x$"
          },
          "metadata": {},
          "execution_count": 9
        }
      ],
      "source": [
        "x # x is now a symbol"
      ]
    },
    {
      "cell_type": "code",
      "execution_count": 10,
      "metadata": {
        "id": "nknTHwE6FHiJ",
        "outputId": "57f7b04c-08a7-42da-80fd-5558184a84f1",
        "colab": {
          "base_uri": "https://localhost:8080/",
          "height": 39
        }
      },
      "outputs": [
        {
          "output_type": "execute_result",
          "data": {
            "text/plain": [
              "x + y"
            ],
            "text/latex": "$\\displaystyle x + y$"
          },
          "metadata": {},
          "execution_count": 10
        }
      ],
      "source": [
        "x + y # Python returns x + y as an expression, not a numerical value"
      ]
    },
    {
      "cell_type": "code",
      "execution_count": 11,
      "metadata": {
        "id": "sqayKLcqFHiJ",
        "outputId": "0ca053ce-dc3a-403e-a163-4c11595f01b8",
        "colab": {
          "base_uri": "https://localhost:8080/",
          "height": 39
        }
      },
      "outputs": [
        {
          "output_type": "execute_result",
          "data": {
            "text/plain": [
              "(x + y)**2"
            ],
            "text/latex": "$\\displaystyle \\left(x + y\\right)^{2}$"
          },
          "metadata": {},
          "execution_count": 11
        }
      ],
      "source": [
        "# We can perform more complex operations on variables\n",
        "expr1 = (x + y)**2 # assign the expression (x+y)^2 to variable expr1\n",
        "expr1            # display the value of variable expr1"
      ]
    },
    {
      "cell_type": "code",
      "execution_count": 12,
      "metadata": {
        "id": "nhyEwFwSFHiK",
        "outputId": "e4eaefcc-92f6-4e8e-db0a-0bec3be8eb33",
        "colab": {
          "base_uri": "https://localhost:8080/",
          "height": 39
        }
      },
      "outputs": [
        {
          "output_type": "execute_result",
          "data": {
            "text/plain": [
              "x**2 + 2*x*y + y**2"
            ],
            "text/latex": "$\\displaystyle x^{2} + 2 x y + y^{2}$"
          },
          "metadata": {},
          "execution_count": 12
        }
      ],
      "source": [
        "# We can expand the above expression\n",
        "sp.expand(expr1) # the expand command expands the expression"
      ]
    },
    {
      "cell_type": "code",
      "execution_count": 13,
      "metadata": {
        "id": "LRF2qPy5FHiK",
        "outputId": "13ba2b62-8586-424d-b1df-c0bf79b0cd36",
        "colab": {
          "base_uri": "https://localhost:8080/",
          "height": 39
        }
      },
      "outputs": [
        {
          "output_type": "execute_result",
          "data": {
            "text/plain": [
              "(x + y)**5"
            ],
            "text/latex": "$\\displaystyle \\left(x + y\\right)^{5}$"
          },
          "metadata": {},
          "execution_count": 13
        }
      ],
      "source": [
        "# More complex expression\n",
        "expr2 = (x + y)**5 # assign the expression (x+y)^5 to variable expr2\n",
        "expr2          # display the value of variable expr2"
      ]
    },
    {
      "cell_type": "code",
      "execution_count": 14,
      "metadata": {
        "id": "iyU8JZRoFHiK",
        "outputId": "68d63d9c-2234-4efc-c307-7c9a648de4c8",
        "colab": {
          "base_uri": "https://localhost:8080/",
          "height": 39
        }
      },
      "outputs": [
        {
          "output_type": "execute_result",
          "data": {
            "text/plain": [
              "x**5 + 5*x**4*y + 10*x**3*y**2 + 10*x**2*y**3 + 5*x*y**4 + y**5"
            ],
            "text/latex": "$\\displaystyle x^{5} + 5 x^{4} y + 10 x^{3} y^{2} + 10 x^{2} y^{3} + 5 x y^{4} + y^{5}$"
          },
          "metadata": {},
          "execution_count": 14
        }
      ],
      "source": [
        "expr2_expanded = sp.expand(expr2) # expand the expression\n",
        "expr2_expanded                    # display the value of variable expr2_expanded"
      ]
    },
    {
      "cell_type": "code",
      "execution_count": 15,
      "metadata": {
        "id": "08gF3HsKFHiL",
        "outputId": "66d59331-b54b-468c-953c-0c61463cb885",
        "colab": {
          "base_uri": "https://localhost:8080/",
          "height": 39
        }
      },
      "outputs": [
        {
          "output_type": "execute_result",
          "data": {
            "text/plain": [
              "y**5 + 10*y**4 + 40*y**3 + 80*y**2 + 80*y + 32"
            ],
            "text/latex": "$\\displaystyle y^{5} + 10 y^{4} + 40 y^{3} + 80 y^{2} + 80 y + 32$"
          },
          "metadata": {},
          "execution_count": 15
        }
      ],
      "source": [
        "# We can substitute specific values into variables, e.g., x=2\n",
        "expr2_expanded.subs(x, 2)  # subs(x, 2) substitutes x=2 into the expression"
      ]
    },
    {
      "cell_type": "code",
      "execution_count": 16,
      "metadata": {
        "id": "XYZra6FwFHiL",
        "outputId": "f0ae06a5-6469-42f0-f282-26857359f73b",
        "colab": {
          "base_uri": "https://localhost:8080/",
          "height": 39
        }
      },
      "outputs": [
        {
          "output_type": "execute_result",
          "data": {
            "text/plain": [
              "Eq(x**2, 1)"
            ],
            "text/latex": "$\\displaystyle x^{2} = 1$"
          },
          "metadata": {},
          "execution_count": 16
        }
      ],
      "source": [
        "# In sympy, we can define equations!\n",
        "eq1 = sp.Eq(x**2, 1)\n",
        "eq1"
      ]
    },
    {
      "cell_type": "code",
      "execution_count": 17,
      "metadata": {
        "id": "IrShdKkVFHiL",
        "outputId": "d961361e-385b-409e-a1fa-4b7e6f5896f8",
        "colab": {
          "base_uri": "https://localhost:8080/"
        }
      },
      "outputs": [
        {
          "output_type": "execute_result",
          "data": {
            "text/plain": [
              "[-1, 1]"
            ]
          },
          "metadata": {},
          "execution_count": 17
        }
      ],
      "source": [
        "# We can ask for solutions to the equation\n",
        "sol_eq1 = sp.solve(eq1)\n",
        "sol_eq1"
      ]
    },
    {
      "cell_type": "code",
      "execution_count": 18,
      "metadata": {
        "id": "g4fBNdcRFHiL",
        "outputId": "00a09831-d083-4c85-c352-5f155f30e3f0",
        "colab": {
          "base_uri": "https://localhost:8080/",
          "height": 37
        }
      },
      "outputs": [
        {
          "output_type": "execute_result",
          "data": {
            "text/plain": [
              "True"
            ],
            "text/latex": "$\\displaystyle \\text{True}$"
          },
          "metadata": {},
          "execution_count": 18
        }
      ],
      "source": [
        "# Check if the first solution satisfies the equation\n",
        "eq1.subs(x, sol_eq1[0]) # substitute the solution into the equation and check if it is satisfied"
      ]
    },
    {
      "cell_type": "code",
      "execution_count": 19,
      "metadata": {
        "id": "OORVkPm8FHiL",
        "outputId": "f7c0f3ea-3c0c-435f-91f1-2494f41a6f76",
        "colab": {
          "base_uri": "https://localhost:8080/",
          "height": 37
        }
      },
      "outputs": [
        {
          "output_type": "execute_result",
          "data": {
            "text/plain": [
              "True"
            ],
            "text/latex": "$\\displaystyle \\text{True}$"
          },
          "metadata": {},
          "execution_count": 19
        }
      ],
      "source": [
        "# Check if the second solution satisfies the equation\n",
        "eq1.subs(x, sol_eq1[1]) # substitute the solution into the equation and check if it is satisfied"
      ]
    },
    {
      "cell_type": "code",
      "execution_count": 20,
      "metadata": {
        "id": "Y3Q9yYwYFHiM",
        "outputId": "7ce0d4f4-fc9f-4f83-e40f-9dbb32f219df",
        "colab": {
          "base_uri": "https://localhost:8080/",
          "height": 39
        }
      },
      "outputs": [
        {
          "output_type": "execute_result",
          "data": {
            "text/plain": [
              "Eq(x**2 - 4*x + 3, 0)"
            ],
            "text/latex": "$\\displaystyle x^{2} - 4 x + 3 = 0$"
          },
          "metadata": {},
          "execution_count": 20
        }
      ],
      "source": [
        "# Another example\n",
        "eq2 = sp.Eq(x**2 - 4*x + 3, 0)\n",
        "eq2"
      ]
    },
    {
      "cell_type": "code",
      "execution_count": 21,
      "metadata": {
        "id": "-2gy2cmgFHiM",
        "outputId": "d573c3ba-f105-424b-fc48-7d058596e3f9",
        "colab": {
          "base_uri": "https://localhost:8080/"
        }
      },
      "outputs": [
        {
          "output_type": "execute_result",
          "data": {
            "text/plain": [
              "[1, 3]"
            ]
          },
          "metadata": {},
          "execution_count": 21
        }
      ],
      "source": [
        "# Solutions of the equation\n",
        "sol_eq2 = sp.solve(eq2)\n",
        "sol_eq2"
      ]
    },
    {
      "cell_type": "code",
      "execution_count": 22,
      "metadata": {
        "id": "8I_22mEKFHiM",
        "outputId": "fb445e4d-8036-42ad-99b4-c448d96c3f12",
        "colab": {
          "base_uri": "https://localhost:8080/",
          "height": 37
        }
      },
      "outputs": [
        {
          "output_type": "execute_result",
          "data": {
            "text/plain": [
              "True"
            ],
            "text/latex": "$\\displaystyle \\text{True}$"
          },
          "metadata": {},
          "execution_count": 22
        }
      ],
      "source": [
        "# Check the solutions\n",
        "eq2.subs(x, sol_eq2[0]) and eq2.subs(x, sol_eq2[1])"
      ]
    },
    {
      "cell_type": "code",
      "execution_count": 23,
      "metadata": {
        "id": "gzBRlr1vFHiM",
        "outputId": "a5c62eed-780b-4438-ab99-b3deb558cb65",
        "colab": {
          "base_uri": "https://localhost:8080/",
          "height": 39
        }
      },
      "outputs": [
        {
          "output_type": "execute_result",
          "data": {
            "text/plain": [
              "Eq(x**2 + y**2, 1)"
            ],
            "text/latex": "$\\displaystyle x^{2} + y^{2} = 1$"
          },
          "metadata": {},
          "execution_count": 23
        }
      ],
      "source": [
        "# Equation with two unknowns\n",
        "eq3 = sp.Eq(x**2 + y**2, 1)\n",
        "eq3"
      ]
    },
    {
      "cell_type": "code",
      "execution_count": 24,
      "metadata": {
        "id": "FeKdqfkmFHiM",
        "outputId": "47d6174b-fcb1-4c35-9f35-5ccfa21d083c",
        "colab": {
          "base_uri": "https://localhost:8080/"
        }
      },
      "outputs": [
        {
          "output_type": "execute_result",
          "data": {
            "text/plain": [
              "[-sqrt(1 - x**2), sqrt(1 - x**2)]"
            ]
          },
          "metadata": {},
          "execution_count": 24
        }
      ],
      "source": [
        "# Solutions of a quadratic equation with two unknowns\n",
        "sol_eq3 = sp.solve(eq3, y) # solve the equation for y as a function of x\n",
        "sol_eq3"
      ]
    },
    {
      "cell_type": "code",
      "execution_count": 25,
      "metadata": {
        "id": "s_6ndxtQFHiN",
        "outputId": "c9ee8ce1-129a-4344-9306-b534be0e4cbf",
        "colab": {
          "base_uri": "https://localhost:8080/",
          "height": 40
        }
      },
      "outputs": [
        {
          "output_type": "execute_result",
          "data": {
            "text/plain": [
              "-sqrt(1 - x**2)"
            ],
            "text/latex": "$\\displaystyle - \\sqrt{1 - x^{2}}$"
          },
          "metadata": {},
          "execution_count": 25
        }
      ],
      "source": [
        "# We can display the solutions of the equation in a more readable way\n",
        "sol_eq3[0]"
      ]
    },
    {
      "cell_type": "code",
      "execution_count": 26,
      "metadata": {
        "id": "DhM2PgJMFHiN",
        "outputId": "db7e723d-42cf-492a-e3de-28633cabe41f",
        "colab": {
          "base_uri": "https://localhost:8080/",
          "height": 40
        }
      },
      "outputs": [
        {
          "output_type": "execute_result",
          "data": {
            "text/plain": [
              "sqrt(1 - x**2)"
            ],
            "text/latex": "$\\displaystyle \\sqrt{1 - x^{2}}$"
          },
          "metadata": {},
          "execution_count": 26
        }
      ],
      "source": [
        "sol_eq3[1]"
      ]
    },
    {
      "cell_type": "code",
      "execution_count": 27,
      "metadata": {
        "id": "r2MwmNE7FHiN",
        "outputId": "1ddd5769-1832-4a6b-e616-5b8d0e002f46",
        "colab": {
          "base_uri": "https://localhost:8080/",
          "height": 37
        }
      },
      "outputs": [
        {
          "output_type": "execute_result",
          "data": {
            "text/plain": [
              "True"
            ],
            "text/latex": "$\\displaystyle \\text{True}$"
          },
          "metadata": {},
          "execution_count": 27
        }
      ],
      "source": [
        "# Check if the solutions satisfy the equation\n",
        "eq3.subs(y, sol_eq3[0]) and eq3.subs(y, sol_eq3[1])"
      ]
    },
    {
      "cell_type": "code",
      "execution_count": 28,
      "metadata": {
        "id": "m3ggjFStFHiN"
      },
      "outputs": [],
      "source": [
        "# Set the display mode for plots\n",
        "import matplotlib.pyplot as plt\n",
        "plt.rcParams['figure.figsize'] = [3, 3] # set plot size and aspect_ratio=1"
      ]
    },
    {
      "cell_type": "code",
      "execution_count": 29,
      "metadata": {
        "id": "sph6hBvXFHiN",
        "outputId": "0e048080-0832-4a70-9eb9-e23deb1eb42b",
        "colab": {
          "base_uri": "https://localhost:8080/",
          "height": 307
        }
      },
      "outputs": [
        {
          "output_type": "display_data",
          "data": {
            "text/plain": [
              "<Figure size 300x300 with 1 Axes>"
            ],
            "image/png": "[encoded data removed]"
          },
          "metadata": {}
        }
      ],
      "source": [
        "# We can also plot the solutions of the equation on the plane aspect_ratio=1\n",
        "sp.plot_implicit(eq3, (x, -2, 2), (y, -2, 2));"
      ]
    },
    {
      "cell_type": "code",
      "execution_count": 30,
      "metadata": {
        "id": "DZ_MfCQAFHiN",
        "outputId": "2b63e5c4-6ef2-4804-f693-7a7a641384a5",
        "colab": {
          "base_uri": "https://localhost:8080/",
          "height": 54
        }
      },
      "outputs": [
        {
          "output_type": "execute_result",
          "data": {
            "text/plain": [
              "Eq(x**2/4 + y**2, 1)"
            ],
            "text/latex": "$\\displaystyle \\frac{x^{2}}{4} + y^{2} = 1$"
          },
          "metadata": {},
          "execution_count": 30
        }
      ],
      "source": [
        "ellipse = sp.Eq(x**2/4 + y**2, 1)\n",
        "ellipse"
      ]
    },
    {
      "cell_type": "code",
      "execution_count": 31,
      "metadata": {
        "id": "vy6fp5qdFHiN",
        "outputId": "ce533c6f-bc7d-416e-c592-88fe1a74ec85",
        "colab": {
          "base_uri": "https://localhost:8080/",
          "height": 307
        }
      },
      "outputs": [
        {
          "output_type": "display_data",
          "data": {
            "text/plain": [
              "<Figure size 300x300 with 1 Axes>"
            ],
            "image/png": "[encoded data removed]"
          },
          "metadata": {}
        }
      ],
      "source": [
        "# We can also plot the solutions of the equation on the plane aspect_ratio=1\n",
        "sp.plot_implicit(ellipse, (x, -3, 3), (y, -3, 3));"
      ]
    },
    {
      "cell_type": "code",
      "execution_count": 32,
      "metadata": {
        "id": "acgROHVnFHiN",
        "outputId": "0775a7fa-4a6b-4fe3-ecba-340273e088d4",
        "colab": {
          "base_uri": "https://localhost:8080/",
          "height": 307
        }
      },
      "outputs": [
        {
          "output_type": "display_data",
          "data": {
            "text/plain": [
              "<Figure size 300x300 with 1 Axes>"
            ],
            "image/png": "[encoded data removed]"
          },
          "metadata": {}
        }
      ],
      "source": [
        "# We can also plot several equations on one plot\n",
        "line = sp.Eq(y, 2*x - 1)\n",
        "circle = sp.Eq(x**2 + y**2, 1)\n",
        "\n",
        "# Plotting the circle and ellipse on one plot\n",
        "p1 = sp.plot_implicit(line, (x, -2, 2), (y, -2, 2), show=False)\n",
        "p2 = sp.plot_implicit(circle, (x, -2, 2), (y, -2, 2), show=False)\n",
        "\n",
        "# Add the plots together\n",
        "p1.extend(p2) # \"attach\"\n",
        "p1.show()"
      ]
    },
    {
      "cell_type": "code",
      "execution_count": 33,
      "metadata": {
        "id": "J9LiY5e2FHiO",
        "outputId": "f7e78809-2c67-4d21-86c9-56a0d60695d2",
        "colab": {
          "base_uri": "https://localhost:8080/"
        }
      },
      "outputs": [
        {
          "output_type": "execute_result",
          "data": {
            "text/plain": [
              "[{x: 0, y: -1}, {x: 4/5, y: 3/5}]"
            ]
          },
          "metadata": {},
          "execution_count": 33
        }
      ],
      "source": [
        "# Let's see where the circle and the line intersect\n",
        "intersection_points = sp.solve([line, circle])\n",
        "intersection_points"
      ]
    },
    {
      "cell_type": "code",
      "execution_count": 34,
      "metadata": {
        "id": "SnfhZl_lFHiO",
        "outputId": "1ca5c7f2-2ac5-477f-dc7b-4f116e76fb81",
        "colab": {
          "base_uri": "https://localhost:8080/",
          "height": 39
        }
      },
      "outputs": [
        {
          "output_type": "execute_result",
          "data": {
            "text/plain": [
              "Eq(x + y, 1)"
            ],
            "text/latex": "$\\displaystyle x + y = 1$"
          },
          "metadata": {},
          "execution_count": 34
        }
      ],
      "source": [
        "# How to check if two equations are equivalent?\n",
        "\n",
        "# Let's write the same in a different form\n",
        "r1 = sp.Eq(x + y, 1)\n",
        "r1"
      ]
    },
    {
      "cell_type": "code",
      "execution_count": 35,
      "metadata": {
        "id": "IG9YfEOaFHiP",
        "outputId": "692e2696-cca3-4005-8d47-2c074e817446",
        "colab": {
          "base_uri": "https://localhost:8080/",
          "height": 39
        }
      },
      "outputs": [
        {
          "output_type": "execute_result",
          "data": {
            "text/plain": [
              "Eq(2*x - 2, -2*y)"
            ],
            "text/latex": "$\\displaystyle 2 x - 2 = - 2 y$"
          },
          "metadata": {},
          "execution_count": 35
        }
      ],
      "source": [
        "r2 = sp.Eq(2*x - 2, -2*y)\n",
        "r2"
      ]
    },
    {
      "cell_type": "code",
      "execution_count": 36,
      "metadata": {
        "id": "Jn_6lw4GFHiP",
        "outputId": "330d3741-984b-42c3-dcc5-26956d5a32c2",
        "colab": {
          "base_uri": "https://localhost:8080/"
        }
      },
      "outputs": [
        {
          "output_type": "execute_result",
          "data": {
            "text/plain": [
              "False"
            ]
          },
          "metadata": {},
          "execution_count": 36
        }
      ],
      "source": [
        "# We cannot directly compare two equations, but we can check if they are equivalent\n",
        "r1 == r2"
      ]
    },
    {
      "cell_type": "code",
      "execution_count": 37,
      "metadata": {
        "id": "chZYsiOXFHiP",
        "outputId": "99805047-3c09-435d-d4b8-5b720832ad60",
        "colab": {
          "base_uri": "https://localhost:8080/",
          "height": 54
        }
      },
      "outputs": [
        {
          "output_type": "execute_result",
          "data": {
            "text/plain": [
              "(x + y - 1)/(2*x + 2*y - 2)"
            ],
            "text/latex": "$\\displaystyle \\frac{x + y - 1}{2 x + 2 y - 2}$"
          },
          "metadata": {},
          "execution_count": 37
        }
      ],
      "source": [
        "# But if we make an expression\n",
        "ratio = (r1.lhs - r1.rhs) / (r2.lhs - r2.rhs)\n",
        "ratio"
      ]
    },
    {
      "cell_type": "code",
      "execution_count": 39,
      "metadata": {
        "id": "xpJWdinNFHiP",
        "outputId": "5f806dd3-2206-4c02-d946-8640e0c3b639",
        "colab": {
          "base_uri": "https://localhost:8080/",
          "height": 51
        }
      },
      "outputs": [
        {
          "output_type": "execute_result",
          "data": {
            "text/plain": [
              "1/2"
            ],
            "text/latex": "$\\displaystyle \\frac{1}{2}$"
          },
          "metadata": {},
          "execution_count": 39
        }
      ],
      "source": [
        "# simplify the expression\n",
        "sp.simplify(ratio)"
      ]
    }
  ],
  "metadata": {
    "kernelspec": {
      "display_name": "Python 3",
      "language": "python",
      "name": "python3"
    },
    "language_info": {
      "codemirror_mode": {
        "name": "ipython",
        "version": 3
      },
      "file_extension": ".py",
      "mimetype": "text/x-python",
      "name": "python",
      "nbconvert_exporter": "python",
      "pygments_lexer": "ipython3",
      "version": "3.11.9"
    },
    "colab": {
      "provenance": []
    }
  },
  "nbformat": 4,
  "nbformat_minor": 0
}